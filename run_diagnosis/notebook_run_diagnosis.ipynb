{
 "cells": [
  {
   "cell_type": "markdown",
   "id": "44c04c58-cbd4-427d-84dd-2e0ab7b1ec0d",
   "metadata": {},
   "source": [
    "."
   ]
  },
  {
   "cell_type": "code",
   "execution_count": null,
   "id": "7648de1e-8322-4419-953f-39d7607a00d4",
   "metadata": {},
   "outputs": [],
   "source": [
    "import matplotlib.pyplot as plt\n",
    "import numpy as np\n",
    "import astropy.units as u\n",
    "from datetime import datetime, timedelta\n",
    "from astropy.coordinates import SkyCoord, EarthLocation, AltAz, ICRS\n",
    "from ctapipe.coordinates import CameraFrame\n",
    "from lstchain.reco.utils import clip_alt\n",
    "import sys, os, glob, re, tables\n",
    "import pandas as pd\n",
    "pd.set_option(\"display.max_columns\", None) #\n",
    "\n",
    "import utils"
   ]
  },
  {
   "cell_type": "markdown",
   "id": "ebc37821-217a-465d-8ccc-45d59fb6e433",
   "metadata": {},
   "source": [
    "."
   ]
  },
  {
   "cell_type": "code",
   "execution_count": null,
   "id": "caa80d08-058c-49f3-bed7-53091eaae4cf",
   "metadata": {},
   "outputs": [],
   "source": [
    "run_number = 3599\n",
    "\n",
    "source_name = \"Crab\"\n",
    "\n",
    "# Use it in case you have all data in same subdirectory\n",
    "root_data = \"/fefs/aswg/workspace/juan.jimenez/data/cherenkov_transparency_corrections/crab/\"\n",
    "\n",
    "input_path_dl1 = None # Set to None if you want to use the standard one in IT cluster\n",
    "input_path_dl1_scaled = f\"{root_data}dl1_merged_scaled/dl1_LST-1.Run{run_number:05}.h5\" #\n",
    "\n",
    "input_path_dl3 = f\"{root_data}dl3_total/dl3_LST-1.Run{run_number:05}.fits\"\n",
    "input_path_dl3_scaled = f\"{root_data}dl3_scaled_total/dl3_LST-1.Run{run_number:05}.fits\" #\n",
    "\n",
    "input_path_dl2 = f\"{root_data}dl2_radec/dl2_LST-1.Run{run_number:05}_radec.h5\"\n",
    "input_path_dl2_scaled = f\"{root_data}dl2_scaled_radec/dl2_LST-1.Run{run_number:05}_radec.h5\" #\n"
   ]
  },
  {
   "cell_type": "markdown",
   "id": "cb492b2d-1555-4217-874c-1495c32cfc55",
   "metadata": {},
   "source": [
    "."
   ]
  },
  {
   "cell_type": "code",
   "execution_count": null,
   "id": "15132cd8-731f-425f-8d41-129c1db0ec13",
   "metadata": {},
   "outputs": [],
   "source": [
    "# Getting the DL1 filename for the file and the datacheck as well\n",
    "path_dl1        = utils.find_dl1_fname(run_number) if input_path_dl1 == None else input_path_dl1\n",
    "path_dl1_dcheck = utils.find_dl1_fname(run_number, dchecking=True, print_details=False)\n",
    "\n",
    "path_dl2, path_dl2_radec, path_dl3 = input_path_dl2, input_path_dl2_radec, input_path_dl3\n",
    "path_dl1_scaled, path_dl2_scaled = input_path_dl1_scaled, input_path_dl2_scaled             #\n",
    "path_dl2_radec_scaled, path_dl3_scaled = input_path_dl2_radec_scaled, input_path_dl3_scaled #\n",
    "\n",
    "table_dl1_datacheck, table_dl1, table_dl2, table_dl1_scaled, table_dl2_scaled = utils.open_files(global_variables=globals()) #"
   ]
  },
  {
   "cell_type": "code",
   "execution_count": null,
   "id": "648b8d74-0804-48d9-95c2-94ba1b2808cf",
   "metadata": {},
   "outputs": [],
   "source": [
    "# Reading DL1 and DL2 data"
   ]
  },
  {
   "cell_type": "markdown",
   "id": "d4c202ad-b621-40fb-9844-51338dc6b238",
   "metadata": {},
   "source": [
    "."
   ]
  },
  {
   "cell_type": "code",
   "execution_count": null,
   "id": "655485f5-39c5-4ffe-ae5a-fce4fb6436a1",
   "metadata": {},
   "outputs": [],
   "source": [
    "# Reading datacheck data\n",
    "# Direct quantities\n",
    "srun_number = table_dl1_datacheck.cosmics.col(\"subrun_index\")\n",
    "srun_elapsed_time = table_dl1_datacheck.cosmics.col(\"elapsed_time\")\n",
    "srun_cumulative_time = np.cumsum(srun_elapsed_time)\n",
    "srun_num_events = table_dl1_datacheck.cosmics.col(\"num_events\")\n",
    "srun_num_cleaned_events = table_dl1_datacheck.cosmics.col(\"num_cleaned_events\")\n",
    "srun_mean_az = np.rad2deg(table_dl1_datacheck.cosmics.col(\"mean_az_tel\"))\n",
    "srun_tel_ra  = table_dl1_datacheck.cosmics.col(\"tel_ra\")\n",
    "srun_tel_dec = table_dl1_datacheck.cosmics.col(\"tel_dec\")\n",
    "\n",
    "# Some manipulations\n",
    "srun_dragon_time = np.array([f[0] for f in table_dl1_datacheck.cosmics.col(\"dragon_time\")])\n",
    "srun_charge_mean = np.array([np.mean(f) for f in table_dl1_datacheck.cosmics.col(\"charge_mean\")])\n",
    "srun_charge_stdv = np.array([np.mean(f) for f in table_dl1_datacheck.cosmics.col(\"charge_stddev\")])\n",
    "srun_mean_zd = 90 - np.rad2deg(table_dl1_datacheck.cosmics.col(\"mean_alt_tel\"))\n",
    "srun_num_non_cleaned_events = srun_num_events - srun_num_cleaned_events\n",
    "\n",
    "# Calculations\n",
    "srun_rate_events = srun_num_events / srun_elapsed_time\n",
    "srun_rate_cleaned_events = srun_num_cleaned_events / srun_elapsed_time\n",
    "\n",
    "# Histogram binnings\n",
    "columns_binnings = table_dl1_datacheck.histogram_binning.colnames\n",
    "columns_hist = [col for col in table_dl1_datacheck.cosmics.colnames if \"hist_\" in col]\n",
    "for colname in columns_binnings:\n",
    "    _bins_ = table_dl1_datacheck.histogram_binning.col(colname)[0]\n",
    "    if len(_bins_.shape) == 1: # We get the binning if is simply an array (1-dimensional)\n",
    "        globals()[colname.replace(\"hist\", \"bins\")] = _bins_\n",
    "        # Computing central bins, in order to do it, we check for logarithmic scales\n",
    "        if np.sum(np.diff(np.diff(_bins_))) < 1e-14:\n",
    "            globals()[colname.replace(\"hist\", \"bins\") + \"_center\"] = (_bins_[1:] + _bins_[:-1]) / 2\n",
    "        else:\n",
    "            globals()[colname.replace(\"hist\", \"bins\") + \"_center\"] = (_bins_[1:] * _bins_[:-1]) ** 0.5\n",
    "\n",
    "for colname in columns_hist:\n",
    "    counts = table_dl1_datacheck.cosmics.col(colname)\n",
    "    if len(counts.shape) == 2: # We get the binning if is simply N arrays (1-dimensional)\n",
    "        globals()[colname] = counts"
   ]
  },
  {
   "cell_type": "code",
   "execution_count": null,
   "id": "b97e2cd7-ae99-4d28-8ab5-d291ed9f725c",
   "metadata": {},
   "outputs": [],
   "source": [
    "# Reading the cuts used from DL3\n"
   ]
  },
  {
   "cell_type": "code",
   "execution_count": null,
   "id": "36823cca-d41e-4238-bfb0-aa57e975ad14",
   "metadata": {},
   "outputs": [],
   "source": [
    "hist_width[0]"
   ]
  },
  {
   "cell_type": "code",
   "execution_count": null,
   "id": "9cbe9369-b78e-4f49-babc-4fd53e933514",
   "metadata": {},
   "outputs": [],
   "source": [
    "for col in columns_hist:\n",
    "    print(col)\n",
    "    bins = globals()[col.replace(\"hist\", \"bins\")+\"_center\"]\n",
    "    plt.title(col)\n",
    "    plt.plot(bins, globals()[col][10])\n",
    "    if np.sum(np.diff(np.diff(bins))) > 1e-14:\n",
    "        plt.loglog()\n",
    "    plt.show()\n",
    "# plt.xlim(4, 200)"
   ]
  },
  {
   "cell_type": "code",
   "execution_count": null,
   "id": "95f960b5-f877-4f65-811c-180120cb4b5d",
   "metadata": {},
   "outputs": [],
   "source": [
    "fig, ax = plt.subplots(figsize=(7, 3))\n",
    "\n",
    "ax.plot(srun_number, srun_elapsed_time, ds=\"steps-mid\")\n",
    "\n",
    "# ax.set_yscale(\"log\")\n",
    "ax.grid()\n",
    "plt.show()"
   ]
  },
  {
   "cell_type": "code",
   "execution_count": null,
   "id": "5ede487a-8579-40bd-b603-4572b26bcd9f",
   "metadata": {
    "scrolled": true
   },
   "outputs": [],
   "source": [
    "fig, ax = plt.subplots(figsize=(7, 3))\n",
    "\n",
    "ax.plot(srun_cumulative_time, srun_rates, ds=\"steps-post\")\n",
    "ax.plot(srun_cumulative_time, srun_rate_cleaned_events, ds=\"steps-post\")\n",
    "\n",
    "# ax.set_yscale(\"log\")\n",
    "ax.grid()\n",
    "plt.show()"
   ]
  },
  {
   "cell_type": "code",
   "execution_count": null,
   "id": "340e0087-0868-45b0-8df1-527eba92a511",
   "metadata": {},
   "outputs": [],
   "source": [
    "file_dl1_datacheck.cosmics.col(\"charge_mean\")"
   ]
  },
  {
   "cell_type": "code",
   "execution_count": null,
   "id": "2a808b2a-881b-4450-ad8f-4c20e2aa7d6e",
   "metadata": {
    "scrolled": true
   },
   "outputs": [],
   "source": [
    "file_dl1_datacheck.cosmics"
   ]
  },
  {
   "cell_type": "code",
   "execution_count": null,
   "id": "85f9e4d9-0880-49c5-bbdd-f9f79534f424",
   "metadata": {},
   "outputs": [],
   "source": [
    "file_dl1_datacheck.cosmics.col(\"dragon_time\")"
   ]
  },
  {
   "cell_type": "code",
   "execution_count": null,
   "id": "9c616866-a8fe-4475-bf40-f1e2fe70aef6",
   "metadata": {},
   "outputs": [],
   "source": [
    "# Source data\n",
    "source_coordinates = SkyCoord.from_name(source_name, frame=\"icrs\")\n",
    "source_ra, source_dec = source_coordinates.ra.deg, source_coordinates.dec.deg"
   ]
  },
  {
   "cell_type": "code",
   "execution_count": null,
   "id": "843e065e-d014-40ed-899c-376f49d927ce",
   "metadata": {},
   "outputs": [],
   "source": []
  },
  {
   "cell_type": "code",
   "execution_count": null,
   "id": "0c096fec-c0e3-4250-9b2a-b3e7c5ff49fa",
   "metadata": {},
   "outputs": [],
   "source": [
    "plt.plot(srun_tel_ra, srun_tel_dec, \".\");"
   ]
  },
  {
   "cell_type": "code",
   "execution_count": null,
   "id": "dfa2da8b-a987-4801-a28d-f1320a1cd538",
   "metadata": {
    "scrolled": true
   },
   "outputs": [],
   "source": [
    "file_dl1_datacheck.dl1datacheck.cosmics.col(\"num_ucts_jumps\")"
   ]
  },
  {
   "cell_type": "code",
   "execution_count": null,
   "id": "2a353d8d-3869-4f60-bad8-b0e524afa1b1",
   "metadata": {},
   "outputs": [],
   "source": [
    "pd.read_hdf(path_dl1_dcheck, \"/dl1datacheck/cosmics\")"
   ]
  },
  {
   "cell_type": "code",
   "execution_count": null,
   "id": "f8134d77-17f6-442e-9af3-95268f4351df",
   "metadata": {},
   "outputs": [],
   "source": [
    "tab = pd.read_hdf(path_dl1_scaled, \"/dl1/event/telescope/parameters/LST_LSTCam\")"
   ]
  },
  {
   "cell_type": "code",
   "execution_count": null,
   "id": "b69a7a43-2b35-4b02-a9f8-2bf1975f98e0",
   "metadata": {},
   "outputs": [],
   "source": [
    "tab"
   ]
  },
  {
   "cell_type": "code",
   "execution_count": null,
   "id": "3c1637a3-785a-47dc-b2ff-c008e5c35bbd",
   "metadata": {},
   "outputs": [],
   "source": [
    "find_run_datacheck(run_number)"
   ]
  },
  {
   "cell_type": "code",
   "execution_count": null,
   "id": "09ccf4f4-fd68-410c-bbc2-1b9fa348f117",
   "metadata": {},
   "outputs": [],
   "source": [
    "path_dl1_datacheck = "
   ]
  },
  {
   "cell_type": "code",
   "execution_count": null,
   "id": "8b75b91c-5f10-4116-87cc-7c7264eae77a",
   "metadata": {},
   "outputs": [],
   "source": []
  },
  {
   "cell_type": "code",
   "execution_count": null,
   "id": "12956f2f-cc8f-4478-9aa1-a6350a748895",
   "metadata": {},
   "outputs": [],
   "source": []
  },
  {
   "cell_type": "code",
   "execution_count": null,
   "id": "d5421f36-ee51-45f8-8646-6969bb7af399",
   "metadata": {},
   "outputs": [],
   "source": []
  }
 ],
 "metadata": {
  "kernelspec": {
   "display_name": "Python 3 (ipykernel)",
   "language": "python",
   "name": "python3"
  },
  "language_info": {
   "codemirror_mode": {
    "name": "ipython",
    "version": 3
   },
   "file_extension": ".py",
   "mimetype": "text/x-python",
   "name": "python",
   "nbconvert_exporter": "python",
   "pygments_lexer": "ipython3",
   "version": "3.11.6"
  }
 },
 "nbformat": 4,
 "nbformat_minor": 5
}
