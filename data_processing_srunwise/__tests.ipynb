{
 "cells": [
  {
   "cell_type": "code",
   "execution_count": 1,
   "id": "5a0b277a-2cba-4885-a1e2-f0e9773a8faa",
   "metadata": {},
   "outputs": [],
   "source": [
    "import os\n",
    "import glob\n",
    "import pandas as pd\n",
    "import numpy as np\n",
    "import matplotlib.pyplot as plt\n",
    "from matplotlib import colors\n",
    "from astropy.coordinates import SkyCoord\n",
    "import astropy.units as u\n",
    "import lstchain\n",
    "import subprocess"
   ]
  },
  {
   "cell_type": "code",
   "execution_count": 11,
   "id": "b392aeb1-1fe6-4056-aeef-05c33fcb057a",
   "metadata": {},
   "outputs": [],
   "source": [
    "dl1_orig_path = \"/fefs/aswg/workspace/juan.jimenez/data/tests/crab/dl1_orig/\"\n",
    "dl2_orig_path = \"/fefs/aswg/workspace/juan.jimenez/data/tests/crab/dl2_orig/\"\n",
    "dl3_orig_path = \"/fefs/aswg/workspace/juan.jimenez/data/tests/crab/dl3_orig/\"\n",
    "\n",
    "dl1_s_path = \"/fefs/aswg/workspace/juan.jimenez/data/cherenkov_transparency_corrections/crab/dl1_merged_scaled/\"\n",
    "\n",
    "dl2_paper_path    = \"/fefs/aswg/workspace/juan.jimenez/data/tests/crab/dl2_paper/\"\n",
    "dl2_s_path        = \"/fefs/aswg/workspace/juan.jimenez/data/tests/crab/dl2_scaled/\"\n",
    "dl3_s_path        = \"/fefs/aswg/workspace/juan.jimenez/data/tests/crab/dl3_scaled/\"\n",
    "dl3_paper_path    = \"/fefs/aswg/workspace/juan.jimenez/data/tests/crab/dl3_paper/\"\n",
    "dl3_paper_path_re = \"/fefs/aswg/workspace/juan.jimenez/data/tests/crab/dl3_paper_re/\"\n",
    "\n",
    "irfs_path = \"/fefs/aswg/workspace/juan.jimenez/data/cherenkov_transparency_corrections/crab/irfs/\"\n",
    "rfs_path  = \"/fefs/aswg/data/models/AllSky/20230927_v0.10.4_crab_tuned/dec_2276/\"\n",
    "\n",
    "config_irf = \"/fefs/aswg/workspace/juan.jimenez/softs/analysis-school-2024/cta-lstchain/docs/examples/irf_tool_config.json\"\n",
    "lstchain_dir = os.path.dirname(lstchain.__file__)\n",
    "config_file = f'{lstchain_dir}/data/lstchain_standard_config.json'\n",
    "\n",
    "source_name = \"Crab\"\n",
    "source_ra = \"83.63308333deg\"\n",
    "source_dec = \"22.0145deg\""
   ]
  },
  {
   "cell_type": "code",
   "execution_count": 10,
   "id": "feccb4c1-8485-4e54-8407-43d779e849c0",
   "metadata": {},
   "outputs": [
    {
     "name": "stdout",
     "output_type": "stream",
     "text": [
      "lstchain_dl1_to_dl2 --input-files /fefs/aswg/workspace/juan.jimenez/data/cherenkov_transparency_corrections/crab/dl1_merged_scaled/dl1_LST-1.Run02914.h5 --path-models /fefs/aswg/data/models/AllSky/20230927_v0.10.4_crab_tuned/dec_2276/ --output-dir /fefs/aswg/workspace/juan.jimenez/data/tests/crab/dl2_scaled/ --config /fefs/aswg/workspace/juan.jimenez/softs/cta-lstchain/lstchain/data/lstchain_standard_config.json\n"
     ]
    },
    {
     "name": "stderr",
     "output_type": "stream",
     "text": [
      "/fefs/aswg/workspace/juan.jimenez/softs/cta-lstchain/lstchain/reco/utils.py:536: FutureWarning: use_inf_as_na option is deprecated and will be removed in a future version. Convert inf values to NaN before operating instead.\n",
      "  with pd.option_context('mode.use_inf_as_na', True):\n",
      "Data contains not-predictable events.\n",
      "Column | Number of non finite values\n",
      "length : 1051994\n",
      "y : 1051994\n",
      "skewness : 1051994\n",
      "leakage_intensity_width_2 : 1051994\n",
      "kurtosis : 1051994\n",
      "width : 1051994\n",
      "x : 1051994\n",
      "time_gradient : 1064754\n",
      "wl : 1051994\n",
      "log_intensity : 1051994\n",
      "/fefs/aswg/workspace/juan.jimenez/softs/cta-lstchain/lstchain/reco/utils.py:536: FutureWarning: use_inf_as_na option is deprecated and will be removed in a future version. Convert inf values to NaN before operating instead.\n",
      "  with pd.option_context('mode.use_inf_as_na', True):\n",
      "/fefs/aswg/workspace/juan.jimenez/.conda/envs/lst-dev2/lib/python3.11/site-packages/sklearn/utils/validation.py:767: FutureWarning: is_sparse is deprecated and will be removed in a future version. Check `isinstance(dtype, pd.SparseDtype)` instead.\n",
      "  if not hasattr(array, \"sparse\") and array.dtypes.apply(is_sparse).any():\n",
      "/fefs/aswg/workspace/juan.jimenez/.conda/envs/lst-dev2/lib/python3.11/site-packages/sklearn/utils/validation.py:605: FutureWarning: is_sparse is deprecated and will be removed in a future version. Check `isinstance(dtype, pd.SparseDtype)` instead.\n",
      "  if is_sparse(pd_dtype):\n",
      "/fefs/aswg/workspace/juan.jimenez/.conda/envs/lst-dev2/lib/python3.11/site-packages/sklearn/utils/validation.py:614: FutureWarning: is_sparse is deprecated and will be removed in a future version. Check `isinstance(dtype, pd.SparseDtype)` instead.\n",
      "  if is_sparse(pd_dtype) or not is_extension_array_dtype(pd_dtype):\n",
      "/fefs/aswg/workspace/juan.jimenez/.conda/envs/lst-dev2/lib/python3.11/site-packages/sklearn/utils/validation.py:767: FutureWarning: is_sparse is deprecated and will be removed in a future version. Check `isinstance(dtype, pd.SparseDtype)` instead.\n",
      "  if not hasattr(array, \"sparse\") and array.dtypes.apply(is_sparse).any():\n",
      "/fefs/aswg/workspace/juan.jimenez/.conda/envs/lst-dev2/lib/python3.11/site-packages/sklearn/utils/validation.py:605: FutureWarning: is_sparse is deprecated and will be removed in a future version. Check `isinstance(dtype, pd.SparseDtype)` instead.\n",
      "  if is_sparse(pd_dtype):\n",
      "/fefs/aswg/workspace/juan.jimenez/.conda/envs/lst-dev2/lib/python3.11/site-packages/sklearn/utils/validation.py:614: FutureWarning: is_sparse is deprecated and will be removed in a future version. Check `isinstance(dtype, pd.SparseDtype)` instead.\n",
      "  if is_sparse(pd_dtype) or not is_extension_array_dtype(pd_dtype):\n",
      "/fefs/aswg/workspace/juan.jimenez/.conda/envs/lst-dev2/lib/python3.11/site-packages/sklearn/utils/validation.py:767: FutureWarning: is_sparse is deprecated and will be removed in a future version. Check `isinstance(dtype, pd.SparseDtype)` instead.\n",
      "  if not hasattr(array, \"sparse\") and array.dtypes.apply(is_sparse).any():\n",
      "/fefs/aswg/workspace/juan.jimenez/.conda/envs/lst-dev2/lib/python3.11/site-packages/sklearn/utils/validation.py:605: FutureWarning: is_sparse is deprecated and will be removed in a future version. Check `isinstance(dtype, pd.SparseDtype)` instead.\n",
      "  if is_sparse(pd_dtype):\n",
      "/fefs/aswg/workspace/juan.jimenez/.conda/envs/lst-dev2/lib/python3.11/site-packages/sklearn/utils/validation.py:614: FutureWarning: is_sparse is deprecated and will be removed in a future version. Check `isinstance(dtype, pd.SparseDtype)` instead.\n",
      "  if is_sparse(pd_dtype) or not is_extension_array_dtype(pd_dtype):\n",
      "/fefs/aswg/workspace/juan.jimenez/.conda/envs/lst-dev2/lib/python3.11/site-packages/sklearn/utils/validation.py:767: FutureWarning: is_sparse is deprecated and will be removed in a future version. Check `isinstance(dtype, pd.SparseDtype)` instead.\n",
      "  if not hasattr(array, \"sparse\") and array.dtypes.apply(is_sparse).any():\n",
      "/fefs/aswg/workspace/juan.jimenez/.conda/envs/lst-dev2/lib/python3.11/site-packages/sklearn/utils/validation.py:605: FutureWarning: is_sparse is deprecated and will be removed in a future version. Check `isinstance(dtype, pd.SparseDtype)` instead.\n",
      "  if is_sparse(pd_dtype):\n",
      "/fefs/aswg/workspace/juan.jimenez/.conda/envs/lst-dev2/lib/python3.11/site-packages/sklearn/utils/validation.py:614: FutureWarning: is_sparse is deprecated and will be removed in a future version. Check `isinstance(dtype, pd.SparseDtype)` instead.\n",
      "  if is_sparse(pd_dtype) or not is_extension_array_dtype(pd_dtype):\n",
      "/fefs/aswg/workspace/juan.jimenez/.conda/envs/lst-dev2/lib/python3.11/site-packages/sklearn/utils/validation.py:767: FutureWarning: is_sparse is deprecated and will be removed in a future version. Check `isinstance(dtype, pd.SparseDtype)` instead.\n",
      "  if not hasattr(array, \"sparse\") and array.dtypes.apply(is_sparse).any():\n",
      "/fefs/aswg/workspace/juan.jimenez/.conda/envs/lst-dev2/lib/python3.11/site-packages/sklearn/utils/validation.py:605: FutureWarning: is_sparse is deprecated and will be removed in a future version. Check `isinstance(dtype, pd.SparseDtype)` instead.\n",
      "  if is_sparse(pd_dtype):\n",
      "/fefs/aswg/workspace/juan.jimenez/.conda/envs/lst-dev2/lib/python3.11/site-packages/sklearn/utils/validation.py:614: FutureWarning: is_sparse is deprecated and will be removed in a future version. Check `isinstance(dtype, pd.SparseDtype)` instead.\n",
      "  if is_sparse(pd_dtype) or not is_extension_array_dtype(pd_dtype):\n",
      "/fefs/aswg/workspace/juan.jimenez/.conda/envs/lst-dev2/lib/python3.11/site-packages/tables/path.py:137: NaturalNameWarning: object name is not a valid Python identifier: 'layout.__table_column_meta__'; it does not match the pattern ``^[a-zA-Z_][a-zA-Z0-9_]*$``; you will not be able to use natural naming to access this object; using ``getattr()`` will still work, though\n",
      "  check_attribute_name(name)\n",
      "/fefs/aswg/workspace/juan.jimenez/.conda/envs/lst-dev2/lib/python3.11/site-packages/tables/path.py:137: NaturalNameWarning: object name is not a valid Python identifier: 'optics.__table_column_meta__'; it does not match the pattern ``^[a-zA-Z_][a-zA-Z0-9_]*$``; you will not be able to use natural naming to access this object; using ``getattr()`` will still work, though\n",
      "  check_attribute_name(name)\n",
      "/fefs/aswg/workspace/juan.jimenez/.conda/envs/lst-dev2/lib/python3.11/site-packages/tables/path.py:137: NaturalNameWarning: object name is not a valid Python identifier: 'geometry_0.__table_column_meta__'; it does not match the pattern ``^[a-zA-Z_][a-zA-Z0-9_]*$``; you will not be able to use natural naming to access this object; using ``getattr()`` will still work, though\n",
      "  check_attribute_name(name)\n",
      "/fefs/aswg/workspace/juan.jimenez/.conda/envs/lst-dev2/lib/python3.11/site-packages/tables/path.py:137: NaturalNameWarning: object name is not a valid Python identifier: 'readout_0.__table_column_meta__'; it does not match the pattern ``^[a-zA-Z_][a-zA-Z0-9_]*$``; you will not be able to use natural naming to access this object; using ``getattr()`` will still work, though\n",
      "  check_attribute_name(name)\n"
     ]
    },
    {
     "name": "stdout",
     "output_type": "stream",
     "text": [
      "lstchain_dl1_to_dl2 --input-files /fefs/aswg/workspace/juan.jimenez/data/cherenkov_transparency_corrections/crab/dl1_merged_scaled/dl1_LST-1.Run02929.h5 --path-models /fefs/aswg/data/models/AllSky/20230927_v0.10.4_crab_tuned/dec_2276/ --output-dir /fefs/aswg/workspace/juan.jimenez/data/tests/crab/dl2_scaled/ --config /fefs/aswg/workspace/juan.jimenez/softs/cta-lstchain/lstchain/data/lstchain_standard_config.json\n"
     ]
    },
    {
     "name": "stderr",
     "output_type": "stream",
     "text": [
      "/fefs/aswg/workspace/juan.jimenez/softs/cta-lstchain/lstchain/reco/utils.py:536: FutureWarning: use_inf_as_na option is deprecated and will be removed in a future version. Convert inf values to NaN before operating instead.\n",
      "  with pd.option_context('mode.use_inf_as_na', True):\n",
      "Data contains not-predictable events.\n",
      "Column | Number of non finite values\n",
      "log_intensity : 5486737\n",
      "length : 5486737\n",
      "width : 5486737\n",
      "x : 5486737\n",
      "kurtosis : 5486737\n",
      "leakage_intensity_width_2 : 5486737\n",
      "skewness : 5486737\n",
      "time_gradient : 5543658\n",
      "wl : 5486737\n",
      "y : 5486737\n",
      "/fefs/aswg/workspace/juan.jimenez/softs/cta-lstchain/lstchain/reco/utils.py:536: FutureWarning: use_inf_as_na option is deprecated and will be removed in a future version. Convert inf values to NaN before operating instead.\n",
      "  with pd.option_context('mode.use_inf_as_na', True):\n",
      "/fefs/aswg/workspace/juan.jimenez/.conda/envs/lst-dev2/lib/python3.11/site-packages/sklearn/utils/validation.py:767: FutureWarning: is_sparse is deprecated and will be removed in a future version. Check `isinstance(dtype, pd.SparseDtype)` instead.\n",
      "  if not hasattr(array, \"sparse\") and array.dtypes.apply(is_sparse).any():\n",
      "/fefs/aswg/workspace/juan.jimenez/.conda/envs/lst-dev2/lib/python3.11/site-packages/sklearn/utils/validation.py:605: FutureWarning: is_sparse is deprecated and will be removed in a future version. Check `isinstance(dtype, pd.SparseDtype)` instead.\n",
      "  if is_sparse(pd_dtype):\n",
      "/fefs/aswg/workspace/juan.jimenez/.conda/envs/lst-dev2/lib/python3.11/site-packages/sklearn/utils/validation.py:614: FutureWarning: is_sparse is deprecated and will be removed in a future version. Check `isinstance(dtype, pd.SparseDtype)` instead.\n",
      "  if is_sparse(pd_dtype) or not is_extension_array_dtype(pd_dtype):\n",
      "/fefs/aswg/workspace/juan.jimenez/.conda/envs/lst-dev2/lib/python3.11/site-packages/sklearn/utils/validation.py:767: FutureWarning: is_sparse is deprecated and will be removed in a future version. Check `isinstance(dtype, pd.SparseDtype)` instead.\n",
      "  if not hasattr(array, \"sparse\") and array.dtypes.apply(is_sparse).any():\n",
      "/fefs/aswg/workspace/juan.jimenez/.conda/envs/lst-dev2/lib/python3.11/site-packages/sklearn/utils/validation.py:605: FutureWarning: is_sparse is deprecated and will be removed in a future version. Check `isinstance(dtype, pd.SparseDtype)` instead.\n",
      "  if is_sparse(pd_dtype):\n",
      "/fefs/aswg/workspace/juan.jimenez/.conda/envs/lst-dev2/lib/python3.11/site-packages/sklearn/utils/validation.py:614: FutureWarning: is_sparse is deprecated and will be removed in a future version. Check `isinstance(dtype, pd.SparseDtype)` instead.\n",
      "  if is_sparse(pd_dtype) or not is_extension_array_dtype(pd_dtype):\n",
      "/fefs/aswg/workspace/juan.jimenez/.conda/envs/lst-dev2/lib/python3.11/site-packages/sklearn/utils/validation.py:767: FutureWarning: is_sparse is deprecated and will be removed in a future version. Check `isinstance(dtype, pd.SparseDtype)` instead.\n",
      "  if not hasattr(array, \"sparse\") and array.dtypes.apply(is_sparse).any():\n",
      "/fefs/aswg/workspace/juan.jimenez/.conda/envs/lst-dev2/lib/python3.11/site-packages/sklearn/utils/validation.py:605: FutureWarning: is_sparse is deprecated and will be removed in a future version. Check `isinstance(dtype, pd.SparseDtype)` instead.\n",
      "  if is_sparse(pd_dtype):\n",
      "/fefs/aswg/workspace/juan.jimenez/.conda/envs/lst-dev2/lib/python3.11/site-packages/sklearn/utils/validation.py:614: FutureWarning: is_sparse is deprecated and will be removed in a future version. Check `isinstance(dtype, pd.SparseDtype)` instead.\n",
      "  if is_sparse(pd_dtype) or not is_extension_array_dtype(pd_dtype):\n",
      "/fefs/aswg/workspace/juan.jimenez/.conda/envs/lst-dev2/lib/python3.11/site-packages/sklearn/utils/validation.py:767: FutureWarning: is_sparse is deprecated and will be removed in a future version. Check `isinstance(dtype, pd.SparseDtype)` instead.\n",
      "  if not hasattr(array, \"sparse\") and array.dtypes.apply(is_sparse).any():\n",
      "/fefs/aswg/workspace/juan.jimenez/.conda/envs/lst-dev2/lib/python3.11/site-packages/sklearn/utils/validation.py:605: FutureWarning: is_sparse is deprecated and will be removed in a future version. Check `isinstance(dtype, pd.SparseDtype)` instead.\n",
      "  if is_sparse(pd_dtype):\n",
      "/fefs/aswg/workspace/juan.jimenez/.conda/envs/lst-dev2/lib/python3.11/site-packages/sklearn/utils/validation.py:614: FutureWarning: is_sparse is deprecated and will be removed in a future version. Check `isinstance(dtype, pd.SparseDtype)` instead.\n",
      "  if is_sparse(pd_dtype) or not is_extension_array_dtype(pd_dtype):\n",
      "/fefs/aswg/workspace/juan.jimenez/.conda/envs/lst-dev2/lib/python3.11/site-packages/sklearn/utils/validation.py:767: FutureWarning: is_sparse is deprecated and will be removed in a future version. Check `isinstance(dtype, pd.SparseDtype)` instead.\n",
      "  if not hasattr(array, \"sparse\") and array.dtypes.apply(is_sparse).any():\n",
      "/fefs/aswg/workspace/juan.jimenez/.conda/envs/lst-dev2/lib/python3.11/site-packages/sklearn/utils/validation.py:605: FutureWarning: is_sparse is deprecated and will be removed in a future version. Check `isinstance(dtype, pd.SparseDtype)` instead.\n",
      "  if is_sparse(pd_dtype):\n",
      "/fefs/aswg/workspace/juan.jimenez/.conda/envs/lst-dev2/lib/python3.11/site-packages/sklearn/utils/validation.py:614: FutureWarning: is_sparse is deprecated and will be removed in a future version. Check `isinstance(dtype, pd.SparseDtype)` instead.\n",
      "  if is_sparse(pd_dtype) or not is_extension_array_dtype(pd_dtype):\n"
     ]
    }
   ],
   "source": [
    "for file in [dl1_s_path+\"dl1_LST-1.Run02914.h5\", dl1_s_path+\"dl1_LST-1.Run02929.h5\"]:\n",
    "    comm = f\"lstchain_dl1_to_dl2 --input-files {file} --path-models {rfs_path} --output-dir {dl2_s_path} --config {config_file}\"\n",
    "    print(comm)\n",
    "    subprocess.run(comm, shell=True)"
   ]
  },
  {
   "cell_type": "code",
   "execution_count": 19,
   "id": "22ee94ba-77a2-474b-a423-b45c77d9e3ca",
   "metadata": {
    "scrolled": true
   },
   "outputs": [
    {
     "name": "stdout",
     "output_type": "stream",
     "text": [
      "lstchain_dl1_to_dl2 --input-files /fefs/aswg/workspace/juan.jimenez/data/tests/crab/dl1_orig/dl1_LST-1.Run02914.h5 --path-models /fefs/aswg/data/models/AllSky/20230927_v0.10.4_crab_tuned/dec_2276/ --output-dir /fefs/aswg/workspace/juan.jimenez/data/tests/crab/dl2_orig/ --config /fefs/aswg/workspace/juan.jimenez/softs/cta-lstchain/lstchain/data/lstchain_standard_config.json\n"
     ]
    },
    {
     "name": "stderr",
     "output_type": "stream",
     "text": [
      "/fefs/aswg/workspace/juan.jimenez/softs/cta-lstchain/lstchain/reco/utils.py:536: FutureWarning: use_inf_as_na option is deprecated and will be removed in a future version. Convert inf values to NaN before operating instead.\n",
      "  with pd.option_context('mode.use_inf_as_na', True):\n",
      "Data contains not-predictable events.\n",
      "Column | Number of non finite values\n",
      "skewness : 1165728\n",
      "y : 1165728\n",
      "leakage_intensity_width_2 : 1165728\n",
      "kurtosis : 1165728\n",
      "time_gradient : 1176514\n",
      "width : 1165728\n",
      "wl : 1165728\n",
      "log_intensity : 1165728\n",
      "x : 1165728\n",
      "length : 1165728\n",
      "/fefs/aswg/workspace/juan.jimenez/softs/cta-lstchain/lstchain/reco/utils.py:536: FutureWarning: use_inf_as_na option is deprecated and will be removed in a future version. Convert inf values to NaN before operating instead.\n",
      "  with pd.option_context('mode.use_inf_as_na', True):\n",
      "/fefs/aswg/workspace/juan.jimenez/.conda/envs/lst-dev2/lib/python3.11/site-packages/sklearn/utils/validation.py:767: FutureWarning: is_sparse is deprecated and will be removed in a future version. Check `isinstance(dtype, pd.SparseDtype)` instead.\n",
      "  if not hasattr(array, \"sparse\") and array.dtypes.apply(is_sparse).any():\n",
      "/fefs/aswg/workspace/juan.jimenez/.conda/envs/lst-dev2/lib/python3.11/site-packages/sklearn/utils/validation.py:605: FutureWarning: is_sparse is deprecated and will be removed in a future version. Check `isinstance(dtype, pd.SparseDtype)` instead.\n",
      "  if is_sparse(pd_dtype):\n",
      "/fefs/aswg/workspace/juan.jimenez/.conda/envs/lst-dev2/lib/python3.11/site-packages/sklearn/utils/validation.py:614: FutureWarning: is_sparse is deprecated and will be removed in a future version. Check `isinstance(dtype, pd.SparseDtype)` instead.\n",
      "  if is_sparse(pd_dtype) or not is_extension_array_dtype(pd_dtype):\n",
      "/fefs/aswg/workspace/juan.jimenez/.conda/envs/lst-dev2/lib/python3.11/site-packages/sklearn/utils/validation.py:767: FutureWarning: is_sparse is deprecated and will be removed in a future version. Check `isinstance(dtype, pd.SparseDtype)` instead.\n",
      "  if not hasattr(array, \"sparse\") and array.dtypes.apply(is_sparse).any():\n",
      "/fefs/aswg/workspace/juan.jimenez/.conda/envs/lst-dev2/lib/python3.11/site-packages/sklearn/utils/validation.py:605: FutureWarning: is_sparse is deprecated and will be removed in a future version. Check `isinstance(dtype, pd.SparseDtype)` instead.\n",
      "  if is_sparse(pd_dtype):\n",
      "/fefs/aswg/workspace/juan.jimenez/.conda/envs/lst-dev2/lib/python3.11/site-packages/sklearn/utils/validation.py:614: FutureWarning: is_sparse is deprecated and will be removed in a future version. Check `isinstance(dtype, pd.SparseDtype)` instead.\n",
      "  if is_sparse(pd_dtype) or not is_extension_array_dtype(pd_dtype):\n",
      "/fefs/aswg/workspace/juan.jimenez/.conda/envs/lst-dev2/lib/python3.11/site-packages/sklearn/utils/validation.py:767: FutureWarning: is_sparse is deprecated and will be removed in a future version. Check `isinstance(dtype, pd.SparseDtype)` instead.\n",
      "  if not hasattr(array, \"sparse\") and array.dtypes.apply(is_sparse).any():\n",
      "/fefs/aswg/workspace/juan.jimenez/.conda/envs/lst-dev2/lib/python3.11/site-packages/sklearn/utils/validation.py:605: FutureWarning: is_sparse is deprecated and will be removed in a future version. Check `isinstance(dtype, pd.SparseDtype)` instead.\n",
      "  if is_sparse(pd_dtype):\n",
      "/fefs/aswg/workspace/juan.jimenez/.conda/envs/lst-dev2/lib/python3.11/site-packages/sklearn/utils/validation.py:614: FutureWarning: is_sparse is deprecated and will be removed in a future version. Check `isinstance(dtype, pd.SparseDtype)` instead.\n",
      "  if is_sparse(pd_dtype) or not is_extension_array_dtype(pd_dtype):\n",
      "/fefs/aswg/workspace/juan.jimenez/.conda/envs/lst-dev2/lib/python3.11/site-packages/sklearn/utils/validation.py:767: FutureWarning: is_sparse is deprecated and will be removed in a future version. Check `isinstance(dtype, pd.SparseDtype)` instead.\n",
      "  if not hasattr(array, \"sparse\") and array.dtypes.apply(is_sparse).any():\n",
      "/fefs/aswg/workspace/juan.jimenez/.conda/envs/lst-dev2/lib/python3.11/site-packages/sklearn/utils/validation.py:605: FutureWarning: is_sparse is deprecated and will be removed in a future version. Check `isinstance(dtype, pd.SparseDtype)` instead.\n",
      "  if is_sparse(pd_dtype):\n",
      "/fefs/aswg/workspace/juan.jimenez/.conda/envs/lst-dev2/lib/python3.11/site-packages/sklearn/utils/validation.py:614: FutureWarning: is_sparse is deprecated and will be removed in a future version. Check `isinstance(dtype, pd.SparseDtype)` instead.\n",
      "  if is_sparse(pd_dtype) or not is_extension_array_dtype(pd_dtype):\n",
      "/fefs/aswg/workspace/juan.jimenez/.conda/envs/lst-dev2/lib/python3.11/site-packages/sklearn/utils/validation.py:767: FutureWarning: is_sparse is deprecated and will be removed in a future version. Check `isinstance(dtype, pd.SparseDtype)` instead.\n",
      "  if not hasattr(array, \"sparse\") and array.dtypes.apply(is_sparse).any():\n",
      "/fefs/aswg/workspace/juan.jimenez/.conda/envs/lst-dev2/lib/python3.11/site-packages/sklearn/utils/validation.py:605: FutureWarning: is_sparse is deprecated and will be removed in a future version. Check `isinstance(dtype, pd.SparseDtype)` instead.\n",
      "  if is_sparse(pd_dtype):\n",
      "/fefs/aswg/workspace/juan.jimenez/.conda/envs/lst-dev2/lib/python3.11/site-packages/sklearn/utils/validation.py:614: FutureWarning: is_sparse is deprecated and will be removed in a future version. Check `isinstance(dtype, pd.SparseDtype)` instead.\n",
      "  if is_sparse(pd_dtype) or not is_extension_array_dtype(pd_dtype):\n",
      "/fefs/aswg/workspace/juan.jimenez/.conda/envs/lst-dev2/lib/python3.11/site-packages/tables/path.py:137: NaturalNameWarning: object name is not a valid Python identifier: 'layout.__table_column_meta__'; it does not match the pattern ``^[a-zA-Z_][a-zA-Z0-9_]*$``; you will not be able to use natural naming to access this object; using ``getattr()`` will still work, though\n",
      "  check_attribute_name(name)\n",
      "/fefs/aswg/workspace/juan.jimenez/.conda/envs/lst-dev2/lib/python3.11/site-packages/tables/path.py:137: NaturalNameWarning: object name is not a valid Python identifier: 'optics.__table_column_meta__'; it does not match the pattern ``^[a-zA-Z_][a-zA-Z0-9_]*$``; you will not be able to use natural naming to access this object; using ``getattr()`` will still work, though\n",
      "  check_attribute_name(name)\n",
      "/fefs/aswg/workspace/juan.jimenez/.conda/envs/lst-dev2/lib/python3.11/site-packages/tables/path.py:137: NaturalNameWarning: object name is not a valid Python identifier: 'geometry_0.__table_column_meta__'; it does not match the pattern ``^[a-zA-Z_][a-zA-Z0-9_]*$``; you will not be able to use natural naming to access this object; using ``getattr()`` will still work, though\n",
      "  check_attribute_name(name)\n",
      "/fefs/aswg/workspace/juan.jimenez/.conda/envs/lst-dev2/lib/python3.11/site-packages/tables/path.py:137: NaturalNameWarning: object name is not a valid Python identifier: 'readout_0.__table_column_meta__'; it does not match the pattern ``^[a-zA-Z_][a-zA-Z0-9_]*$``; you will not be able to use natural naming to access this object; using ``getattr()`` will still work, though\n",
      "  check_attribute_name(name)\n"
     ]
    },
    {
     "name": "stdout",
     "output_type": "stream",
     "text": [
      "lstchain_dl1_to_dl2 --input-files /fefs/aswg/workspace/juan.jimenez/data/tests/crab/dl1_orig/dl1_LST-1.Run02929.h5 --path-models /fefs/aswg/data/models/AllSky/20230927_v0.10.4_crab_tuned/dec_2276/ --output-dir /fefs/aswg/workspace/juan.jimenez/data/tests/crab/dl2_orig/ --config /fefs/aswg/workspace/juan.jimenez/softs/cta-lstchain/lstchain/data/lstchain_standard_config.json\n"
     ]
    },
    {
     "name": "stderr",
     "output_type": "stream",
     "text": [
      "/fefs/aswg/workspace/juan.jimenez/softs/cta-lstchain/lstchain/reco/utils.py:536: FutureWarning: use_inf_as_na option is deprecated and will be removed in a future version. Convert inf values to NaN before operating instead.\n",
      "  with pd.option_context('mode.use_inf_as_na', True):\n",
      "/fefs/aswg/workspace/juan.jimenez/.conda/envs/lst-dev2/lib/python3.11/site-packages/sklearn/utils/validation.py:767: FutureWarning: is_sparse is deprecated and will be removed in a future version. Check `isinstance(dtype, pd.SparseDtype)` instead.\n",
      "  if not hasattr(array, \"sparse\") and array.dtypes.apply(is_sparse).any():\n",
      "/fefs/aswg/workspace/juan.jimenez/.conda/envs/lst-dev2/lib/python3.11/site-packages/sklearn/utils/validation.py:605: FutureWarning: is_sparse is deprecated and will be removed in a future version. Check `isinstance(dtype, pd.SparseDtype)` instead.\n",
      "  if is_sparse(pd_dtype):\n",
      "/fefs/aswg/workspace/juan.jimenez/.conda/envs/lst-dev2/lib/python3.11/site-packages/sklearn/utils/validation.py:614: FutureWarning: is_sparse is deprecated and will be removed in a future version. Check `isinstance(dtype, pd.SparseDtype)` instead.\n",
      "  if is_sparse(pd_dtype) or not is_extension_array_dtype(pd_dtype):\n",
      "/fefs/aswg/workspace/juan.jimenez/.conda/envs/lst-dev2/lib/python3.11/site-packages/sklearn/utils/validation.py:767: FutureWarning: is_sparse is deprecated and will be removed in a future version. Check `isinstance(dtype, pd.SparseDtype)` instead.\n",
      "  if not hasattr(array, \"sparse\") and array.dtypes.apply(is_sparse).any():\n",
      "/fefs/aswg/workspace/juan.jimenez/.conda/envs/lst-dev2/lib/python3.11/site-packages/sklearn/utils/validation.py:605: FutureWarning: is_sparse is deprecated and will be removed in a future version. Check `isinstance(dtype, pd.SparseDtype)` instead.\n",
      "  if is_sparse(pd_dtype):\n",
      "/fefs/aswg/workspace/juan.jimenez/.conda/envs/lst-dev2/lib/python3.11/site-packages/sklearn/utils/validation.py:614: FutureWarning: is_sparse is deprecated and will be removed in a future version. Check `isinstance(dtype, pd.SparseDtype)` instead.\n",
      "  if is_sparse(pd_dtype) or not is_extension_array_dtype(pd_dtype):\n",
      "/fefs/aswg/workspace/juan.jimenez/.conda/envs/lst-dev2/lib/python3.11/site-packages/sklearn/utils/validation.py:767: FutureWarning: is_sparse is deprecated and will be removed in a future version. Check `isinstance(dtype, pd.SparseDtype)` instead.\n",
      "  if not hasattr(array, \"sparse\") and array.dtypes.apply(is_sparse).any():\n",
      "/fefs/aswg/workspace/juan.jimenez/.conda/envs/lst-dev2/lib/python3.11/site-packages/sklearn/utils/validation.py:605: FutureWarning: is_sparse is deprecated and will be removed in a future version. Check `isinstance(dtype, pd.SparseDtype)` instead.\n",
      "  if is_sparse(pd_dtype):\n",
      "/fefs/aswg/workspace/juan.jimenez/.conda/envs/lst-dev2/lib/python3.11/site-packages/sklearn/utils/validation.py:614: FutureWarning: is_sparse is deprecated and will be removed in a future version. Check `isinstance(dtype, pd.SparseDtype)` instead.\n",
      "  if is_sparse(pd_dtype) or not is_extension_array_dtype(pd_dtype):\n",
      "/fefs/aswg/workspace/juan.jimenez/.conda/envs/lst-dev2/lib/python3.11/site-packages/sklearn/utils/validation.py:767: FutureWarning: is_sparse is deprecated and will be removed in a future version. Check `isinstance(dtype, pd.SparseDtype)` instead.\n",
      "  if not hasattr(array, \"sparse\") and array.dtypes.apply(is_sparse).any():\n",
      "/fefs/aswg/workspace/juan.jimenez/.conda/envs/lst-dev2/lib/python3.11/site-packages/sklearn/utils/validation.py:605: FutureWarning: is_sparse is deprecated and will be removed in a future version. Check `isinstance(dtype, pd.SparseDtype)` instead.\n",
      "  if is_sparse(pd_dtype):\n",
      "/fefs/aswg/workspace/juan.jimenez/.conda/envs/lst-dev2/lib/python3.11/site-packages/sklearn/utils/validation.py:614: FutureWarning: is_sparse is deprecated and will be removed in a future version. Check `isinstance(dtype, pd.SparseDtype)` instead.\n",
      "  if is_sparse(pd_dtype) or not is_extension_array_dtype(pd_dtype):\n",
      "/fefs/aswg/workspace/juan.jimenez/.conda/envs/lst-dev2/lib/python3.11/site-packages/sklearn/utils/validation.py:767: FutureWarning: is_sparse is deprecated and will be removed in a future version. Check `isinstance(dtype, pd.SparseDtype)` instead.\n",
      "  if not hasattr(array, \"sparse\") and array.dtypes.apply(is_sparse).any():\n",
      "/fefs/aswg/workspace/juan.jimenez/.conda/envs/lst-dev2/lib/python3.11/site-packages/sklearn/utils/validation.py:605: FutureWarning: is_sparse is deprecated and will be removed in a future version. Check `isinstance(dtype, pd.SparseDtype)` instead.\n",
      "  if is_sparse(pd_dtype):\n",
      "/fefs/aswg/workspace/juan.jimenez/.conda/envs/lst-dev2/lib/python3.11/site-packages/sklearn/utils/validation.py:614: FutureWarning: is_sparse is deprecated and will be removed in a future version. Check `isinstance(dtype, pd.SparseDtype)` instead.\n",
      "  if is_sparse(pd_dtype) or not is_extension_array_dtype(pd_dtype):\n",
      "/fefs/aswg/workspace/juan.jimenez/.conda/envs/lst-dev2/lib/python3.11/site-packages/tables/path.py:137: NaturalNameWarning: object name is not a valid Python identifier: 'layout.__table_column_meta__'; it does not match the pattern ``^[a-zA-Z_][a-zA-Z0-9_]*$``; you will not be able to use natural naming to access this object; using ``getattr()`` will still work, though\n",
      "  check_attribute_name(name)\n",
      "/fefs/aswg/workspace/juan.jimenez/.conda/envs/lst-dev2/lib/python3.11/site-packages/tables/path.py:137: NaturalNameWarning: object name is not a valid Python identifier: 'optics.__table_column_meta__'; it does not match the pattern ``^[a-zA-Z_][a-zA-Z0-9_]*$``; you will not be able to use natural naming to access this object; using ``getattr()`` will still work, though\n",
      "  check_attribute_name(name)\n",
      "/fefs/aswg/workspace/juan.jimenez/.conda/envs/lst-dev2/lib/python3.11/site-packages/tables/path.py:137: NaturalNameWarning: object name is not a valid Python identifier: 'geometry_0.__table_column_meta__'; it does not match the pattern ``^[a-zA-Z_][a-zA-Z0-9_]*$``; you will not be able to use natural naming to access this object; using ``getattr()`` will still work, though\n",
      "  check_attribute_name(name)\n",
      "/fefs/aswg/workspace/juan.jimenez/.conda/envs/lst-dev2/lib/python3.11/site-packages/tables/path.py:137: NaturalNameWarning: object name is not a valid Python identifier: 'readout_0.__table_column_meta__'; it does not match the pattern ``^[a-zA-Z_][a-zA-Z0-9_]*$``; you will not be able to use natural naming to access this object; using ``getattr()`` will still work, though\n",
      "  check_attribute_name(name)\n"
     ]
    }
   ],
   "source": [
    "for file in [dl1_orig_path+\"dl1_LST-1.Run02914.h5\", dl1_orig_path+\"dl1_LST-1.Run02929.h5\"]:\n",
    "    comm = f\"lstchain_dl1_to_dl2 --input-files {file} --path-models {rfs_path} --output-dir {dl2_orig_path} --config {config_file}\"\n",
    "    print(comm)\n",
    "    subprocess.run(comm, shell=True)"
   ]
  },
  {
   "cell_type": "code",
   "execution_count": 12,
   "id": "60a0570e-3a1a-4e29-8902-1b8d4a24611b",
   "metadata": {},
   "outputs": [
    {
     "name": "stdout",
     "output_type": "stream",
     "text": [
      "lstchain_create_dl3_file --input-dl2 /fefs/aswg/workspace/juan.jimenez/data/tests/crab/dl2_scaled/dl2_LST-1.Run02914.h5 --input-irf-path /fefs/aswg/workspace/juan.jimenez/data/cherenkov_transparency_corrections/crab/irfs/ --output-dl3-path /fefs/aswg/workspace/juan.jimenez/data/tests/crab/dl3_scaled/ --source-name Crab --source-ra=83.63308333deg --source-dec=22.0145deg --config /fefs/aswg/workspace/juan.jimenez/softs/cta-lstchain/lstchain/data/lstchain_standard_config.json --overwrite\n"
     ]
    },
    {
     "name": "stderr",
     "output_type": "stream",
     "text": [
      "2024-03-07 15:35:19,861 \u001b[1;31mERROR\u001b[0m [lstchain.high_level.interpolate] (interpolate.interpolate_irf): AL CUTS not present for IRF interpolation\n",
      "/fefs/aswg/workspace/juan.jimenez/softs/cta-lstchain/lstchain/reco/utils.py:536: FutureWarning: use_inf_as_na option is deprecated and will be removed in a future version. Convert inf values to NaN before operating instead.\n",
      "  with pd.option_context('mode.use_inf_as_na', True):\n"
     ]
    },
    {
     "name": "stdout",
     "output_type": "stream",
     "text": [
      "The metadata are comparable\n",
      "The other parameter axes data are comparable\n",
      "lstchain_create_dl3_file --input-dl2 /fefs/aswg/workspace/juan.jimenez/data/tests/crab/dl2_scaled/dl2_LST-1.Run02929.h5 --input-irf-path /fefs/aswg/workspace/juan.jimenez/data/cherenkov_transparency_corrections/crab/irfs/ --output-dl3-path /fefs/aswg/workspace/juan.jimenez/data/tests/crab/dl3_scaled/ --source-name Crab --source-ra=83.63308333deg --source-dec=22.0145deg --config /fefs/aswg/workspace/juan.jimenez/softs/cta-lstchain/lstchain/data/lstchain_standard_config.json --overwrite\n"
     ]
    },
    {
     "name": "stderr",
     "output_type": "stream",
     "text": [
      "2024-03-07 15:35:49,452 \u001b[1;33mWARNING\u001b[0m [lstchain.DataReductionFITSWriter] (lstchain_create_dl3_file.setup): Overwriting /fefs/aswg/workspace/juan.jimenez/data/tests/crab/dl3_scaled/final_irf.fits.gz\n",
      "/fefs/aswg/workspace/juan.jimenez/softs/cta-lstchain/lstchain/reco/utils.py:536: FutureWarning: use_inf_as_na option is deprecated and will be removed in a future version. Convert inf values to NaN before operating instead.\n",
      "  with pd.option_context('mode.use_inf_as_na', True):\n"
     ]
    },
    {
     "name": "stdout",
     "output_type": "stream",
     "text": [
      "The metadata are comparable\n",
      "The other parameter axes data are comparable\n",
      "Target value is outside interpolation. Using the nearest IRF.\n"
     ]
    }
   ],
   "source": [
    "for file in [dl2_s_path+\"dl2_LST-1.Run02914.h5\", dl2_s_path+\"dl2_LST-1.Run02929.h5\"]:\n",
    "    comm = f\"lstchain_create_dl3_file --input-dl2 {file} --input-irf-path {irfs_path} --output-dl3-path {dl3_s_path}\"\n",
    "    comm = comm + f\" --source-name {source_name} --source-ra={source_ra} --source-dec={source_dec} --config {config_file} --overwrite\"\n",
    "    print(comm)\n",
    "    subprocess.run(comm, shell=True)"
   ]
  },
  {
   "cell_type": "code",
   "execution_count": 3,
   "id": "9dc00d5d-6acf-41d3-8bc9-af5adaf6e17d",
   "metadata": {},
   "outputs": [
    {
     "name": "stdout",
     "output_type": "stream",
     "text": [
      "lstchain_create_dl3_file --input-dl2 /fefs/aswg/workspace/juan.jimenez/data/tests/crab/dl2_orig/dl2_LST-1.Run02914.h5 --input-irf-path /fefs/aswg/workspace/juan.jimenez/data/cherenkov_transparency_corrections/crab/irfs/ --output-dl3-path /fefs/aswg/workspace/juan.jimenez/data/tests/crab/dl3_paper_re/ --source-name Crab --source-ra=83.63308333deg --source-dec=22.0145deg --config /fefs/aswg/workspace/juan.jimenez/softs/cta-lstchain/lstchain/data/lstchain_standard_config.json --overwrite\n"
     ]
    },
    {
     "name": "stderr",
     "output_type": "stream",
     "text": [
      "2024-03-07 14:39:34,527 \u001b[1;31mERROR\u001b[0m [lstchain.high_level.interpolate] (interpolate.interpolate_irf): AL CUTS not present for IRF interpolation\n",
      "/fefs/aswg/workspace/juan.jimenez/softs/cta-lstchain/lstchain/reco/utils.py:536: FutureWarning: use_inf_as_na option is deprecated and will be removed in a future version. Convert inf values to NaN before operating instead.\n",
      "  with pd.option_context('mode.use_inf_as_na', True):\n"
     ]
    },
    {
     "name": "stdout",
     "output_type": "stream",
     "text": [
      "The metadata are comparable\n",
      "The other parameter axes data are comparable\n",
      "lstchain_create_dl3_file --input-dl2 /fefs/aswg/workspace/juan.jimenez/data/tests/crab/dl2_orig/dl2_LST-1.Run02929.h5 --input-irf-path /fefs/aswg/workspace/juan.jimenez/data/cherenkov_transparency_corrections/crab/irfs/ --output-dl3-path /fefs/aswg/workspace/juan.jimenez/data/tests/crab/dl3_paper_re/ --source-name Crab --source-ra=83.63308333deg --source-dec=22.0145deg --config /fefs/aswg/workspace/juan.jimenez/softs/cta-lstchain/lstchain/data/lstchain_standard_config.json --overwrite\n"
     ]
    },
    {
     "name": "stderr",
     "output_type": "stream",
     "text": [
      "2024-03-07 14:40:05,453 \u001b[1;33mWARNING\u001b[0m [lstchain.DataReductionFITSWriter] (lstchain_create_dl3_file.setup): Overwriting /fefs/aswg/workspace/juan.jimenez/data/tests/crab/dl3_paper_re/final_irf.fits.gz\n",
      "/fefs/aswg/workspace/juan.jimenez/softs/cta-lstchain/lstchain/reco/utils.py:536: FutureWarning: use_inf_as_na option is deprecated and will be removed in a future version. Convert inf values to NaN before operating instead.\n",
      "  with pd.option_context('mode.use_inf_as_na', True):\n"
     ]
    },
    {
     "name": "stdout",
     "output_type": "stream",
     "text": [
      "The metadata are comparable\n",
      "The other parameter axes data are comparable\n",
      "Target value is outside interpolation. Using the nearest IRF.\n"
     ]
    }
   ],
   "source": [
    "for file in [dl2_orig_path+\"dl2_LST-1.Run02914.h5\", dl2_orig_path+\"dl2_LST-1.Run02929.h5\"]:\n",
    "    comm = f\"lstchain_create_dl3_file --input-dl2 {file} --input-irf-path {irfs_path} --output-dl3-path {dl3_paper_path_re}\"\n",
    "    comm = comm + f\" --source-name {source_name} --source-ra={source_ra} --source-dec={source_dec} --config {config_file} --overwrite\"\n",
    "    print(comm)\n",
    "    subprocess.run(comm, shell=True)"
   ]
  },
  {
   "cell_type": "code",
   "execution_count": 13,
   "id": "3e6277f1-84b1-4328-bbab-bd134a256d2c",
   "metadata": {},
   "outputs": [
    {
     "name": "stdout",
     "output_type": "stream",
     "text": [
      "lstchain_create_dl3_index_files --input-dl3-dir /fefs/aswg/workspace/juan.jimenez/data/tests/crab/dl3_scaled/ --overwrite\n"
     ]
    },
    {
     "name": "stderr",
     "output_type": "stream",
     "text": [
      "2024-03-07 15:45:20,291 \u001b[1;31mERROR\u001b[0m [lstchain.high_level.hdu_table] (hdu_table.create_hdu_index_hdu): Run 2914 does not contain HDU BACKGROUND\n",
      "2024-03-07 15:45:20,291 \u001b[1;31mERROR\u001b[0m [lstchain.high_level.hdu_table] (hdu_table.create_hdu_index_hdu): Run 2914 does not contain HDU PSF\n",
      "2024-03-07 15:45:20,305 \u001b[1;31mERROR\u001b[0m [lstchain.high_level.hdu_table] (hdu_table.create_hdu_index_hdu): Run 2929 does not contain HDU BACKGROUND\n",
      "2024-03-07 15:45:20,306 \u001b[1;31mERROR\u001b[0m [lstchain.high_level.hdu_table] (hdu_table.create_hdu_index_hdu): Run 2929 does not contain HDU PSF\n"
     ]
    },
    {
     "name": "stdout",
     "output_type": "stream",
     "text": [
      "lstchain_create_dl3_index_files --input-dl3-dir /fefs/aswg/workspace/juan.jimenez/data/tests/crab/dl3_paper/ --overwrite\n"
     ]
    },
    {
     "name": "stderr",
     "output_type": "stream",
     "text": [
      "2024-03-07 15:45:32,004 \u001b[1;33mWARNING\u001b[0m [lstchain.FITSIndexWriter] (lstchain_create_dl3_index_files.setup): Overwriting /fefs/aswg/workspace/juan.jimenez/data/tests/crab/dl3_paper/hdu-index.fits.gz\n",
      "2024-03-07 15:45:32,005 \u001b[1;33mWARNING\u001b[0m [lstchain.FITSIndexWriter] (lstchain_create_dl3_index_files.setup): Overwriting /fefs/aswg/workspace/juan.jimenez/data/tests/crab/dl3_paper/obs-index.fits.gz\n",
      "2024-03-07 15:45:32,018 \u001b[1;31mERROR\u001b[0m [lstchain.high_level.hdu_table] (hdu_table.create_hdu_index_hdu): Run 2914 does not contain HDU BACKGROUND\n",
      "2024-03-07 15:45:32,018 \u001b[1;31mERROR\u001b[0m [lstchain.high_level.hdu_table] (hdu_table.create_hdu_index_hdu): Run 2914 does not contain HDU PSF\n",
      "2024-03-07 15:45:32,030 \u001b[1;31mERROR\u001b[0m [lstchain.high_level.hdu_table] (hdu_table.create_hdu_index_hdu): Run 2929 does not contain HDU BACKGROUND\n",
      "2024-03-07 15:45:32,031 \u001b[1;31mERROR\u001b[0m [lstchain.high_level.hdu_table] (hdu_table.create_hdu_index_hdu): Run 2929 does not contain HDU PSF\n"
     ]
    },
    {
     "name": "stdout",
     "output_type": "stream",
     "text": [
      "lstchain_create_dl3_index_files --input-dl3-dir /fefs/aswg/workspace/juan.jimenez/data/tests/crab/dl3_paper_re/ --overwrite\n"
     ]
    },
    {
     "name": "stderr",
     "output_type": "stream",
     "text": [
      "2024-03-07 15:45:43,394 \u001b[1;33mWARNING\u001b[0m [lstchain.FITSIndexWriter] (lstchain_create_dl3_index_files.setup): Overwriting /fefs/aswg/workspace/juan.jimenez/data/tests/crab/dl3_paper_re/hdu-index.fits.gz\n",
      "2024-03-07 15:45:43,395 \u001b[1;33mWARNING\u001b[0m [lstchain.FITSIndexWriter] (lstchain_create_dl3_index_files.setup): Overwriting /fefs/aswg/workspace/juan.jimenez/data/tests/crab/dl3_paper_re/obs-index.fits.gz\n",
      "2024-03-07 15:45:43,410 \u001b[1;31mERROR\u001b[0m [lstchain.high_level.hdu_table] (hdu_table.create_hdu_index_hdu): Run 2914 does not contain HDU BACKGROUND\n",
      "2024-03-07 15:45:43,410 \u001b[1;31mERROR\u001b[0m [lstchain.high_level.hdu_table] (hdu_table.create_hdu_index_hdu): Run 2914 does not contain HDU PSF\n",
      "2024-03-07 15:45:43,421 \u001b[1;31mERROR\u001b[0m [lstchain.high_level.hdu_table] (hdu_table.create_hdu_index_hdu): Run 2929 does not contain HDU BACKGROUND\n",
      "2024-03-07 15:45:43,421 \u001b[1;31mERROR\u001b[0m [lstchain.high_level.hdu_table] (hdu_table.create_hdu_index_hdu): Run 2929 does not contain HDU PSF\n"
     ]
    }
   ],
   "source": [
    "direcs = [\"/fefs/aswg/workspace/juan.jimenez/data/tests/crab/dl3_scaled/\",\n",
    "          \"/fefs/aswg/workspace/juan.jimenez/data/tests/crab/dl3_paper/\", \n",
    "          \"/fefs/aswg/workspace/juan.jimenez/data/tests/crab/dl3_paper_re/\"]\n",
    "\n",
    "for direc in direcs:\n",
    "    command = f\"lstchain_create_dl3_index_files --input-dl3-dir {direc} --overwrite\"\n",
    "    print(command)\n",
    "    subprocess.run(command, shell=True)"
   ]
  },
  {
   "cell_type": "code",
   "execution_count": null,
   "id": "2f664ae3-ed5b-42fe-b010-839313ecc097",
   "metadata": {},
   "outputs": [],
   "source": []
  }
 ],
 "metadata": {
  "kernelspec": {
   "display_name": "Python 3 (ipykernel)",
   "language": "python",
   "name": "python3"
  },
  "language_info": {
   "codemirror_mode": {
    "name": "ipython",
    "version": 3
   },
   "file_extension": ".py",
   "mimetype": "text/x-python",
   "name": "python",
   "nbconvert_exporter": "python",
   "pygments_lexer": "ipython3",
   "version": "3.11.6"
  }
 },
 "nbformat": 4,
 "nbformat_minor": 5
}
