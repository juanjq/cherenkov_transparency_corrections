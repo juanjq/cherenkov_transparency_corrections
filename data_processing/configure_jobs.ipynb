{
 "cells": [
  {
   "cell_type": "code",
   "execution_count": 1,
   "id": "6885968a-e940-477e-988b-b6324d56935b",
   "metadata": {},
   "outputs": [
    {
     "data": {
      "text/html": [
       "<style>.container { width:100% !important; }</style>"
      ],
      "text/plain": [
       "<IPython.core.display.HTML object>"
      ]
     },
     "metadata": {},
     "output_type": "display_data"
    }
   ],
   "source": [
    "import matplotlib.pyplot as plt\n",
    "import numpy as np\n",
    "import pickle, json, sys, os\n",
    "\n",
    "from IPython.display import display, HTML\n",
    "display(HTML(\"<style>.container { width:100% !important; }</style>\"))\n",
    "\n",
    "import logging\n",
    "logger = logging.getLogger(__name__)\n",
    "logger.addHandler(logging.StreamHandler())\n",
    "logger.setLevel(logging.INFO)"
   ]
  },
  {
   "cell_type": "markdown",
   "id": "973492b9-e9ac-4618-b7a7-14085fad75be",
   "metadata": {},
   "source": [
    "### Paths and filenames"
   ]
  },
  {
   "cell_type": "code",
   "execution_count": 2,
   "id": "996e1c08-8c6f-4ebe-8765-e1911abda839",
   "metadata": {},
   "outputs": [],
   "source": [
    "# Root path of this script\n",
    "root = os.getcwd() + \"/\"\n",
    "# Path to store the configuration file we are going to use\n",
    "root_config = root + \"config/\"\n",
    "\n",
    "file_job_config = root_config + \"job_config_runs.txt\""
   ]
  },
  {
   "cell_type": "markdown",
   "id": "0a16050c-b0c4-4fa9-b28e-3025f01aad16",
   "metadata": {},
   "source": [
    "### Run numbers we have"
   ]
  },
  {
   "cell_type": "code",
   "execution_count": 3,
   "id": "005b0c00-ec5e-4b43-a5f0-775efa84c1e2",
   "metadata": {},
   "outputs": [],
   "source": [
    "runs_performance_paper = [\n",
    "       2914, 2929, 2930, 2931, 2932, 2933, 2934, 2949, 2950, 2967, 2968,\n",
    "       2969, 2970, 2971, 2972, 2973, 2974, 2975, 2976, 2977, 2988, 2989,\n",
    "       2990, 2991, 2992, 3004, 3005, 3006, 3007, 3008, 3093, 3094, 3095,\n",
    "       3096, 3231, 3232, 3243, 3270, 3271, 3272, 3273, 3274, 3275, 3276,\n",
    "       3277, 3278, 3279, 3318, 3319, 3320, 3321, 3328, 3329, 3330, 3338,\n",
    "       3339, 3340, 3355, 3356, 3373, 3598, 3599, 3600, 3601, 3615, 3632,\n",
    "       3633, 3634, 3635, 3672, 3673, 3674, 3675, 3676, 3677, 3706, 3707,\n",
    "       3708, 4067, 4068, 4086, 4087, 6045, 6073, 6304, 6872, 6873, 6874,\n",
    "       6875, 6892, 6893, 6894, 6895, 7097, 7098, 7099, 7133, 7136, 7161,\n",
    "       7195, 7196, 7197, 7199, 7200, 7227, 7228, 7231, 7232, 7233, 7253,\n",
    "       7254, 7255, 7256, 7274, 7275, 7276, 7277\n",
    "]\n",
    "\n",
    "runs_good_period = [\n",
    "       10668, 10671, 10672, 10673, 10674, 10917, 10950, 11088, 11125,\n",
    "       11166, 11191, 11192, 11193, 11196, 11197, 11208, 11209, 11219,\n",
    "       11221, 11222, 11224, 11225, 11228, 11229, 11230, 11231, 11237,\n",
    "       11238, 11239, 11240, 11241, 11243, 11244, 11245, 11246, 11247,\n",
    "       11249, 11250, 11251, 11252, 11254, 11257, 11258, 11259, 11260,\n",
    "       11261, 11262, 11263, 11264, 11265, 11266, 11267, 11268, 11269,\n",
    "       11270, 11271, 11272, 11273, 11276, 11277, 11278, 11280, 11282,\n",
    "       11354, 11355, 11357, 11358, 11359, 11360, 11361, 11363, 11378,\n",
    "       11379, 11380, 11381, 11382, 11383, 11384, 11408, 11409, 11410,\n",
    "       11439, 11609, 11610, 11634, 11649, 11650, 11651, 11652, 11671,\n",
    "       11676, 11711, 11712, 11834, 11919, 11920, 11930\n",
    "]\n",
    "\n",
    "runs_other_good = [ \n",
    "        2758,  2759,  3088,  3098,  3584,  3586,  3683,  3705,  3725,\n",
    "        3894,  4010,  4011,  4015,  4129,  5955,  5957,  5958,  5992,\n",
    "        5993,  5995,  6011,  6282,  7084,  7087,  7140,  7142,  7143,\n",
    "        7169,  7170,  7172,  7174,  7201,  9252,  9274,  9434,  9436,\n",
    "        9596,  9687,  9689,  9996, 10034, 10035, 10083, 10084, 10085,\n",
    "       10089, 10090, 10590, 10591, 10592, 10593, 10595, 10596, 10597,\n",
    "       10599, 10600, 10601, 10602, 10603, 10604, 10630, 10633, 10634,\n",
    "       10635, 10636, 10637, 10638, 12048, 12077, 12291, 12669, 12742,\n",
    "       12767, 14629, 14670, 15570, 15571, 15572, 15641, 15727, 15780,\n",
    "       15969, 15971, 16001, 16052, 16111, 16237, 16238, 16286, 16337,\n",
    "       16409\n",
    "]\n",
    "\n",
    "runs_bad_rates_good_weather = [ 9686, 10258, 10260, 10262, 10263]\n",
    "\n",
    "runs_bad_rates_bad_weather  = [\n",
    "        2767,  5738,  5800,  6192,  6194,  6852,  6853,  6962,  6963,\n",
    "        6964,  6965,  6966,  6990,  9253,  9715,  9716,  9882, 10077,\n",
    "       10078, 10264, 10526, 10527, 10528\n",
    "]\n",
    "\n",
    "# Selecting the runs we want to analyse\n",
    "runs = runs_performance_paper"
   ]
  },
  {
   "cell_type": "markdown",
   "id": "344eba4b-68d5-4fa2-887a-99d1b0ef488c",
   "metadata": {},
   "source": [
    "### Storing them in the config jobs file"
   ]
  },
  {
   "cell_type": "code",
   "execution_count": 4,
   "id": "67f077d7-3fd3-41fb-ac32-48d9eca6874c",
   "metadata": {},
   "outputs": [],
   "source": [
    "with open(file_job_config, \"w\") as file:\n",
    "    file.write(\"# Run numbers to analyse \\n\")\n",
    "    for run in runs:\n",
    "        file.write(f\"{run}\\n\")"
   ]
  }
 ],
 "metadata": {
  "kernelspec": {
   "display_name": "Python 3 (ipykernel)",
   "language": "python",
   "name": "python3"
  },
  "language_info": {
   "codemirror_mode": {
    "name": "ipython",
    "version": 3
   },
   "file_extension": ".py",
   "mimetype": "text/x-python",
   "name": "python",
   "nbconvert_exporter": "python",
   "pygments_lexer": "ipython3",
   "version": "3.11.6"
  }
 },
 "nbformat": 4,
 "nbformat_minor": 5
}
