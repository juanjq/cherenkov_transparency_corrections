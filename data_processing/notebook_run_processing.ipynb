{
 "cells": [
  {
   "cell_type": "markdown",
   "id": "e70776f7-e2e1-4057-b7ef-878b2be0556d",
   "metadata": {},
   "source": [
    "## Import packages"
   ]
  },
  {
   "cell_type": "code",
   "execution_count": 1,
   "id": "7b3b4638",
   "metadata": {},
   "outputs": [
    {
     "data": {
      "text/html": [
       "<style>.container { width:100% !important; }</style>"
      ],
      "text/plain": [
       "<IPython.core.display.HTML object>"
      ]
     },
     "metadata": {},
     "output_type": "display_data"
    }
   ],
   "source": [
    "import matplotlib.pyplot as plt\n",
    "import numpy as np\n",
    "import astropy.units as u\n",
    "from datetime import datetime\n",
    "import pickle, json, sys, os, glob\n",
    "import pandas as pd\n",
    "from scipy.optimize import minimize\n",
    "from scipy          import optimize\n",
    "\n",
    "from IPython.display import display, HTML\n",
    "display(HTML(\"<style>.container { width:100% !important; }</style>\"))\n",
    "\n",
    "from traitlets.config.loader import Config\n",
    "from astropy.coordinates     import SkyCoord\n",
    "from lstchain.io.config      import get_standard_config\n",
    "from lstchain.io.io          import dl1_params_lstcam_key\n",
    "from ctapipe.io              import read_table\n",
    "import tables\n",
    "\n",
    "# location of the scripts\n",
    "sys.path.insert(0, os.getcwd() + \"/../scripts/\")\n",
    "import auxiliar as aux\n",
    "import geometry as geom\n",
    "import lstpipeline"
   ]
  },
  {
   "cell_type": "markdown",
   "id": "3cff6f04",
   "metadata": {},
   "source": [
    "# Some configurations"
   ]
  },
  {
   "cell_type": "code",
   "execution_count": 2,
   "id": "d56ff173",
   "metadata": {},
   "outputs": [],
   "source": [
    "# Source specifications\n",
    "source_name = \"crab\"\n",
    "\n",
    "# Maybe we add a way to extract the run numbers we are interested in\n",
    "run_number = 6172 # [6172, 6242, 6194, 6193, 15337, 15272, 15339, 15340] # [15272] # [15337, 15272]\n",
    "# Number of subruns (None stands for all subruns)\n",
    "number_of_sruns = 2\n",
    "\n",
    "# --- FIT PARAMETERS --- #\n",
    "total_bins     = np.linspace(4, 6000, 400)   # intensity binning\n",
    "lims_intensity = [316, 562]                  # limits for the fit\n",
    "lims_intensity_ext = [60, lims_intensity[1]] # limits for the subsets\n",
    "\n",
    "####################################\n",
    "# --- POWER LAW PARAMETERS REF --- #\n",
    "norm_ref   =  1.74 \n",
    "pindex_ref = -2.23\n",
    "####################################"
   ]
  },
  {
   "cell_type": "markdown",
   "id": "54452db6",
   "metadata": {},
   "source": [
    "### Some calculus for the binning"
   ]
  },
  {
   "cell_type": "code",
   "execution_count": 3,
   "id": "250c0021",
   "metadata": {},
   "outputs": [
    {
     "name": "stdout",
     "output_type": "stream",
     "text": [
      "The intensity in the middle of the intensity range is 422.0 p.e.\n"
     ]
    }
   ],
   "source": [
    "# --- INTENSITY BINS --- #\n",
    "bins_c   = (total_bins[1:] + total_bins[:-1]) / 2\n",
    "bin_size = np.diff(total_bins)\n",
    "# mask for the fits\n",
    "mask_bins = []\n",
    "for b in bins_c:\n",
    "    if b >= lims_intensity[0] and b <= lims_intensity[1]:\n",
    "        mask_bins.append(True)\n",
    "    else:\n",
    "        mask_bins.append(False)\n",
    "# limits for plotting the power law\n",
    "bins_space = np.linspace(lims_intensity[0] - 100, lims_intensity[1] + 200, 100)\n",
    "\n",
    "intensity_m = 422 # 10 ** ((np.log10(lims_intensity[0]) + np.log10(lims_intensity[1]))/2)\n",
    "print(f\"The intensity in the middle of the intensity range is {intensity_m:.1f} p.e.\")"
   ]
  },
  {
   "cell_type": "markdown",
   "id": "197f49ec-a8ff-4fc6-8d7c-58c0f22c61b7",
   "metadata": {},
   "source": [
    "### Taking the reference power law and parameter fits"
   ]
  },
  {
   "cell_type": "code",
   "execution_count": 4,
   "id": "83470b6d-5346-4547-af88-16a220d0f08e",
   "metadata": {},
   "outputs": [],
   "source": [
    "###############################\n",
    "# --- PARAMETERS RELATION --- #\n",
    "p0a, p0b, p0c = -0.44751321, 3.62502037, -1.43611437\n",
    "p1a, p1b, p1c = -2.89253919, 0.99443581, -0.34013068\n",
    "###############################"
   ]
  },
  {
   "cell_type": "markdown",
   "id": "d4ea7368",
   "metadata": {},
   "source": [
    "# Paths to data and results"
   ]
  },
  {
   "cell_type": "code",
   "execution_count": 5,
   "id": "66854bb2",
   "metadata": {},
   "outputs": [],
   "source": [
    "# Root path of this script\n",
    "root = os.getcwd() + \"/\"\n",
    "# Path to store the configuration file we are going to use\n",
    "config_file = root + \"config/standard_config.json\"\n",
    "# Data main directory\n",
    "root_data = root + f\"../data/cosmic_ray_data_correction/{source_name}/\"\n",
    "\n",
    "# STANDARD paths ---------\n",
    "# DL1 data root\n",
    "dl1_root = \"/fefs/aswg/data/real/DL1/*/v0.*/tailcut84/\"\n",
    "rfs_root = \"/fefs/aswg/data/models/AllSky/20230901_v0.10.4_allsky_base_prod/\"\n",
    "mcs_root = \"/fefs/aswg/data/mc/DL2/AllSky/20230901_v0.10.4_allsky_base_prod/TestingDataset/\"\n",
    "\n",
    "# Create the paths that do not exist\n",
    "for path in [os.path.dirname(config_file)]:\n",
    "    if not os.path.exists(path):\n",
    "        os.makedirs(os.path.join(path), exist_ok=True)"
   ]
  },
  {
   "cell_type": "markdown",
   "id": "ccb8d10f",
   "metadata": {},
   "source": [
    "# Opening and storing configuration file"
   ]
  },
  {
   "cell_type": "code",
   "execution_count": 6,
   "id": "5030e785",
   "metadata": {},
   "outputs": [],
   "source": [
    "config_dict = get_standard_config()\n",
    "\n",
    "# We select the heuristic flatfield option in the standard configuration\n",
    "config_dict[\"source_config\"][\"LSTEventSource\"][\"use_flatfield_heuristic\"] = True\n",
    "\n",
    "with open(config_file, \"w\") as json_file:\n",
    "    json.dump(config_dict, json_file)"
   ]
  },
  {
   "cell_type": "markdown",
   "id": "66b32e12",
   "metadata": {},
   "source": [
    "# Finding the files that interest us\n",
    "#### Extracting dl1 files and dl1 datachecks"
   ]
  },
  {
   "cell_type": "code",
   "execution_count": 7,
   "id": "e95eb908",
   "metadata": {},
   "outputs": [
    {
     "name": "stdout",
     "output_type": "stream",
     "text": [
      "\n",
      "Adding dl1  data to dictionary...\n",
      "...Finished adding dl1 data to dictionary\n",
      "\n",
      "Adding dl1 datacheck data to dictionary...\n",
      "...Finished adding dl1 data to dictionary\n"
     ]
    }
   ],
   "source": [
    "# Getting coordinates of source\n",
    "source_coords = SkyCoord.from_name(source_name)\n",
    "\n",
    "dict_source = {\n",
    "    \"name\"   : source_name,\n",
    "    \"coords\" : source_coords,\n",
    "    \"ra\"     : source_coords.ra.deg  * u.deg, # ra in degrees\n",
    "    \"dec\"    : source_coords.dec.deg * u.deg, # dec in degrees\n",
    "}\n",
    "\n",
    "# We create a empty dictionary to store all the information needed inside\n",
    "DICT = {}\n",
    "for run in [run_number]:\n",
    "    DICT[run] = {\n",
    "        \"run_num\" : run,\n",
    "        \"errors\"  : \"\", # log of errors trough the analysis\n",
    "    }\n",
    "\n",
    "DICT = lstpipeline.add_dl1_paths_to_dict(DICT, dl1_root)\n",
    "DICT = lstpipeline.add_dl1_paths_to_dict(DICT, dl1_root, dchecking=True)"
   ]
  },
  {
   "cell_type": "markdown",
   "id": "fac5fda0",
   "metadata": {},
   "source": [
    "#### Then we read the observations information and also the selected nodes for MC and RFs and we add it to the DICT"
   ]
  },
  {
   "cell_type": "code",
   "execution_count": 8,
   "id": "91f1e1ce",
   "metadata": {},
   "outputs": [],
   "source": [
    "for run in [run_number]:\n",
    "\n",
    "    tab = read_table(DICT[run][\"dchecks\"][\"runwise\"], \"/dl1datacheck/cosmics\")\n",
    "    \n",
    "    # reading the variables\n",
    "    _zd = 90 - np.rad2deg(np.array(tab[\"mean_alt_tel\"]))\n",
    "    _az = np.rad2deg(np.array(tab[\"mean_az_tel\"]))\n",
    "    _t_start   = tab[\"dragon_time\"][0][0]\n",
    "    _t_elapsed = np.array(tab[\"elapsed_time\"])\n",
    "    \n",
    "    DICT[run][\"time\"] = {\n",
    "        \"tstart\"   : _t_start,            # datetime object\n",
    "        \"telapsed\" : np.sum(_t_elapsed),  # s\n",
    "        \"srunwise\" : {\n",
    "            \"telapsed\" : _t_elapsed,      # s      \n",
    "        },\n",
    "    }\n",
    "    DICT[run][\"pointing\"] = {\n",
    "        \"zd\" : np.mean(_zd),  # deg\n",
    "        \"az\" : np.mean(_az),  # deg\n",
    "        \"srunwise\" : {\n",
    "            \"zd\" : _zd,       # deg\n",
    "            \"az\" : _az,       # deg\n",
    "        },\n",
    "    }\n",
    "    \n",
    "# then we also select the RFs and MC files looking at the nodes available\n",
    "DICT, dict_nodes = lstpipeline.add_mc_and_rfs_nodes(DICT, rfs_root, mcs_root, dict_source)"
   ]
  },
  {
   "cell_type": "markdown",
   "id": "261c0e68-ee3e-40b1-a11f-0eeaed2ca94b",
   "metadata": {},
   "source": [
    "## Read datacheck"
   ]
  },
  {
   "cell_type": "code",
   "execution_count": 9,
   "id": "7716a9e7",
   "metadata": {},
   "outputs": [],
   "source": [
    "input_fname = DICT[run_number][\"dchecks\"][\"runwise\"]\n",
    "\n",
    "run_dcheck  = tables.open_file(input_fname)\n",
    "intensities = run_dcheck.root.dl1datacheck.cosmics.col(\"hist_intensity\")\n",
    "\n",
    "# Binning\n",
    "bins       = run_dcheck.root.dl1datacheck.histogram_binning.col(\"hist_intensity\")[0]\n",
    "bins_c     = (bins[:-1] + bins[1:]) / 2\n",
    "bins_width = np.diff(bins)\n",
    "\n",
    "# Calculating the non binning dependent transformation\n",
    "rates = [np.array(intensities[i]) / DICT[run_number][\"time\"][\"srunwise\"][\"telapsed\"][i] / bins_width for i in range(len(intensities))]\n",
    "\n",
    "# Mask for the fit\n",
    "mask_bins = (bins_c >= lims_intensity[0]) & (bins_c <= lims_intensity[1])\n",
    "\n",
    "# Performing the fit for each subrun\n",
    "norm_srun, pindex_srun = [], []\n",
    "light_yield_srun = []\n",
    "for i in range(len(intensities)):\n",
    "\n",
    "    # Performing the fit\n",
    "    norm, pindex = minimize(geom.likelihood_plaw, x0=[norm_ref, pindex_ref], args=(bins_c[mask_bins], rates[i][mask_bins], intensity_m)).x\n",
    "\n",
    "    norm_srun.append(norm)\n",
    "    pindex_srun.append(pindex)\n",
    "\n",
    "    light_yield_srun.append(geom.calc_light_yield(norm_ref, norm, pindex))\n",
    "\n"
   ]
  },
  {
   "cell_type": "markdown",
   "id": "319183a7",
   "metadata": {},
   "source": [
    "### <span style=\"color:blue\">Some plots and checks that will not be included in the script</span>"
   ]
  },
  {
   "cell_type": "code",
   "execution_count": 23,
   "id": "37892355",
   "metadata": {},
   "outputs": [
    {
     "data": {
      "image/png": "[encoded data removed]",
      "text/plain": [
       "<Figure size 640x480 with 1 Axes>"
      ]
     },
     "metadata": {},
     "output_type": "display_data"
    }
   ],
   "source": [
    "for i in range(len(rates)):\n",
    "    plt.plot(bins_c, rates[i])\n",
    "\n",
    "xx = np.linspace(lims_intensity[0] / 1.3, lims_intensity[1] * 1.5, 100)\n",
    "plt.plot(xx, geom.powerlaw(xx, intensity_m, norm_ref, pindex_ref), color=\"k\", ls=\"--\")\n",
    "plt.loglog()\n",
    "plt.show()"
   ]
  },
  {
   "cell_type": "code",
   "execution_count": 21,
   "id": "0234f297",
   "metadata": {},
   "outputs": [
    {
     "data": {
      "text/plain": [
       "[<matplotlib.lines.Line2D at 0x7f3592142740>]"
      ]
     },
     "execution_count": 21,
     "metadata": {},
     "output_type": "execute_result"
    },
    {
     "data": {
      "image/png": "[encoded data removed]",
      "text/plain": [
       "<Figure size 640x480 with 1 Axes>"
      ]
     },
     "metadata": {},
     "output_type": "display_data"
    }
   ],
   "source": [
    "plt.plot(1/np.array(light_yield_srun))"
   ]
  },
  {
   "cell_type": "code",
   "execution_count": 12,
   "id": "cb327158",
   "metadata": {},
   "outputs": [
    {
     "ename": "NameError",
     "evalue": "name 'addad' is not defined",
     "output_type": "error",
     "traceback": [
      "\u001b[0;31m---------------------------------------------------------------------------\u001b[0m",
      "\u001b[0;31mNameError\u001b[0m                                 Traceback (most recent call last)",
      "Cell \u001b[0;32mIn[12], line 1\u001b[0m\n\u001b[0;32m----> 1\u001b[0m \u001b[43maddad\u001b[49m\n",
      "\u001b[0;31mNameError\u001b[0m: name 'addad' is not defined"
     ]
    }
   ],
   "source": [
    "addad"
   ]
  },
  {
   "cell_type": "code",
   "execution_count": null,
   "id": "19dc3589",
   "metadata": {},
   "outputs": [],
   "source": []
  },
  {
   "cell_type": "code",
   "execution_count": null,
   "id": "829ac4f0-9e63-4bdb-b93e-5c229723e8cb",
   "metadata": {},
   "outputs": [],
   "source": [
    "srun = 0\n",
    "\n",
    "# input fname of the dl1a\n",
    "input_fname  = DICT[run_number][\"dl1a\"][\"srunwise\"][srun]\n",
    "\n",
    "dir_objects = \"/fefs/aswg/workspace/juan.jimenez/cosmic_ray_data_correction/analysis_weather/objects\"\n",
    "with open(dir_objects + \"/data_dict.pkl\", \"rb\") as f:\n",
    "    dict_dcheck = pickle.load(f)  \n",
    "\n",
    "_index_run  = list(dict_dcheck[\"run\"]).index(run_number)\n",
    "lightyield  = dict_dcheck[\"light_yield\"][_index_run]\n",
    "telapsed    = dict_dcheck[\"telapsed\"][_index_run]\n",
    "zd_run      = dict_dcheck[\"zd\"][_index_run]\n",
    "\n",
    "print(f\"Analysing Run {run_number} Subrun {srun}:\\n\")\n",
    "print(f\"Zenith Distance = {zd_run:.2f} deg\\nTime elapsed    = {telapsed:.2f} s\\nDatacheck L.Y.  = {1/lightyield:.2f}\")"
   ]
  },
  {
   "cell_type": "code",
   "execution_count": null,
   "id": "0cb6332c",
   "metadata": {},
   "outputs": [],
   "source": [
    "dict_dcheck"
   ]
  },
  {
   "cell_type": "markdown",
   "id": "2601531c-c972-4189-8e95-04708ae0e959",
   "metadata": {},
   "source": [
    "## Generate DL1 non-scaled files"
   ]
  },
  {
   "cell_type": "code",
   "execution_count": null,
   "id": "d4785ef4",
   "metadata": {
    "scrolled": true
   },
   "outputs": [],
   "source": [
    "\"\"\"\n",
    "%%time\n",
    "output_fname = f\"dl1_LST-1.Run{run_number:05}.{srun:04}_onlyrange_1.h5\"\n",
    "\n",
    "!lstchain_dl1ab \\\n",
    "  -f $input_fname \\\n",
    "  -o $output_fname \\\n",
    "  -c $config_file \\\n",
    "  --no-image \\\n",
    "  --light-scaling $1\n",
    "\n",
    "\"\"\""
   ]
  },
  {
   "cell_type": "markdown",
   "id": "87faf42f-c56d-41c6-98f4-c10e3e754a67",
   "metadata": {},
   "source": [
    "## Reading the total and reduced subset"
   ]
  },
  {
   "cell_type": "code",
   "execution_count": null,
   "id": "08ef909f-8506-42c2-ad94-4de5f3fc15b7",
   "metadata": {},
   "outputs": [],
   "source": [
    "# reading the files\n",
    "dl1b_df_total1 = read_table(f\"dl1_LST-1.Run{run_number:05}.{srun:04}_test_1.h5\",      dl1_params_lstcam_key)\n",
    "dl1b_df_sub1   = read_table(f\"dl1_LST-1.Run{run_number:05}.{srun:04}_onlyrange_1.h5\", dl1_params_lstcam_key)\n",
    "\n",
    "# histograms\n",
    "hist_tot_1, _ = np.histogram(dl1b_df_total1[\"intensity\"], total_bins)\n",
    "hist_lim_1, _ = np.histogram(dl1b_df_sub1[\"intensity\"],   total_bins)\n",
    "\n",
    "# calculating rates\n",
    "rate_tot_1 = hist_tot_1 / telapsed / bin_size\n",
    "rate_lim_1 = hist_lim_1 / telapsed / bin_size\n",
    "\n",
    "# parameters of the plaw\n",
    "a_1, p_index_1 = minimize(likelihood_plaw, x0=[reference_rates, reference_power_index], args=(bins_c[mask_bins], rate_lim_1[mask_bins])).x\n",
    "\n",
    "# zd corrections\n",
    "zd_corr_a_1       = a_1       * pol2(1, p0a, p0b, p0c) / pol2(np.cos(np.rad2deg(zd_run)), p0a, p0b, p0c)\n",
    "zd_corr_p_index_1 = p_index_1 + pol2(1, p1a, p1b, p1c) - pol2(np.cos(np.rad2deg(zd_run)), p1a, p1b, p1c)\n",
    "\n",
    "# calculating light yield\n",
    "ly1 = calc_light_yield(reference_intensity, reference_rates, reference_power_index, zd_corr_a_1, zd_corr_p_index_1)\n",
    "\n",
    "print(f\"Computed the rates of original data:\\n\\nLight Yield = {ly1:.2f}\\n1/LY        = {1/ly1:.2f}\\n(1+1/LY)/2  = {(1+1/ly1)/2:.2f}\")"
   ]
  },
  {
   "cell_type": "code",
   "execution_count": null,
   "id": "c725ebee",
   "metadata": {},
   "outputs": [],
   "source": []
  },
  {
   "cell_type": "code",
   "execution_count": null,
   "id": "b5db16fe",
   "metadata": {},
   "outputs": [],
   "source": [
    "reference_intensity, reference_rates, reference_power_index, zd_corr_a_1, zd_corr_p_index_1"
   ]
  },
  {
   "cell_type": "markdown",
   "id": "a0b4321a-c846-41f5-b8a2-d1d57cbc6a16",
   "metadata": {},
   "source": [
    "## Generating scaled by 1/LY and (1+1/LY)/2"
   ]
  },
  {
   "cell_type": "code",
   "execution_count": null,
   "id": "38079d73-9010-4489-81ca-585d4a6f4096",
   "metadata": {
    "scrolled": true
   },
   "outputs": [],
   "source": [
    "\"\"\"\n",
    "%%time\n",
    "print(ly1, 1/ly1, (1+1/ly1)/2)\n",
    "output_fname = f\"dl1_LST-1.Run{run_number:05}.{srun:04}_test_2.h5\"\n",
    "\n",
    "scale = 1/ly1\n",
    "\n",
    "!lstchain_dl1ab \\\n",
    "  -f $input_fname \\\n",
    "  -o $output_fname \\\n",
    "  -c $config_file \\\n",
    "  --no-image \\\n",
    "  --light-scaling $scale\n",
    "\n",
    "output_fname = f\"dl1_LST-1.Run{run_number:05}.{srun:04}_test_3.h5\"\n",
    "\n",
    "scale = (1+1/ly1)/2\n",
    "\n",
    "!lstchain_dl1ab \\\n",
    "  -f $input_fname \\\n",
    "  -o $output_fname \\\n",
    "  -c $config_file \\\n",
    "  --no-image \\\n",
    "  --light-scaling $scale\n",
    "\"\"\""
   ]
  },
  {
   "cell_type": "code",
   "execution_count": null,
   "id": "a9b7ff8c-b7c0-444b-9787-febb3c913b70",
   "metadata": {},
   "outputs": [],
   "source": [
    "# reading the files\n",
    "dl1b_df_sub2   = read_table(f\"dl1_LST-1.Run{run_number:05}.{srun:04}_onlyrange_2.h5\", dl1_params_lstcam_key)\n",
    "dl1b_df_sub3   = read_table(f\"dl1_LST-1.Run{run_number:05}.{srun:04}_onlyrange_3.h5\", dl1_params_lstcam_key)\n",
    "dl1b_df_total2 = read_table(f\"dl1_LST-1.Run{run_number:05}.{srun:04}_test_2.h5\",      dl1_params_lstcam_key)\n",
    "dl1b_df_total3 = read_table(f\"dl1_LST-1.Run{run_number:05}.{srun:04}_test_3.h5\",      dl1_params_lstcam_key)\n",
    "\n",
    "# histograms\n",
    "hist_tot_2, _ = np.histogram(dl1b_df_total2[\"intensity\"], total_bins)\n",
    "hist_tot_3, _ = np.histogram(dl1b_df_total3[\"intensity\"], total_bins)\n",
    "hist_lim_2, _ = np.histogram(dl1b_df_sub2[\"intensity\"], total_bins)\n",
    "hist_lim_3, _ = np.histogram(dl1b_df_sub3[\"intensity\"], total_bins)\n",
    "# rates\n",
    "rate_tot_2 = hist_tot_2 / telapsed / bin_size\n",
    "rate_tot_3 = hist_tot_3 / telapsed / bin_size\n",
    "rate_lim_2 = hist_lim_2 / telapsed / bin_size\n",
    "rate_lim_3 = hist_lim_3 / telapsed / bin_size\n",
    "# fitting the power laws\n",
    "a_2, p_index_2 = minimize(likelihood_plaw, x0=[reference_rates, reference_power_index], args=(bins_c[mask_bins], rate_lim_2[mask_bins])).x\n",
    "a_3, p_index_3 = minimize(likelihood_plaw, x0=[reference_rates, reference_power_index], args=(bins_c[mask_bins], rate_lim_3[mask_bins])).x\n",
    "# correcting by ZD\n",
    "zd_corr_a_2       = a_2       * pol2(1, p0a, p0b, p0c) / pol2(np.cos(np.rad2deg(zd_run)), p0a, p0b, p0c)\n",
    "zd_corr_p_index_2 = p_index_2 + pol2(1, p1a, p1b, p1c) - pol2(np.cos(np.rad2deg(zd_run)), p1a, p1b, p1c)\n",
    "zd_corr_a_3       = a_3       * pol2(1, p0a, p0b, p0c) / pol2(np.cos(np.rad2deg(zd_run)), p0a, p0b, p0c)\n",
    "zd_corr_p_index_3 = p_index_3 + pol2(1, p1a, p1b, p1c) - pol2(np.cos(np.rad2deg(zd_run)), p1a, p1b, p1c)\n",
    "\n",
    "# calculating light yields\n",
    "ly2 = calc_light_yield(reference_intensity, reference_rates, reference_power_index, zd_corr_a_2, zd_corr_p_index_2)\n",
    "ly3 = calc_light_yield(reference_intensity, reference_rates, reference_power_index, zd_corr_a_3, zd_corr_p_index_3)\n",
    "\n",
    "print(f\"Computed the rates of data scaled by 1/LY ({1/ly1:.2f}):\\n\\nLight Yield = {ly2:.2f}\\n1/LY        = {1/ly2:.2f}\\n\")\n",
    "print(f\"Computed the rates of data scaled by (1+1/LY)/2 ({(1+1/ly1)/2:.2f}):\\n\\nLight Yield = {ly3:.2f}\\n1/LY        = {1/ly3:.2f}\")"
   ]
  },
  {
   "cell_type": "markdown",
   "id": "7c9dfb64-ac91-45bb-a3dc-8b9f611aaa6a",
   "metadata": {},
   "source": [
    "### Fitting the 3 points to a polynomial of deg 2"
   ]
  },
  {
   "cell_type": "code",
   "execution_count": null,
   "id": "c6de20cb-c2d5-4987-8ce3-f2415780c7fe",
   "metadata": {},
   "outputs": [],
   "source": [
    "poly_fit      = np.poly1d(np.polyfit([1, (1 + 1/ly1)/2, 1/ly1], [ly1, ly3, ly2], 2))\n",
    "final_scaling = optimize.root(poly_fit - 1, x0=(1 + 1/ly1)/2, method=\"hybr\").x[0]\n",
    "\n",
    "print(f\"The optimal scaling factor so the (LY = 1) will be the following: {final_scaling:.2f}\")"
   ]
  },
  {
   "cell_type": "markdown",
   "id": "6fccc46e-61c6-439d-a8c3-7831f0d578f1",
   "metadata": {},
   "source": [
    "# Generating the final scale dataset"
   ]
  },
  {
   "cell_type": "code",
   "execution_count": null,
   "id": "dcf5f62a-cb44-4179-90ad-1a7ca2ef70e3",
   "metadata": {
    "scrolled": true
   },
   "outputs": [],
   "source": [
    "\"\"\"\n",
    "%%time\n",
    "output_fname = f\"dl1_LST-1.Run{run_number:05}.{srun:04}_onlyrange_f.h5\"\n",
    "\n",
    "!lstchain_dl1ab \\\n",
    "  -f $input_fname \\\n",
    "  -o $output_fname \\\n",
    "  -c $config_file \\\n",
    "  --no-image \\\n",
    "  --light-scaling $final_scaling\n",
    "\"\"\""
   ]
  },
  {
   "cell_type": "code",
   "execution_count": null,
   "id": "e568d119-ce05-4502-b6c6-06591b009c84",
   "metadata": {},
   "outputs": [],
   "source": [
    "# reading the file\n",
    "dl1b_df_totalf = read_table(f\"dl1_LST-1.Run{run_number:05}.{srun:04}_test_f.h5\", dl1_params_lstcam_key)\n",
    "\n",
    "# histograms\n",
    "hist_tot_f, _ = np.histogram(dl1b_df_totalf[\"intensity\"], total_bins)\n",
    "rate_tot_f = hist_tot_f / telapsed / bin_size\n",
    "\n",
    "result_f = minimize(likelihood_plaw, x0=[reference_rates, reference_power_index], args=(bins_c[mask_bins], rate_tot_f[mask_bins]))\n",
    "a_f, p_index_f = result_f.x\n",
    "\n",
    "correction_a = pol2(1, p0a, p0b, p0c) / pol2(np.cos(np.rad2deg(zd_run)), p0a, p0b, p0c)\n",
    "correction_index = pol2(1, p1a, p1b, p1c) - pol2(np.cos(np.rad2deg(zd_run)), p1a, p1b, p1c)\n",
    "zd_corr_a_f       = a_f       * correction_a\n",
    "zd_corr_p_index_f = p_index_f + correction_index\n",
    "\n",
    "# calculating light yield\n",
    "lyf = calc_light_yield(reference_intensity, reference_rates, reference_power_index, zd_corr_a_f, zd_corr_p_index_f)\n",
    "\n",
    "print(f\"Computed the rates of data scaled by optimal scaling ({final_scaling:.3f}):\\n\\nLight Yield = {lyf:.3f}\\n1/LY        = {1/lyf:.3f}\\n\")"
   ]
  },
  {
   "cell_type": "markdown",
   "id": "4961a17b-2660-486a-b8aa-8f2e277844d8",
   "metadata": {},
   "source": [
    "## Scheme plots\n",
    "* **Intensity changes with changes in the scale applied**"
   ]
  },
  {
   "cell_type": "code",
   "execution_count": null,
   "id": "871b4a97",
   "metadata": {},
   "outputs": [],
   "source": [
    "plt.hist2d(dl1b_df_total1[\"x\"][(dl1b_df_total1[\"event_type\"] == 32) & ~np.isnan(dl1b_df_total1[\"x\"])], dl1b_df_total1[\"y\"][(dl1b_df_total1[\"event_type\"] == 32) &  ~np.isnan(dl1b_df_total1[\"y\"])], 200);"
   ]
  },
  {
   "cell_type": "code",
   "execution_count": null,
   "id": "9a343273",
   "metadata": {},
   "outputs": [],
   "source": [
    "plt.hist2d(dl1b_df_total2[\"x\"][(dl1b_df_total2[\"event_type\"] == 32) & ~np.isnan(dl1b_df_total2[\"x\"])], dl1b_df_total2[\"y\"][(dl1b_df_total2[\"event_type\"] == 32) &  ~np.isnan(dl1b_df_total2[\"y\"])], 200);"
   ]
  },
  {
   "cell_type": "code",
   "execution_count": null,
   "id": "a8d5a6e8",
   "metadata": {},
   "outputs": [],
   "source": [
    "plt.hist(dl1b_df_total1[\"concentration_pixel\"] * dl1b_df_total1[\"intensity\"], bins=np.linspace(0,100, 200))\n",
    "plt.hist(dl1b_df_total2[\"concentration_pixel\"] * dl1b_df_total2[\"intensity\"], bins=np.linspace(0,100, 200), histtype=\"step\")\n",
    "plt.hist(dl1b_df_totalf[\"concentration_pixel\"] * dl1b_df_totalf[\"intensity\"], bins=np.linspace(0,100, 200), histtype=\"step\");"
   ]
  },
  {
   "cell_type": "code",
   "execution_count": null,
   "id": "2e95c534-f53a-443e-95ea-174ef7783f0b",
   "metadata": {},
   "outputs": [],
   "source": [
    "mask_int1 = dl1b_df_total1[\"intensity\"] < 50\n",
    "mask_int2 = dl1b_df_total1[\"intensity\"] > 200"
   ]
  },
  {
   "cell_type": "code",
   "execution_count": null,
   "id": "c7a6ac65-0e94-47d2-976d-b40656c46b56",
   "metadata": {
    "scrolled": true
   },
   "outputs": [],
   "source": [
    "tab11 = dl1b_df_total1.copy()[mask_int1]\n",
    "tab12 = dl1b_df_total2.copy()[mask_int1]\n",
    "tab21 = dl1b_df_total1.copy()[mask_int2]\n",
    "tab22 = dl1b_df_total2.copy()[mask_int2]"
   ]
  },
  {
   "cell_type": "code",
   "execution_count": null,
   "id": "9958e9e3-4b98-46df-a8d0-d2ca50cd1be7",
   "metadata": {},
   "outputs": [],
   "source": [
    "bs = np.linspace(1.2, 5, 300)\n",
    "\n",
    "fig, ax = plt.subplots(figsize=(10,4))\n",
    "\n",
    "ax.hist(dl1b_df_total2[\"intensity\"] / dl1b_df_total1[\"intensity\"], bins=bs, color=\"royalblue\",\n",
    "        label=\"Total data\")\n",
    "\n",
    "ax.hist(tab12[\"intensity\"] / tab11[\"intensity\"], bins=bs, color=\"darkorange\", histtype=\"step\", lw=1.5,\n",
    "        label=\"I < 50 p.e.\")\n",
    "ax.hist(tab22[\"intensity\"] / tab21[\"intensity\"], bins=bs, color=\"lime\", histtype=\"step\", lw=1.5,\n",
    "        label=\"I > 200 p.e.\")\n",
    "\n",
    "ax.axvline(1/ly1, color=\"k\", ls=\"--\", label=f\"Scaling factor = {1/ly1:.2f}\")\n",
    "# ax.axvline(1/ly2, color=\"k\", ls=\"--\", label=f\"Scaling factor = {1/ly2:.2f}\")\n",
    "# ax.axvline(final_scaling, color=\"k\", ls=\"--\", label=f\"Scaling factor = {final_scaling:.2f}\")\n",
    "m = np.nanmean(dl1b_df_total2[\"intensity\"] / dl1b_df_total1[\"intensity\"])\n",
    "ax.axvline(m, color=\"r\", ls=\"--\", label=f\"Mean = {m:.2f}\")\n",
    "m = np.nanmedian(dl1b_df_total2[\"intensity\"] / dl1b_df_total1[\"intensity\"])\n",
    "ax.axvline(m, color=\"r\", ls=\":\", label=f\"Median = {m:.2f}\")\n",
    "\n",
    "ax.set_yscale(\"log\")\n",
    "ax.set_xscale(\"log\")\n",
    "ax.legend()\n",
    "ax.set_xlabel(\"ratio Intensity scaled (1.43) / Intensity\")\n",
    "ax.set_ylabel(\"counts\")\n",
    "import matplotlib.ticker as mticker\n",
    "ax.xaxis.set_minor_formatter(mticker.ScalarFormatter())\n",
    "\n",
    "# plt.savefig(f\"plots/total1.png\", dpi=300, bbox_inches=\"tight\")\n",
    "plt.show()"
   ]
  },
  {
   "cell_type": "markdown",
   "id": "e6cdf1d2-251e-462e-ac96-9633b88263a9",
   "metadata": {},
   "source": [
    "* **General algorithm plots**"
   ]
  },
  {
   "cell_type": "code",
   "execution_count": null,
   "id": "a5239c65-3a6e-4f2b-9ab4-772fd069c61f",
   "metadata": {
    "scrolled": false
   },
   "outputs": [],
   "source": [
    "for i in range(11):\n",
    "    fig, ax = plt.subplots(figsize=(7,4))\n",
    "    \n",
    "    # plot total distribution\n",
    "    ax.fill_between(bins_c, rate_tot_1, color=\"lightgray\", lw=0, label=f\"Total {len(dl1b_df_totalf)} evs\" if i in [0, 1] else \"\")\n",
    "    # plot blue distribution\n",
    "    if i in [1, 2, 3, 4, 5, 7]:\n",
    "        ax.fill_between(bins_c, rate_lim_1, color=\"mediumblue\", alpha=0.3, lw=0, label=f\"Chosen subset\" if i in [1, 2, 5, 7, 8] else \"\")\n",
    "    # plot reference power law\n",
    "    if i in [0, 1, 2, 3, 5, 6, 7, 10]:\n",
    "        ax.plot(bins_space, plaw(bins_space, reference_rates/correction_a, reference_power_index), \n",
    "                color=\"k\", ls=\"--\", zorder=10, label=\"Reference\" if i in [0, 5, 10] else \"\")\n",
    "    # inset defnition\n",
    "    if i in [4, 9]:\n",
    "        ins = ax.inset_axes([0.2,0.2,0.7,0.7])\n",
    "        ins.set_ylim(0.4, 1.5)\n",
    "        ins.set_xlim(0.8, 1.55)\n",
    "        ins.set_xlabel(\"Scaling factor\")\n",
    "        ins.set_ylabel(\"Light yield\")\n",
    "        ins.grid(color=\"gray\")\n",
    "    # integration range\n",
    "    if i in [0, 1, 2, 6]:\n",
    "        ax.axvspan(lims_intensity[0], lims_intensity[1], alpha=0.3, ls=\"-\", facecolor=\"none\", hatch=\"///\", edgecolor=\"k\", \n",
    "                   label=\"Fit range\" if i in [0] else \"\")\n",
    "    # axvline extended range\n",
    "    if i in [0, 1, 2]:\n",
    "        ax.axvline((lims_intensity_ext[0]), color=\"k\", ls=\":\", label=\"Extended range\" if i == 0 else \"\")\n",
    "    # blue fit\n",
    "    if i in [2, 3, 4]:\n",
    "        ax.plot(bins_space, plaw(bins_space, a_1, p_index_1), color=\"mediumblue\", ls=\"--\", label=\"Power Law fit\" if i in [2, 3, 4] else \"\")\n",
    "    # 422 p.e.\n",
    "    if i in [3, 4]:\n",
    "        ax.axvline(reference_intensity, color=\"k\", ls=\":\", label=\"422 p.e.\")\n",
    "    # arrows\n",
    "    if i == 3:\n",
    "        ax.scatter([reference_intensity/2 + (reference_intensity-70)/2 - 18], [reference_rates], \n",
    "                   c=\"r\", marker=r\"$\\rightarrow$\", s=600, label=\"Light Yield\", zorder=10)\n",
    "    if i == 7:\n",
    "        ax.scatter([reference_intensity/2 + (reference_intensity-30)/2+20], [reference_rates], \n",
    "                   c=\"r\", marker=r\"$\\leftarrow$\", s=500, label=\"Light Yield\", zorder=10)\n",
    "    # blue dot\n",
    "    if i in [4, 9]:\n",
    "        ins.plot([1], [ly1], color=\"b\", marker=\"o\", ms=10, mfc=\"w\", markeredgewidth=2)\n",
    "    # scaled red\n",
    "    if i in [5, 6, 7, 8, 9]:\n",
    "        ax.fill_between(bins_c, rate_lim_2, color=\"r\", alpha=0.3, lw=0, label=f\"Subset scaled\\n1/LY\")\n",
    "    # red plaw\n",
    "    if i in [6, 7, 8, 9]:\n",
    "        ax.plot(bins_space, plaw(bins_space, a_2, p_index_2), color=\"crimson\", ls=\"--\", label=\"Scaled power fit\" if i in [6, 7] else \"\")\n",
    "    # green scaled\n",
    "    if i in [8]:\n",
    "        ax.fill_between(bins_c, rate_lim_3, label=\"Subset scaled\\n$\\\\frac{1+1/LY}{2}$\", color=\"g\", alpha=0.3, lw=0)\n",
    "    # gren plaw\n",
    "    if i in [8]:\n",
    "        ax.plot(bins_space, plaw(bins_space, a_3, p_index_3), color=\"g\", ls=\"--\", label=\"\")\n",
    "    # other dots\n",
    "    if i == 9:\n",
    "        ins.plot([(1 + 1/ly1)/2], [ly3], color=\"g\", marker=\"o\", ms=10, mfc=\"w\", markeredgewidth=2, ls=\"\")\n",
    "        ins.plot([1/ly1], [ly2], color=\"r\", marker=\"o\", ms=10, mfc=\"w\", markeredgewidth=2, ls=\"\")\n",
    "    \n",
    "        xp = np.linspace(-1, 3, 200)\n",
    "        ins.plot(xp, poly_fit(xp), \":\", color=\"k\", label=\"Polynomial fit\", zorder=-10)\n",
    "        ins.axvline(final_scaling, color=\"k\", ls=\"--\", label=f\"Scaling needed\\n{final_scaling:.2f}\")\n",
    "    # result\n",
    "    if i == 10:\n",
    "        ax.plot(bins_c, rate_tot_f, label=f\"Data scaled {final_scaling:.2f}\", color=\"r\",)\n",
    "    \n",
    "    # plot legends\n",
    "    if i in [0, 1, 2, 3, 5, 6, 7, 8, 10]:\n",
    "        ax.legend(loc=1, frameon=False)\n",
    "    if i in [9]:\n",
    "        ins.legend(frameon=False)\n",
    "    \n",
    "    \n",
    "    ax.loglog()\n",
    "    ax.set_yscale(\"log\")\n",
    "    ax.set_ylabel(\"rates [evs / s / p.e.]\")\n",
    "    ax.set_xlabel(\"Intensity [p.e.]\")\n",
    "    ax.set_xlim(40, 6000)\n",
    "\n",
    "    # plt.savefig(f\"plots/{i}.png\", dpi=300, bbox_inches=\"tight\")\n",
    "    plt.show()"
   ]
  }
 ],
 "metadata": {
  "kernelspec": {
   "display_name": "Python 3 (ipykernel)",
   "language": "python",
   "name": "python3"
  },
  "language_info": {
   "codemirror_mode": {
    "name": "ipython",
    "version": 3
   },
   "file_extension": ".py",
   "mimetype": "text/x-python",
   "name": "python",
   "nbconvert_exporter": "python",
   "pygments_lexer": "ipython3",
   "version": "3.10.11"
  }
 },
 "nbformat": 4,
 "nbformat_minor": 5
}
