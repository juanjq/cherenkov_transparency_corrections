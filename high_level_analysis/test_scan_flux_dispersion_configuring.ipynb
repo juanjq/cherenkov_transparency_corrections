{
 "cells": [
  {
   "cell_type": "code",
   "execution_count": 1,
   "id": "29ba948f-d449-4bb0-b9db-d3de9d8811ae",
   "metadata": {},
   "outputs": [
    {
     "name": "stdout",
     "output_type": "stream",
     "text": [
      "Numbers have been written to ./objects/test_scan_flux_dispersion_config_jobs.txt\n"
     ]
    }
   ],
   "source": [
    "import numpy as np\n",
    "\n",
    "# Define the path to the text file\n",
    "output_file = \"./objects/test_scan_flux_dispersion_config_jobs.txt\"\n",
    "\n",
    "# Generate the list of numbers using np.logspace(1, 10)\n",
    "numbers_list = np.logspace(np.log10(0.05), np.log10(5), 50)\n",
    "\n",
    "# Write the list of numbers to the output file\n",
    "with open(output_file, \"w\") as f:\n",
    "    for number in numbers_list:\n",
    "        f.write(str(number) + \"\\n\")\n",
    "\n",
    "print(\"Numbers have been written to\", output_file)\n"
   ]
  },
  {
   "cell_type": "code",
   "execution_count": null,
   "id": "9b4b2abb-d540-47a1-994f-fc3b8c568c44",
   "metadata": {},
   "outputs": [],
   "source": []
  }
 ],
 "metadata": {
  "kernelspec": {
   "display_name": "Python 3 (ipykernel)",
   "language": "python",
   "name": "python3"
  },
  "language_info": {
   "codemirror_mode": {
    "name": "ipython",
    "version": 3
   },
   "file_extension": ".py",
   "mimetype": "text/x-python",
   "name": "python",
   "nbconvert_exporter": "python",
   "pygments_lexer": "ipython3",
   "version": "3.11.6"
  }
 },
 "nbformat": 4,
 "nbformat_minor": 5
}
