{
 "cells": [
  {
   "cell_type": "markdown",
   "id": "5c06d147-c1a4-4b4f-8395-2b18ed5f4b36",
   "metadata": {},
   "source": [
    "### Import needed packages and scripts"
   ]
  },
  {
   "cell_type": "code",
   "execution_count": 1,
   "id": "aa942be9-ac39-4184-bd2e-4ff583ab57b3",
   "metadata": {},
   "outputs": [],
   "source": [
    "import matplotlib.pyplot as plt\n",
    "import numpy as np\n",
    "from datetime import datetime\n",
    "import pickle, sys, os, json\n",
    "import astropy.units as u\n",
    "import copy\n",
    "import pandas as pd\n",
    "pd.set_option(\"display.max_columns\", None)\n",
    "\n",
    "from astropy.coordinates import SkyCoord\n",
    "from matplotlib.dates    import DayLocator, MonthLocator, DateFormatter\n",
    "from regions             import PointSkyRegion\n",
    "from astropy.time        import Time\n",
    "from scipy.stats         import chi2, norm\n",
    "\n",
    "from gammapy.modeling.models import create_crab_spectral_model, SkyModel, LogParabolaSpectralModel\n",
    "from gammapy.estimators      import FluxPointsEstimator, LightCurveEstimator, FluxPoints\n",
    "from gammapy.modeling        import Fit\n",
    "from gammapy.datasets        import Datasets, SpectrumDataset\n",
    "from gammapy.makers          import SpectrumDatasetMaker, WobbleRegionsFinder, ReflectedRegionsBackgroundMaker, SafeMaskMaker\n",
    "from gammapy.maps            import MapAxis, RegionGeom, Map, TimeMapAxis\n",
    "from gammapy.data            import DataStore\n",
    "\n",
    "# import scripts\n",
    "sys.path.insert(0, os.getcwd() + \"/../scripts/\")\n",
    "import auxiliar as aux\n",
    "import plotting"
   ]
  },
  {
   "cell_type": "markdown",
   "id": "bd29d71c",
   "metadata": {},
   "source": [
    "### Paths to data and results"
   ]
  },
  {
   "cell_type": "code",
   "execution_count": 2,
   "id": "b1a0580d",
   "metadata": {},
   "outputs": [],
   "source": [
    "# Root path of this script\n",
    "root = os.getcwd() + \"/\"\n",
    "# Objects directory\n",
    "root_objects = root + \"objects/\"\n",
    "# Data directory\n",
    "root_data = root + \"../../data/\"\n",
    "\n",
    "# Gammapy configuration file\n",
    "config_gammapy_path = root_objects + \"config_gammapy_analysis.json\"\n",
    "\n",
    "# Data labels\n",
    "dataset_labels = [\"Unsatable\", \"Unsatable scaled\", \"Stable (jumps)\", \"Stable (jumps) scaled\", \"Stable\", \"Stable scaled\"]\n",
    "# Color plots\n",
    "color_plots = [\"crimson\", \"deeppink\", \"darkorange\", \"gold\", \"b\", \"c\"]\n",
    "\n",
    "# Path of dl3 data\n",
    "dl3_dirs = [\n",
    "    \"/fefs/aswg/workspace/juan.jimenez/data/cherenkov_transparency_corrections/crab/dl3_2/\",\n",
    "    \"/fefs/aswg/workspace/juan.jimenez/data/cherenkov_transparency_corrections/crab/dl3_scaled_2/\",\n",
    "    \"/fefs/aswg/workspace/juan.jimenez/data/cherenkov_transparency_corrections/crab/dl3_3/\",\n",
    "    \"/fefs/aswg/workspace/juan.jimenez/data/cherenkov_transparency_corrections/crab/dl3_scaled_3/\",\n",
    "    \"/fefs/aswg/workspace/juan.jimenez/data/cherenkov_transparency_corrections/crab/dl3_4/\",\n",
    "    \"/fefs/aswg/workspace/juan.jimenez/data/cherenkov_transparency_corrections/crab/dl3_scaled_4/\",\n",
    "]\n",
    "\n",
    "compute_datasets = True"
   ]
  },
  {
   "cell_type": "markdown",
   "id": "a163d520-9469-4c5e-9c0b-c7d0f961153d",
   "metadata": {},
   "source": [
    "### Loading configuration files"
   ]
  },
  {
   "cell_type": "code",
   "execution_count": 3,
   "id": "028a1ca5-5eac-471e-85cd-cd16f29a954a",
   "metadata": {},
   "outputs": [
    {
     "name": "stdout",
     "output_type": "stream",
     "text": [
      "\n",
      "Loading config file...\n",
      "Source: crab\n",
      "Reco Energy limits: 0.1-50 TeV (5 bins)\n",
      "True Energy limits: 0.01-200 TeV (10 bins)\n",
      "LC Integration lim: 0.2-50.0 TeV\n"
     ]
    }
   ],
   "source": [
    "pkl_paths_dataset    = []\n",
    "pkl_paths_lightcurve = []\n",
    "for label in dataset_labels:\n",
    "    pkl_paths_dataset.append(os.path.join(root, \"objects\", f\"tmp_dataset_{label}.pkl\"))\n",
    "    pkl_paths_lightcurve.append(os.path.join(root, \"objects\", f\"tmp_lightcurve_{label}.pkl\"))\n",
    "\n",
    "# Reading the configuration for gammapy we created\n",
    "with open(config_gammapy_path, \"r\") as json_file:\n",
    "    config_gammapy = json.load(json_file)\n",
    "\n",
    "# Saving part of the configuration in variables\n",
    "target_name   = config_gammapy[\"target_name\"]\n",
    "n_off_regions = config_gammapy[\"n_off_regions\"]\n",
    "_e_reco = config_gammapy[\"e_reco\"]\n",
    "_e_true = config_gammapy[\"e_true\"]\n",
    "\n",
    "e_reco_min, e_reco_max, e_reco_bin_p_dec = _e_reco[\"min\"], _e_reco[\"max\"], _e_reco[\"bins_p_dec\"]\n",
    "e_true_min, e_true_max, e_true_bin_p_dec = _e_true[\"min\"], _e_true[\"max\"], _e_true[\"bins_p_dec\"]\n",
    "\n",
    "# Energy for the lightcurve\n",
    "e_lc_min = config_gammapy[\"e_lc\"][\"min\"] * u.TeV\n",
    "e_lc_max = config_gammapy[\"e_lc\"][\"max\"] * u.TeV\n",
    "\n",
    "print(f\"\\nLoading config file...\\nSource: {target_name}\")\n",
    "print(f\"Reco Energy limits: {_e_reco['min']:}-{_e_reco['max']:} TeV ({_e_reco['bins_p_dec']} bins)\")\n",
    "print(f\"True Energy limits: {_e_true['min']:}-{_e_true['max']:} TeV ({_e_true['bins_p_dec']} bins)\")\n",
    "print(f\"LC Integration lim: {e_lc_min.value:}-{e_lc_max.value:} TeV\")"
   ]
  },
  {
   "cell_type": "markdown",
   "id": "faa354a1-2aa6-45ea-83dd-9dea4cdedec0",
   "metadata": {},
   "source": [
    "### Loading full datasets"
   ]
  },
  {
   "cell_type": "code",
   "execution_count": 4,
   "id": "d2d77300-170c-462b-bf2c-7bffdec939bf",
   "metadata": {},
   "outputs": [
    {
     "name": "stdout",
     "output_type": "stream",
     "text": [
      "\n",
      "Reading /fefs/aswg/workspace/juan.jimenez/data/cherenkov_transparency_corrections/crab/dl3_2/...\n",
      "N runs: 26 (2914-7274)\n",
      "Livetime: 7.12 h\n",
      "\n",
      "Reading /fefs/aswg/workspace/juan.jimenez/data/cherenkov_transparency_corrections/crab/dl3_scaled_2/...\n",
      "N runs: 26 (2914-7274)\n",
      "Livetime: 7.12 h\n",
      "\n",
      "Reading /fefs/aswg/workspace/juan.jimenez/data/cherenkov_transparency_corrections/crab/dl3_3/...\n",
      "N runs: 18 (3094-7277)\n",
      "Livetime: 5.42 h\n",
      "\n",
      "Reading /fefs/aswg/workspace/juan.jimenez/data/cherenkov_transparency_corrections/crab/dl3_scaled_3/...\n",
      "N runs: 14 (3094-7277)\n",
      "Livetime: 4.24 h\n",
      "\n",
      "Reading /fefs/aswg/workspace/juan.jimenez/data/cherenkov_transparency_corrections/crab/dl3_4/...\n",
      "N runs: 52 (3095-7276)\n",
      "Livetime: 15.08 h\n",
      "\n",
      "Reading /fefs/aswg/workspace/juan.jimenez/data/cherenkov_transparency_corrections/crab/dl3_scaled_4/...\n",
      "N runs: 45 (3095-7276)\n",
      "Livetime: 12.75 h\n"
     ]
    },
    {
     "data": {
      "text/html": [
       "<div><i>ObservationTable length=5</i>\n",
       "<table id=\"table140488519343632\" class=\"table-striped table-bordered table-condensed\">\n",
       "<thead><tr><th>OBS_ID</th><th>DATE-OBS</th><th>TIME-OBS</th><th>DATE-END</th><th>TIME-END</th><th>RA_PNT</th><th>DEC_PNT</th><th>ZEN_PNT</th><th>ALT_PNT</th><th>AZ_PNT</th><th>RA_OBJ</th><th>DEC_OBJ</th><th>TSTART</th><th>TSTOP</th><th>ONTIME</th><th>TELAPSE</th><th>LIVETIME</th><th>DEADC</th><th>OBJECT</th><th>OBS_MODE</th><th>N_TELS</th><th>TELLIST</th><th>INSTRUME</th></tr></thead>\n",
       "<thead><tr><th></th><th></th><th></th><th></th><th></th><th>deg</th><th>deg</th><th>deg</th><th>deg</th><th>deg</th><th>deg</th><th>deg</th><th>s</th><th>s</th><th>s</th><th>s</th><th>s</th><th></th><th></th><th></th><th></th><th></th><th></th></tr></thead>\n",
       "<thead><tr><th>int64</th><th>bytes10</th><th>bytes12</th><th>bytes10</th><th>bytes12</th><th>float64</th><th>float64</th><th>float64</th><th>float64</th><th>float64</th><th>float64</th><th>float64</th><th>float64</th><th>float64</th><th>float64</th><th>float64</th><th>float64</th><th>float64</th><th>bytes4</th><th>bytes8</th><th>int64</th><th>bytes5</th><th>bytes5</th></tr></thead>\n",
       "<tr><td>3095</td><td>2020-12-08</td><td>00:19:06.226</td><td>2020-12-08</td><td>00:51:14.231</td><td>83.96924531300746</td><td>22.245369672382964</td><td>15.945699359389579</td><td>74.05430064061042</td><td>110.80263925525938</td><td>83.6287</td><td>22.0147</td><td>69034746.22550154</td><td>69036674.23115969</td><td>1927.0067067146301</td><td>1928.0056581497192</td><td>1839.5298224794092</td><td>0.9546047847522228</td><td>crab</td><td>POINTING</td><td>1</td><td>LST-1</td><td>LST-1</td></tr>\n",
       "<tr><td>3096</td><td>2020-12-08</td><td>00:55:23.102</td><td>2020-12-08</td><td>01:15:40.416</td><td>83.27101085465429</td><td>21.78651165115583</td><td>9.968526334451326</td><td>80.03147366554867</td><td>133.2742010665934</td><td>83.6287</td><td>22.0147</td><td>69036923.10179543</td><td>69038140.41588306</td><td>1216.3143258094788</td><td>1217.3140876293182</td><td>1160.4602674751934</td><td>0.9540792563656492</td><td>crab</td><td>POINTING</td><td>1</td><td>LST-1</td><td>LST-1</td></tr>\n",
       "<tr><td>3232</td><td>2020-12-14</td><td>03:19:38.822</td><td>2020-12-14</td><td>03:39:45.943</td><td>83.27927315765012</td><td>21.787248067656343</td><td>31.513118000601672</td><td>58.48688199939833</td><td>265.1202869988379</td><td>83.6287</td><td>22.0147</td><td>69563978.82173824</td><td>69565185.94268656</td><td>1204.8750462532043</td><td>1207.1209483146667</td><td>1167.3538575510795</td><td>0.9688588548507131</td><td>crab</td><td>POINTING</td><td>1</td><td>LST-1</td><td>LST-1</td></tr>\n",
       "<tr><td>3270</td><td>2020-12-15</td><td>22:52:35.629</td><td>2020-12-15</td><td>23:12:14.273</td><td>83.26570636363915</td><td>21.78764509031667</td><td>28.56790127187808</td><td>61.43209872812192</td><td>97.04301025344529</td><td>83.6287</td><td>22.0147</td><td>69720755.62860155</td><td>69721934.27275157</td><td>1178.6456680297852</td><td>1178.644150018692</td><td>1132.6847405359733</td><td>0.9610053057161447</td><td>crab</td><td>POINTING</td><td>1</td><td>LST-1</td><td>LST-1</td></tr>\n",
       "<tr><td>3271</td><td>2020-12-15</td><td>23:13:31.916</td><td>2020-12-15</td><td>23:33:08.350</td><td>83.97195558737434</td><td>22.245123266496897</td><td>24.501339484534782</td><td>65.49866051546522</td><td>99.39168781140621</td><td>83.6287</td><td>22.0147</td><td>69722011.91563535</td><td>69723188.3503282</td><td>1174.435002565384</td><td>1176.4346928596497</td><td>1128.1918456781277</td><td>0.9606251884640319</td><td>crab</td><td>POINTING</td><td>1</td><td>LST-1</td><td>LST-1</td></tr>\n",
       "</table></div>"
      ],
      "text/plain": [
       "<ObservationTable length=5>\n",
       "OBS_ID  DATE-OBS    TIME-OBS    DATE-END  ... OBS_MODE N_TELS TELLIST INSTRUME\n",
       "                                          ...                                 \n",
       "int64   bytes10     bytes12     bytes10   ...  bytes8  int64   bytes5  bytes5 \n",
       "------ ---------- ------------ ---------- ... -------- ------ ------- --------\n",
       "  3095 2020-12-08 00:19:06.226 2020-12-08 ... POINTING      1   LST-1    LST-1\n",
       "  3096 2020-12-08 00:55:23.102 2020-12-08 ... POINTING      1   LST-1    LST-1\n",
       "  3232 2020-12-14 03:19:38.822 2020-12-14 ... POINTING      1   LST-1    LST-1\n",
       "  3270 2020-12-15 22:52:35.629 2020-12-15 ... POINTING      1   LST-1    LST-1\n",
       "  3271 2020-12-15 23:13:31.916 2020-12-15 ... POINTING      1   LST-1    LST-1"
      ]
     },
     "metadata": {},
     "output_type": "display_data"
    }
   ],
   "source": [
    "obs_ids      = [] # All run numbers directly read from the directory\n",
    "observations = [] # Observation information for each dataset\n",
    "\n",
    "for dl3_dir in dl3_dirs:\n",
    "    # Opening all the dl3 data in a path\n",
    "    total_data_store = DataStore.from_dir(dl3_dir)\n",
    "    \n",
    "    # Taking the obs ids\n",
    "    _obs_ids = total_data_store.obs_table[\"OBS_ID\"].data\n",
    "    _obs_ids = _obs_ids[:]\n",
    "    \n",
    "    # Then we get the observation information from the total data store\n",
    "    _observations = total_data_store.get_observations(\n",
    "        _obs_ids,\n",
    "        required_irf=[\"aeff\", \"edisp\", \"rad_max\"]\n",
    "    )\n",
    "\n",
    "    obs_ids.append(_obs_ids)\n",
    "    observations.append(_observations)\n",
    "\n",
    "    print(f\"\\nReading {dl3_dir}...\\nN runs: {len(_obs_ids)} ({min(_obs_ids)}-{max(_obs_ids)})\")\n",
    "    print(f\"Livetime: {total_data_store.obs_table['LIVETIME'].data.sum()/3600:.2f} h\")\n",
    "display(total_data_store.obs_table[:5])\n",
    "\n",
    "# Defining target position and ON reion\n",
    "target_position = SkyCoord.from_name(target_name, frame=\"icrs\")\n",
    "on_region = PointSkyRegion(target_position)"
   ]
  },
  {
   "cell_type": "code",
   "execution_count": 20,
   "id": "d7d55d72-3188-4832-ad58-80ecf0fb25ae",
   "metadata": {},
   "outputs": [
    {
     "data": {
      "text/plain": [
       "(array([3095, 3096, 3232, 3270, 3271, 3273, 3274, 3275, 3276, 3277, 3278,\n",
       "        3318, 3319, 3320, 3321, 3328, 3329, 3330, 3339, 3340, 3356, 3373,\n",
       "        3601, 3615, 3634, 3635, 3673, 3674, 3675, 3677, 3707, 3708, 4087,\n",
       "        6073, 6304, 6872, 6873, 6874, 6892, 6895, 7098, 7133, 7136, 7196,\n",
       "        7197, 7227, 7228, 7231, 7232, 7233, 7253, 7276], dtype='>i8'),\n",
       " array([3095, 3096, 3232, 3270, 3271, 3273, 3274, 3275, 3276, 3277, 3278,\n",
       "        3318, 3319, 3320, 3321, 3328, 3329, 3330, 3339, 3340, 3356, 3373,\n",
       "        3601, 3615, 3634, 3635, 3673, 3674, 3675, 3677, 3707, 3708, 4087,\n",
       "        7098, 7133, 7136, 7196, 7197, 7227, 7228, 7231, 7232, 7233, 7253,\n",
       "        7276], dtype='>i8'))"
      ]
     },
     "execution_count": 20,
     "metadata": {},
     "output_type": "execute_result"
    }
   ],
   "source": [
    "obs_ids[4], obs_ids[5]"
   ]
  },
  {
   "cell_type": "markdown",
   "id": "6e287538-e24e-406a-9c51-80fa90658e50",
   "metadata": {},
   "source": [
    "### Defining all the energy axes"
   ]
  },
  {
   "cell_type": "code",
   "execution_count": 5,
   "id": "55dc148f-7dec-4460-ba3f-15be1daf9d61",
   "metadata": {},
   "outputs": [
    {
     "data": {
      "image/png": "[encoded data removed]",
      "text/plain": [
       "<Figure size 1000x100 with 1 Axes>"
      ]
     },
     "metadata": {},
     "output_type": "display_data"
    }
   ],
   "source": [
    "# ============================ #\n",
    "# estimated energy axes\n",
    "energy_axis = MapAxis.from_energy_bounds(\n",
    "    e_reco_min, e_reco_max, \n",
    "    nbin=e_reco_bin_p_dec, per_decade=True, \n",
    "    unit=\"TeV\", name=\"energy\"\n",
    ")\n",
    "# ============================ #\n",
    "# estimated energy axes\n",
    "energy_axis_true = MapAxis.from_energy_bounds(\n",
    "    e_true_min, e_true_max, \n",
    "    nbin=e_true_bin_p_dec, per_decade=True, \n",
    "    unit=\"TeV\", name=\"energy_true\"\n",
    ")\n",
    "# ============================ #\n",
    "# Energy for the spectrum\n",
    "e_fit_min = energy_axis.edges[0].value\n",
    "e_fit_max = energy_axis.edges[-1].value\n",
    "e_fit_bin_p_dec = e_reco_bin_p_dec\n",
    "\n",
    "# Just to have a separate MapAxis for spectral fit energy range\n",
    "energy_fit_edges = MapAxis.from_energy_bounds(\n",
    "    e_fit_min, e_fit_max, \n",
    "    nbin=e_fit_bin_p_dec, per_decade=True, \n",
    "    unit=\"TeV\"\n",
    ").edges\n",
    "\n",
    "# ============================ #\n",
    "\n",
    "fig, ax = plt.subplots(figsize=(10,1))\n",
    "for i in range(len(energy_fit_edges)-1):\n",
    "    if i % 2 == 0:\n",
    "        ax.axvspan(energy_fit_edges[i].value, energy_fit_edges[i+1].value, color=\"gray\",)\n",
    "    else:\n",
    "        ax.axvspan(energy_fit_edges[i].value, energy_fit_edges[i+1].value, color=\"lightgray\")\n",
    "\n",
    "ax.axvspan(None, None, color=\"gray\", label=\"SED bins\")\n",
    "ax.axvspan(e_lc_min.value, e_lc_max.value, facecolor=\"none\", edgecolor=\"k\", hatch=\"/\", label=\"LC integration lims\")\n",
    "ax.set_yticks([])\n",
    "ax.legend(loc=3)\n",
    "ax.set_xscale(\"log\")\n",
    "ax.set_xlabel(\"Energy [TeV]\")\n",
    "plt.show()"
   ]
  },
  {
   "cell_type": "markdown",
   "id": "35686077-d04f-4885-ba22-c9d739998641",
   "metadata": {},
   "source": [
    "### We define the geometry regions in te sky and prepare the empty datasets and makers"
   ]
  },
  {
   "cell_type": "code",
   "execution_count": 6,
   "id": "1e4b1f96-2ae4-4ed6-8f30-c5d812aa60ba",
   "metadata": {},
   "outputs": [],
   "source": [
    "# geometry defining the ON region and SpectrumDataset based on it\n",
    "geom = RegionGeom.create(\n",
    "    region=on_region, \n",
    "    axes=[energy_axis]\n",
    ")\n",
    "\n",
    "\n",
    "# -------------------------------------------------------\n",
    "# creating an empty dataset\n",
    "dataset_empty = SpectrumDataset.create(\n",
    "    geom=geom, \n",
    "    energy_axis_true=energy_axis_true\n",
    ")\n",
    "dataset_maker = SpectrumDatasetMaker(\n",
    "    containment_correction=False,\n",
    "    selection=[\"counts\", \"exposure\", \"edisp\"]\n",
    ")\n",
    "# -------------------------------------------------------\n",
    "\n",
    "\n",
    "# tell the background maker to use the WobbleRegionsFinder\n",
    "region_finder = WobbleRegionsFinder(n_off_regions=n_off_regions)\n",
    "bkg_maker = ReflectedRegionsBackgroundMaker(region_finder=region_finder)"
   ]
  },
  {
   "cell_type": "markdown",
   "id": "84d22616-6e73-4e0f-a95b-482bee1176c8",
   "metadata": {},
   "source": [
    "### Now we analize the ON and OFF regions in the dataset and we store them in `datasets`, then the datasets can be stacked in a unique one"
   ]
  },
  {
   "cell_type": "code",
   "execution_count": 7,
   "id": "5a23ba7c-9963-4aeb-b833-eccc15664fb5",
   "metadata": {
    "scrolled": true
   },
   "outputs": [
    {
     "name": "stdout",
     "output_type": "stream",
     "text": [
      "dataset = Unsatable\n",
      "SpectrumDatasetOnOff\n",
      "--------------------\n",
      "\n",
      "  Name                            : 9Qim1Doa \n",
      "\n",
      "  Total counts                    : 67224 \n",
      "  Total background counts         : 52564.00\n",
      "  Total excess counts             : 14660.00\n",
      "\n",
      "  Predicted counts                : 59894.00\n",
      "  Predicted background counts     : 59894.00\n",
      "  Predicted excess counts         : nan\n",
      "\n",
      "  Exposure min                    : 1.93e+04 m2 s\n",
      "  Exposure max                    : 5.43e+09 m2 s\n",
      "\n",
      "  Number of total bins            : 14 \n",
      "  Number of fit bins              : 14 \n",
      "\n",
      "  Fit statistic type              : wstat\n",
      "  Fit statistic value (-2 log(L)) : 5885.84\n",
      "\n",
      "  Number of models                : 0 \n",
      "  Number of parameters            : 0\n",
      "  Number of free parameters       : 0\n",
      "\n",
      "  Total counts_off                : 52564 \n",
      "  Acceptance                      : 14 \n",
      "  Acceptance off                  : 14 \n",
      "\n",
      "dataset = Unsatable scaled\n",
      "SpectrumDatasetOnOff\n",
      "--------------------\n",
      "\n",
      "  Name                            : WXE7XZch \n",
      "\n",
      "  Total counts                    : 66703 \n",
      "  Total background counts         : 51930.00\n",
      "  Total excess counts             : 14773.00\n",
      "\n",
      "  Predicted counts                : 59316.50\n",
      "  Predicted background counts     : 59316.50\n",
      "  Predicted excess counts         : nan\n",
      "\n",
      "  Exposure min                    : 1.93e+04 m2 s\n",
      "  Exposure max                    : 5.43e+09 m2 s\n",
      "\n",
      "  Number of total bins            : 14 \n",
      "  Number of fit bins              : 14 \n",
      "\n",
      "  Fit statistic type              : wstat\n",
      "  Fit statistic value (-2 log(L)) : 5897.54\n",
      "\n",
      "  Number of models                : 0 \n",
      "  Number of parameters            : 0\n",
      "  Number of free parameters       : 0\n",
      "\n",
      "  Total counts_off                : 51930 \n",
      "  Acceptance                      : 14 \n",
      "  Acceptance off                  : 14 \n",
      "\n",
      "dataset = Stable (jumps)\n",
      "SpectrumDatasetOnOff\n",
      "--------------------\n",
      "\n",
      "  Name                            : a7J-UEnS \n",
      "\n",
      "  Total counts                    : 60485 \n",
      "  Total background counts         : 48627.00\n",
      "  Total excess counts             : 11858.00\n",
      "\n",
      "  Predicted counts                : 54556.00\n",
      "  Predicted background counts     : 54556.00\n",
      "  Predicted excess counts         : nan\n",
      "\n",
      "  Exposure min                    : 1.95e+04 m2 s\n",
      "  Exposure max                    : 4.45e+09 m2 s\n",
      "\n",
      "  Number of total bins            : 14 \n",
      "  Number of fit bins              : 14 \n",
      "\n",
      "  Fit statistic type              : wstat\n",
      "  Fit statistic value (-2 log(L)) : 4623.78\n",
      "\n",
      "  Number of models                : 0 \n",
      "  Number of parameters            : 0\n",
      "  Number of free parameters       : 0\n",
      "\n",
      "  Total counts_off                : 48627 \n",
      "  Acceptance                      : 14 \n",
      "  Acceptance off                  : 14 \n",
      "\n",
      "dataset = Stable (jumps) scaled\n",
      "SpectrumDatasetOnOff\n",
      "--------------------\n",
      "\n",
      "  Name                            : nmLznZff \n",
      "\n",
      "  Total counts                    : 47033 \n",
      "  Total background counts         : 37778.00\n",
      "  Total excess counts             : 9255.00\n",
      "\n",
      "  Predicted counts                : 42405.50\n",
      "  Predicted background counts     : 42405.50\n",
      "  Predicted excess counts         : nan\n",
      "\n",
      "  Exposure min                    : 1.53e+04 m2 s\n",
      "  Exposure max                    : 3.48e+09 m2 s\n",
      "\n",
      "  Number of total bins            : 14 \n",
      "  Number of fit bins              : 14 \n",
      "\n",
      "  Fit statistic type              : wstat\n",
      "  Fit statistic value (-2 log(L)) : 3618.01\n",
      "\n",
      "  Number of models                : 0 \n",
      "  Number of parameters            : 0\n",
      "  Number of free parameters       : 0\n",
      "\n",
      "  Total counts_off                : 37778 \n",
      "  Acceptance                      : 14 \n",
      "  Acceptance off                  : 14 \n",
      "\n",
      "dataset = Stable\n",
      "SpectrumDatasetOnOff\n",
      "--------------------\n",
      "\n",
      "  Name                            : fInuOG1f \n",
      "\n",
      "  Total counts                    : 146077 \n",
      "  Total background counts         : 113663.00\n",
      "  Total excess counts             : 32414.00\n",
      "\n",
      "  Predicted counts                : 129870.00\n",
      "  Predicted background counts     : 129870.00\n",
      "  Predicted excess counts         : nan\n",
      "\n",
      "  Exposure min                    : 3.81e+04 m2 s\n",
      "  Exposure max                    : 1.15e+10 m2 s\n",
      "\n",
      "  Number of total bins            : 14 \n",
      "  Number of fit bins              : 14 \n",
      "\n",
      "  Fit statistic type              : wstat\n",
      "  Fit statistic value (-2 log(L)) : 13207.37\n",
      "\n",
      "  Number of models                : 0 \n",
      "  Number of parameters            : 0\n",
      "  Number of free parameters       : 0\n",
      "\n",
      "  Total counts_off                : 113663 \n",
      "  Acceptance                      : 14 \n",
      "  Acceptance off                  : 14 \n",
      "\n",
      "dataset = Stable scaled\n",
      "SpectrumDatasetOnOff\n",
      "--------------------\n",
      "\n",
      "  Name                            : W5QPaTBr \n",
      "\n",
      "  Total counts                    : 118461 \n",
      "  Total background counts         : 91313.00\n",
      "  Total excess counts             : 27148.00\n",
      "\n",
      "  Predicted counts                : 104887.00\n",
      "  Predicted background counts     : 104887.00\n",
      "  Predicted excess counts         : nan\n",
      "\n",
      "  Exposure min                    : 3.19e+04 m2 s\n",
      "  Exposure max                    : 9.63e+09 m2 s\n",
      "\n",
      "  Number of total bins            : 14 \n",
      "  Number of fit bins              : 14 \n",
      "\n",
      "  Fit statistic type              : wstat\n",
      "  Fit statistic value (-2 log(L)) : 11008.09\n",
      "\n",
      "  Number of models                : 0 \n",
      "  Number of parameters            : 0\n",
      "  Number of free parameters       : 0\n",
      "\n",
      "  Total counts_off                : 91313 \n",
      "  Acceptance                      : 14 \n",
      "  Acceptance off                  : 14 \n",
      "\n",
      "CPU times: user 4min 14s, sys: 1min 16s, total: 5min 31s\n",
      "Wall time: 5min 37s\n"
     ]
    }
   ],
   "source": [
    "%%time\n",
    "datasets = []\n",
    "stacked_datasets = []\n",
    "for _observations, label, pkl_path in zip(observations, dataset_labels, pkl_paths_dataset):\n",
    "    if compute_datasets:\n",
    "        # -------------------------------------------------------\n",
    "        # The final object will be stored as a Datasets object\n",
    "        _datasets = Datasets()\n",
    "        for obs in _observations:\n",
    "            _dataset = copy.copy(dataset_maker).run(\n",
    "                dataset=copy.copy(dataset_empty).copy(name=str(obs.obs_id)),\n",
    "                observation=obs\n",
    "            )\n",
    "            dataset_on_off = bkg_maker.run(\n",
    "                dataset=_dataset, \n",
    "                observation=obs\n",
    "            )\n",
    "            _datasets.append(dataset_on_off) \n",
    "\n",
    "        # Stacking the datasets in one\n",
    "        _stacked_dataset = Datasets(_datasets).stack_reduce()\n",
    "\n",
    "        datasets.append(_datasets)\n",
    "        stacked_datasets.append(_stacked_dataset)\n",
    "        # -------------------------------------------------------\n",
    "\n",
    "        # Storing objects\n",
    "        with open(pkl_path, 'wb') as f:\n",
    "            pickle.dump(_datasets, f, pickle.HIGHEST_PROTOCOL)\n",
    "    else:\n",
    "        with open(pkl_path, \"rb\") as f:\n",
    "            _datasets = pickle.load(f)\n",
    "        _stacked_dataset = Datasets(_datasets).stack_reduce()\n",
    "        \n",
    "        datasets.append(_datasets)\n",
    "        stacked_datasets.append(_stacked_dataset)\n",
    "        \n",
    "    print(f\"dataset = {label}\")\n",
    "    print(_stacked_dataset)"
   ]
  },
  {
   "cell_type": "markdown",
   "id": "8407286a-7e1a-41f9-a2d6-d7d798e5538b",
   "metadata": {},
   "source": [
    "### Then we define the model and set it inside the dataset"
   ]
  },
  {
   "cell_type": "code",
   "execution_count": 8,
   "id": "fd0bca34-b9e7-43bb-a3ac-56b65fc52bc7",
   "metadata": {},
   "outputs": [],
   "source": [
    "# defining the model we want to fit and the starting values\n",
    "spectral_model = LogParabolaSpectralModel(\n",
    "    amplitude=1e-12 * u.Unit(\"cm-2 s-1 TeV-1\"),\n",
    "    alpha=2,\n",
    "    beta=0.1,\n",
    "    reference=1 * u.TeV,\n",
    ")\n",
    "# we will use the crab model in general\n",
    "models = []\n",
    "for stacked_dataset in stacked_datasets:\n",
    "    _model = SkyModel(\n",
    "        spectral_model=spectral_model, \n",
    "        name=\"crab\"\n",
    "    )\n",
    "    # We set the model of all datasets to log parabola\n",
    "    stacked_dataset.models = _model\n",
    "    models.append(_model)"
   ]
  },
  {
   "cell_type": "markdown",
   "id": "d5e5e56b",
   "metadata": {},
   "source": [
    "### We fit the model with the stacked dataset"
   ]
  },
  {
   "cell_type": "code",
   "execution_count": 9,
   "id": "695148b7-e285-4fac-a9ff-7094988b47db",
   "metadata": {},
   "outputs": [
    {
     "data": {
      "text/html": [
       "<div><i>Table length=4</i>\n",
       "<table id=\"table140483031863184\" class=\"table-striped table-bordered table-condensed\">\n",
       "<thead><tr><th>model</th><th>type</th><th>name</th><th>value</th><th>unit</th><th>error</th><th>min</th><th>max</th><th>frozen</th><th>is_norm</th><th>link</th></tr></thead>\n",
       "<thead><tr><th>str4</th><th>str8</th><th>str9</th><th>float64</th><th>str14</th><th>float64</th><th>float64</th><th>float64</th><th>bool</th><th>bool</th><th>str1</th></tr></thead>\n",
       "<tr><td>crab</td><td>spectral</td><td>amplitude</td><td>3.9414e-11</td><td>TeV-1 s-1 cm-2</td><td>8.000e-13</td><td>nan</td><td>nan</td><td>False</td><td>True</td><td></td></tr>\n",
       "<tr><td>crab</td><td>spectral</td><td>reference</td><td>1.0000e+00</td><td>TeV</td><td>0.000e+00</td><td>nan</td><td>nan</td><td>True</td><td>False</td><td></td></tr>\n",
       "<tr><td>crab</td><td>spectral</td><td>alpha</td><td>2.4594e+00</td><td></td><td>2.055e-02</td><td>nan</td><td>nan</td><td>False</td><td>False</td><td></td></tr>\n",
       "<tr><td>crab</td><td>spectral</td><td>beta</td><td>1.0918e-01</td><td></td><td>1.529e-02</td><td>nan</td><td>nan</td><td>False</td><td>False</td><td></td></tr>\n",
       "</table></div>"
      ],
      "text/plain": [
       "<Table length=4>\n",
       "model   type      name     value    ...   max   frozen is_norm link\n",
       " str4   str8      str9    float64   ... float64  bool    bool  str1\n",
       "----- -------- --------- ---------- ... ------- ------ ------- ----\n",
       " crab spectral amplitude 3.9414e-11 ...     nan  False    True     \n",
       " crab spectral reference 1.0000e+00 ...     nan   True   False     \n",
       " crab spectral     alpha 2.4594e+00 ...     nan  False   False     \n",
       " crab spectral      beta 1.0918e-01 ...     nan  False   False     "
      ]
     },
     "metadata": {},
     "output_type": "display_data"
    },
    {
     "data": {
      "text/html": [
       "<div><i>Table length=4</i>\n",
       "<table id=\"table140483029576400\" class=\"table-striped table-bordered table-condensed\">\n",
       "<thead><tr><th>model</th><th>type</th><th>name</th><th>value</th><th>unit</th><th>error</th><th>min</th><th>max</th><th>frozen</th><th>is_norm</th><th>link</th></tr></thead>\n",
       "<thead><tr><th>str4</th><th>str8</th><th>str9</th><th>float64</th><th>str14</th><th>float64</th><th>float64</th><th>float64</th><th>bool</th><th>bool</th><th>str1</th></tr></thead>\n",
       "<tr><td>crab</td><td>spectral</td><td>amplitude</td><td>3.9065e-11</td><td>TeV-1 s-1 cm-2</td><td>7.957e-13</td><td>nan</td><td>nan</td><td>False</td><td>True</td><td></td></tr>\n",
       "<tr><td>crab</td><td>spectral</td><td>reference</td><td>1.0000e+00</td><td>TeV</td><td>0.000e+00</td><td>nan</td><td>nan</td><td>True</td><td>False</td><td></td></tr>\n",
       "<tr><td>crab</td><td>spectral</td><td>alpha</td><td>2.4745e+00</td><td></td><td>2.094e-02</td><td>nan</td><td>nan</td><td>False</td><td>False</td><td></td></tr>\n",
       "<tr><td>crab</td><td>spectral</td><td>beta</td><td>1.1219e-01</td><td></td><td>1.548e-02</td><td>nan</td><td>nan</td><td>False</td><td>False</td><td></td></tr>\n",
       "</table></div>"
      ],
      "text/plain": [
       "<Table length=4>\n",
       "model   type      name     value    ...   max   frozen is_norm link\n",
       " str4   str8      str9    float64   ... float64  bool    bool  str1\n",
       "----- -------- --------- ---------- ... ------- ------ ------- ----\n",
       " crab spectral amplitude 3.9065e-11 ...     nan  False    True     \n",
       " crab spectral reference 1.0000e+00 ...     nan   True   False     \n",
       " crab spectral     alpha 2.4745e+00 ...     nan  False   False     \n",
       " crab spectral      beta 1.1219e-01 ...     nan  False   False     "
      ]
     },
     "metadata": {},
     "output_type": "display_data"
    },
    {
     "data": {
      "text/html": [
       "<div><i>Table length=4</i>\n",
       "<table id=\"table140482948337552\" class=\"table-striped table-bordered table-condensed\">\n",
       "<thead><tr><th>model</th><th>type</th><th>name</th><th>value</th><th>unit</th><th>error</th><th>min</th><th>max</th><th>frozen</th><th>is_norm</th><th>link</th></tr></thead>\n",
       "<thead><tr><th>str4</th><th>str8</th><th>str9</th><th>float64</th><th>str14</th><th>float64</th><th>float64</th><th>float64</th><th>bool</th><th>bool</th><th>str1</th></tr></thead>\n",
       "<tr><td>crab</td><td>spectral</td><td>amplitude</td><td>3.9677e-11</td><td>TeV-1 s-1 cm-2</td><td>9.044e-13</td><td>nan</td><td>nan</td><td>False</td><td>True</td><td></td></tr>\n",
       "<tr><td>crab</td><td>spectral</td><td>reference</td><td>1.0000e+00</td><td>TeV</td><td>0.000e+00</td><td>nan</td><td>nan</td><td>True</td><td>False</td><td></td></tr>\n",
       "<tr><td>crab</td><td>spectral</td><td>alpha</td><td>2.4972e+00</td><td></td><td>2.185e-02</td><td>nan</td><td>nan</td><td>False</td><td>False</td><td></td></tr>\n",
       "<tr><td>crab</td><td>spectral</td><td>beta</td><td>1.0743e-01</td><td></td><td>1.648e-02</td><td>nan</td><td>nan</td><td>False</td><td>False</td><td></td></tr>\n",
       "</table></div>"
      ],
      "text/plain": [
       "<Table length=4>\n",
       "model   type      name     value    ...   max   frozen is_norm link\n",
       " str4   str8      str9    float64   ... float64  bool    bool  str1\n",
       "----- -------- --------- ---------- ... ------- ------ ------- ----\n",
       " crab spectral amplitude 3.9677e-11 ...     nan  False    True     \n",
       " crab spectral reference 1.0000e+00 ...     nan   True   False     \n",
       " crab spectral     alpha 2.4972e+00 ...     nan  False   False     \n",
       " crab spectral      beta 1.0743e-01 ...     nan  False   False     "
      ]
     },
     "metadata": {},
     "output_type": "display_data"
    },
    {
     "data": {
      "text/html": [
       "<div><i>Table length=4</i>\n",
       "<table id=\"table140483033299664\" class=\"table-striped table-bordered table-condensed\">\n",
       "<thead><tr><th>model</th><th>type</th><th>name</th><th>value</th><th>unit</th><th>error</th><th>min</th><th>max</th><th>frozen</th><th>is_norm</th><th>link</th></tr></thead>\n",
       "<thead><tr><th>str4</th><th>str8</th><th>str9</th><th>float64</th><th>str14</th><th>float64</th><th>float64</th><th>float64</th><th>bool</th><th>bool</th><th>str1</th></tr></thead>\n",
       "<tr><td>crab</td><td>spectral</td><td>amplitude</td><td>3.9876e-11</td><td>TeV-1 s-1 cm-2</td><td>1.024e-12</td><td>nan</td><td>nan</td><td>False</td><td>True</td><td></td></tr>\n",
       "<tr><td>crab</td><td>spectral</td><td>reference</td><td>1.0000e+00</td><td>TeV</td><td>0.000e+00</td><td>nan</td><td>nan</td><td>True</td><td>False</td><td></td></tr>\n",
       "<tr><td>crab</td><td>spectral</td><td>alpha</td><td>2.4918e+00</td><td></td><td>2.459e-02</td><td>nan</td><td>nan</td><td>False</td><td>False</td><td></td></tr>\n",
       "<tr><td>crab</td><td>spectral</td><td>beta</td><td>1.0635e-01</td><td></td><td>1.851e-02</td><td>nan</td><td>nan</td><td>False</td><td>False</td><td></td></tr>\n",
       "</table></div>"
      ],
      "text/plain": [
       "<Table length=4>\n",
       "model   type      name     value    ...   max   frozen is_norm link\n",
       " str4   str8      str9    float64   ... float64  bool    bool  str1\n",
       "----- -------- --------- ---------- ... ------- ------ ------- ----\n",
       " crab spectral amplitude 3.9876e-11 ...     nan  False    True     \n",
       " crab spectral reference 1.0000e+00 ...     nan   True   False     \n",
       " crab spectral     alpha 2.4918e+00 ...     nan  False   False     \n",
       " crab spectral      beta 1.0635e-01 ...     nan  False   False     "
      ]
     },
     "metadata": {},
     "output_type": "display_data"
    },
    {
     "data": {
      "text/html": [
       "<div><i>Table length=4</i>\n",
       "<table id=\"table140483036167376\" class=\"table-striped table-bordered table-condensed\">\n",
       "<thead><tr><th>model</th><th>type</th><th>name</th><th>value</th><th>unit</th><th>error</th><th>min</th><th>max</th><th>frozen</th><th>is_norm</th><th>link</th></tr></thead>\n",
       "<thead><tr><th>str4</th><th>str8</th><th>str9</th><th>float64</th><th>str14</th><th>float64</th><th>float64</th><th>float64</th><th>bool</th><th>bool</th><th>str1</th></tr></thead>\n",
       "<tr><td>crab</td><td>spectral</td><td>amplitude</td><td>4.2406e-11</td><td>TeV-1 s-1 cm-2</td><td>5.726e-13</td><td>nan</td><td>nan</td><td>False</td><td>True</td><td></td></tr>\n",
       "<tr><td>crab</td><td>spectral</td><td>reference</td><td>1.0000e+00</td><td>TeV</td><td>0.000e+00</td><td>nan</td><td>nan</td><td>True</td><td>False</td><td></td></tr>\n",
       "<tr><td>crab</td><td>spectral</td><td>alpha</td><td>2.4575e+00</td><td></td><td>1.314e-02</td><td>nan</td><td>nan</td><td>False</td><td>False</td><td></td></tr>\n",
       "<tr><td>crab</td><td>spectral</td><td>beta</td><td>1.1365e-01</td><td></td><td>9.626e-03</td><td>nan</td><td>nan</td><td>False</td><td>False</td><td></td></tr>\n",
       "</table></div>"
      ],
      "text/plain": [
       "<Table length=4>\n",
       "model   type      name     value    ...   max   frozen is_norm link\n",
       " str4   str8      str9    float64   ... float64  bool    bool  str1\n",
       "----- -------- --------- ---------- ... ------- ------ ------- ----\n",
       " crab spectral amplitude 4.2406e-11 ...     nan  False    True     \n",
       " crab spectral reference 1.0000e+00 ...     nan   True   False     \n",
       " crab spectral     alpha 2.4575e+00 ...     nan  False   False     \n",
       " crab spectral      beta 1.1365e-01 ...     nan  False   False     "
      ]
     },
     "metadata": {},
     "output_type": "display_data"
    },
    {
     "data": {
      "text/html": [
       "<div><i>Table length=4</i>\n",
       "<table id=\"table140483026879248\" class=\"table-striped table-bordered table-condensed\">\n",
       "<thead><tr><th>model</th><th>type</th><th>name</th><th>value</th><th>unit</th><th>error</th><th>min</th><th>max</th><th>frozen</th><th>is_norm</th><th>link</th></tr></thead>\n",
       "<thead><tr><th>str4</th><th>str8</th><th>str9</th><th>float64</th><th>str14</th><th>float64</th><th>float64</th><th>float64</th><th>bool</th><th>bool</th><th>str1</th></tr></thead>\n",
       "<tr><td>crab</td><td>spectral</td><td>amplitude</td><td>4.1639e-11</td><td>TeV-1 s-1 cm-2</td><td>6.173e-13</td><td>nan</td><td>nan</td><td>False</td><td>True</td><td></td></tr>\n",
       "<tr><td>crab</td><td>spectral</td><td>reference</td><td>1.0000e+00</td><td>TeV</td><td>0.000e+00</td><td>nan</td><td>nan</td><td>True</td><td>False</td><td></td></tr>\n",
       "<tr><td>crab</td><td>spectral</td><td>alpha</td><td>2.4562e+00</td><td></td><td>1.431e-02</td><td>nan</td><td>nan</td><td>False</td><td>False</td><td></td></tr>\n",
       "<tr><td>crab</td><td>spectral</td><td>beta</td><td>1.0748e-01</td><td></td><td>1.037e-02</td><td>nan</td><td>nan</td><td>False</td><td>False</td><td></td></tr>\n",
       "</table></div>"
      ],
      "text/plain": [
       "<Table length=4>\n",
       "model   type      name     value    ...   max   frozen is_norm link\n",
       " str4   str8      str9    float64   ... float64  bool    bool  str1\n",
       "----- -------- --------- ---------- ... ------- ------ ------- ----\n",
       " crab spectral amplitude 4.1639e-11 ...     nan  False    True     \n",
       " crab spectral reference 1.0000e+00 ...     nan   True   False     \n",
       " crab spectral     alpha 2.4562e+00 ...     nan  False   False     \n",
       " crab spectral      beta 1.0748e-01 ...     nan  False   False     "
      ]
     },
     "metadata": {},
     "output_type": "display_data"
    }
   ],
   "source": [
    "best_fit_models = []\n",
    "for stacked_dataset, model in zip(stacked_datasets, models):\n",
    "    # Now we run the fit to extract the parameters of the model\n",
    "    fit = Fit()\n",
    "    result = fit.run(datasets=stacked_dataset)\n",
    "    best_fit_model = model\n",
    "    display(stacked_dataset.models.to_parameters_table())\n",
    "\n",
    "    best_fit_models.append(best_fit_model.copy())"
   ]
  },
  {
   "cell_type": "markdown",
   "id": "7d9b97bc",
   "metadata": {},
   "source": [
    "### Then from the model and the data we can extract the flux points"
   ]
  },
  {
   "cell_type": "code",
   "execution_count": 10,
   "id": "61b1fd7e-2228-4ccd-ae99-c0992bf28228",
   "metadata": {},
   "outputs": [
    {
     "data": {
      "text/html": [
       "<div><i>Table length=3</i>\n",
       "<table id=\"table140483017356432\" class=\"table-striped table-bordered table-condensed\">\n",
       "<thead><tr><th>e_ref</th><th>e_min</th><th>e_max</th><th>dnde</th><th>dnde_err</th><th>dnde_errp</th><th>dnde_errn</th><th>dnde_ul</th><th>ts</th><th>sqrt_ts</th><th>npred</th><th>npred_excess</th><th>stat</th><th>is_ul</th><th>counts</th><th>success</th><th>norm_scan</th><th>stat_scan</th></tr></thead>\n",
       "<thead><tr><th>TeV</th><th>TeV</th><th>TeV</th><th>1 / (TeV s cm2)</th><th>1 / (TeV s cm2)</th><th>1 / (TeV s cm2)</th><th>1 / (TeV s cm2)</th><th>1 / (TeV s cm2)</th><th></th><th></th><th></th><th></th><th></th><th></th><th></th><th></th><th></th><th></th></tr></thead>\n",
       "<thead><tr><th>float64</th><th>float64</th><th>float64</th><th>float64</th><th>float64</th><th>float64</th><th>float64</th><th>float64</th><th>float64</th><th>float64</th><th>float64[1]</th><th>float32[1]</th><th>float64</th><th>bool</th><th>float64[1]</th><th>bool</th><th>float64[11]</th><th>float64[11]</th></tr></thead>\n",
       "<tr><td>0.125</td><td>0.100</td><td>0.156</td><td>4.047e-09</td><td>2.973e-10</td><td>2.974e-10</td><td>2.974e-10</td><td>4.642e-09</td><td>185.272</td><td>13.611</td><td>48431.975342014746</td><td>4143.9526</td><td>0.000</td><td>False</td><td>48432.0</td><td>True</td><td>0.200 .. 5.000</td><td>114.425 .. 3429.295</td></tr>\n",
       "<tr><td>0.195</td><td>0.156</td><td>0.243</td><td>1.664e-09</td><td>5.876e-11</td><td>5.880e-11</td><td>5.873e-11</td><td>1.782e-09</td><td>808.978</td><td>28.443</td><td>9359.747026337698</td><td>3493.5884</td><td>0.000</td><td>False</td><td>9360.0</td><td>True</td><td>0.200 .. 5.000</td><td>507.365 .. 10313.827</td></tr>\n",
       "<tr><td>0.303</td><td>0.243</td><td>0.379</td><td>6.266e-10</td><td>1.802e-11</td><td>1.805e-11</td><td>1.798e-11</td><td>6.628e-10</td><td>1256.626</td><td>35.449</td><td>4158.031328159058</td><td>2624.043</td><td>0.000</td><td>False</td><td>4158.0</td><td>True</td><td>0.200 .. 5.000</td><td>786.005 .. 11252.285</td></tr>\n",
       "</table></div>"
      ],
      "text/plain": [
       "<Table length=3>\n",
       " e_ref   e_min   e_max  ... success   norm_scan         stat_scan      \n",
       "  TeV     TeV     TeV   ...                                            \n",
       "float64 float64 float64 ...   bool   float64[11]       float64[11]     \n",
       "------- ------- ------- ... ------- -------------- --------------------\n",
       "  0.125   0.100   0.156 ...    True 0.200 .. 5.000  114.425 .. 3429.295\n",
       "  0.195   0.156   0.243 ...    True 0.200 .. 5.000 507.365 .. 10313.827\n",
       "  0.303   0.243   0.379 ...    True 0.200 .. 5.000 786.005 .. 11252.285"
      ]
     },
     "metadata": {},
     "output_type": "display_data"
    },
    {
     "data": {
      "text/html": [
       "<div><i>Table length=3</i>\n",
       "<table id=\"table140483017167312\" class=\"table-striped table-bordered table-condensed\">\n",
       "<thead><tr><th>e_ref</th><th>e_min</th><th>e_max</th><th>dnde</th><th>dnde_err</th><th>dnde_errp</th><th>dnde_errn</th><th>dnde_ul</th><th>ts</th><th>sqrt_ts</th><th>npred</th><th>npred_excess</th><th>stat</th><th>is_ul</th><th>counts</th><th>success</th><th>norm_scan</th><th>stat_scan</th></tr></thead>\n",
       "<thead><tr><th>TeV</th><th>TeV</th><th>TeV</th><th>1 / (TeV s cm2)</th><th>1 / (TeV s cm2)</th><th>1 / (TeV s cm2)</th><th>1 / (TeV s cm2)</th><th>1 / (TeV s cm2)</th><th></th><th></th><th></th><th></th><th></th><th></th><th></th><th></th><th></th><th></th></tr></thead>\n",
       "<thead><tr><th>float64</th><th>float64</th><th>float64</th><th>float64</th><th>float64</th><th>float64</th><th>float64</th><th>float64</th><th>float64</th><th>float64</th><th>float64[1]</th><th>float32[1]</th><th>float64</th><th>bool</th><th>float64[1]</th><th>bool</th><th>float64[11]</th><th>float64[11]</th></tr></thead>\n",
       "<tr><td>0.125</td><td>0.100</td><td>0.156</td><td>4.165e-09</td><td>2.960e-10</td><td>2.960e-10</td><td>2.960e-10</td><td>4.757e-09</td><td>198.120</td><td>14.076</td><td>48011.991398881895</td><td>4262.9834</td><td>0.000</td><td>False</td><td>48012.0</td><td>True</td><td>0.200 .. 5.000</td><td>124.251 .. 3415.609</td></tr>\n",
       "<tr><td>0.195</td><td>0.156</td><td>0.243</td><td>1.682e-09</td><td>5.851e-11</td><td>5.855e-11</td><td>5.848e-11</td><td>1.800e-09</td><td>834.540</td><td>28.888</td><td>9309.854898992528</td><td>3531.765</td><td>0.000</td><td>False</td><td>9310.0</td><td>True</td><td>0.200 .. 5.000</td><td>526.517 .. 10312.381</td></tr>\n",
       "<tr><td>0.303</td><td>0.243</td><td>0.379</td><td>6.204e-10</td><td>1.801e-11</td><td>1.805e-11</td><td>1.798e-11</td><td>6.566e-10</td><td>1231.501</td><td>35.093</td><td>4141.0473605555035</td><td>2597.065</td><td>0.000</td><td>False</td><td>4141.0</td><td>True</td><td>0.200 .. 5.000</td><td>765.965 .. 11299.727</td></tr>\n",
       "</table></div>"
      ],
      "text/plain": [
       "<Table length=3>\n",
       " e_ref   e_min   e_max  ... success   norm_scan         stat_scan      \n",
       "  TeV     TeV     TeV   ...                                            \n",
       "float64 float64 float64 ...   bool   float64[11]       float64[11]     \n",
       "------- ------- ------- ... ------- -------------- --------------------\n",
       "  0.125   0.100   0.156 ...    True 0.200 .. 5.000  124.251 .. 3415.609\n",
       "  0.195   0.156   0.243 ...    True 0.200 .. 5.000 526.517 .. 10312.381\n",
       "  0.303   0.243   0.379 ...    True 0.200 .. 5.000 765.965 .. 11299.727"
      ]
     },
     "metadata": {},
     "output_type": "display_data"
    },
    {
     "data": {
      "text/html": [
       "<div><i>Table length=3</i>\n",
       "<table id=\"table140483014001232\" class=\"table-striped table-bordered table-condensed\">\n",
       "<thead><tr><th>e_ref</th><th>e_min</th><th>e_max</th><th>dnde</th><th>dnde_err</th><th>dnde_errp</th><th>dnde_errn</th><th>dnde_ul</th><th>ts</th><th>sqrt_ts</th><th>npred</th><th>npred_excess</th><th>stat</th><th>is_ul</th><th>counts</th><th>success</th><th>norm_scan</th><th>stat_scan</th></tr></thead>\n",
       "<thead><tr><th>TeV</th><th>TeV</th><th>TeV</th><th>1 / (TeV s cm2)</th><th>1 / (TeV s cm2)</th><th>1 / (TeV s cm2)</th><th>1 / (TeV s cm2)</th><th>1 / (TeV s cm2)</th><th></th><th></th><th></th><th></th><th></th><th></th><th></th><th></th><th></th><th></th></tr></thead>\n",
       "<thead><tr><th>float64</th><th>float64</th><th>float64</th><th>float64</th><th>float64</th><th>float64</th><th>float64</th><th>float64</th><th>float64</th><th>float64</th><th>float64[1]</th><th>float32[1]</th><th>float64</th><th>bool</th><th>float64[1]</th><th>bool</th><th>float64[11]</th><th>float64[11]</th></tr></thead>\n",
       "<tr><td>0.125</td><td>0.100</td><td>0.156</td><td>4.592e-09</td><td>3.842e-10</td><td>3.844e-10</td><td>3.844e-10</td><td>5.361e-09</td><td>142.752</td><td>11.948</td><td>45144.99169304696</td><td>3518.9841</td><td>0.000</td><td>False</td><td>45145.0</td><td>True</td><td>0.200 .. 5.000</td><td>93.954 .. 1944.462</td></tr>\n",
       "<tr><td>0.195</td><td>0.156</td><td>0.243</td><td>1.726e-09</td><td>7.210e-11</td><td>7.215e-11</td><td>7.206e-11</td><td>1.871e-09</td><td>577.538</td><td>24.032</td><td>7750.995612422567</td><td>2707.9927</td><td>0.000</td><td>False</td><td>7751.0</td><td>True</td><td>0.200 .. 5.000</td><td>368.992 .. 7053.008</td></tr>\n",
       "<tr><td>0.303</td><td>0.243</td><td>0.379</td><td>6.878e-10</td><td>2.163e-11</td><td>2.168e-11</td><td>2.159e-11</td><td>7.314e-10</td><td>1050.355</td><td>32.409</td><td>3466.757466495259</td><td>2189.6682</td><td>0.000</td><td>False</td><td>3467.0</td><td>True</td><td>0.200 .. 5.000</td><td>688.759 .. 7919.400</td></tr>\n",
       "</table></div>"
      ],
      "text/plain": [
       "<Table length=3>\n",
       " e_ref   e_min   e_max  ... success   norm_scan         stat_scan     \n",
       "  TeV     TeV     TeV   ...                                           \n",
       "float64 float64 float64 ...   bool   float64[11]       float64[11]    \n",
       "------- ------- ------- ... ------- -------------- -------------------\n",
       "  0.125   0.100   0.156 ...    True 0.200 .. 5.000  93.954 .. 1944.462\n",
       "  0.195   0.156   0.243 ...    True 0.200 .. 5.000 368.992 .. 7053.008\n",
       "  0.303   0.243   0.379 ...    True 0.200 .. 5.000 688.759 .. 7919.400"
      ]
     },
     "metadata": {},
     "output_type": "display_data"
    },
    {
     "data": {
      "text/html": [
       "<div><i>Table length=3</i>\n",
       "<table id=\"table140483015901072\" class=\"table-striped table-bordered table-condensed\">\n",
       "<thead><tr><th>e_ref</th><th>e_min</th><th>e_max</th><th>dnde</th><th>dnde_err</th><th>dnde_errp</th><th>dnde_errn</th><th>dnde_ul</th><th>ts</th><th>sqrt_ts</th><th>npred</th><th>npred_excess</th><th>stat</th><th>is_ul</th><th>counts</th><th>success</th><th>norm_scan</th><th>stat_scan</th></tr></thead>\n",
       "<thead><tr><th>TeV</th><th>TeV</th><th>TeV</th><th>1 / (TeV s cm2)</th><th>1 / (TeV s cm2)</th><th>1 / (TeV s cm2)</th><th>1 / (TeV s cm2)</th><th>1 / (TeV s cm2)</th><th></th><th></th><th></th><th></th><th></th><th></th><th></th><th></th><th></th><th></th></tr></thead>\n",
       "<thead><tr><th>float64</th><th>float64</th><th>float64</th><th>float64</th><th>float64</th><th>float64</th><th>float64</th><th>float64</th><th>float64</th><th>float64</th><th>float64[1]</th><th>float32[1]</th><th>float64</th><th>bool</th><th>float64[1]</th><th>bool</th><th>float64[11]</th><th>float64[11]</th></tr></thead>\n",
       "<tr><td>0.125</td><td>0.100</td><td>0.156</td><td>4.569e-09</td><td>4.332e-10</td><td>4.331e-10</td><td>4.331e-10</td><td>5.435e-09</td><td>111.316</td><td>10.551</td><td>35050.99451749562</td><td>2737.9895</td><td>0.000</td><td>False</td><td>35051.0</td><td>True</td><td>0.200 .. 5.000</td><td>73.089 .. 1535.775</td></tr>\n",
       "<tr><td>0.195</td><td>0.156</td><td>0.243</td><td>1.709e-09</td><td>8.126e-11</td><td>8.132e-11</td><td>8.121e-11</td><td>1.872e-09</td><td>445.727</td><td>21.112</td><td>6002.981655974472</td><td>2093.9697</td><td>0.000</td><td>False</td><td>6003.0</td><td>True</td><td>0.200 .. 5.000</td><td>283.350 .. 5561.281</td></tr>\n",
       "<tr><td>0.303</td><td>0.243</td><td>0.379</td><td>6.908e-10</td><td>2.472e-11</td><td>2.479e-11</td><td>2.467e-11</td><td>7.406e-10</td><td>810.213</td><td>28.464</td><td>2748.7566857351667</td><td>1717.6654</td><td>0.000</td><td>False</td><td>2749.0</td><td>True</td><td>0.200 .. 5.000</td><td>532.204 .. 6123.492</td></tr>\n",
       "</table></div>"
      ],
      "text/plain": [
       "<Table length=3>\n",
       " e_ref   e_min   e_max  ... success   norm_scan         stat_scan     \n",
       "  TeV     TeV     TeV   ...                                           \n",
       "float64 float64 float64 ...   bool   float64[11]       float64[11]    \n",
       "------- ------- ------- ... ------- -------------- -------------------\n",
       "  0.125   0.100   0.156 ...    True 0.200 .. 5.000  73.089 .. 1535.775\n",
       "  0.195   0.156   0.243 ...    True 0.200 .. 5.000 283.350 .. 5561.281\n",
       "  0.303   0.243   0.379 ...    True 0.200 .. 5.000 532.204 .. 6123.492"
      ]
     },
     "metadata": {},
     "output_type": "display_data"
    },
    {
     "data": {
      "text/html": [
       "<div><i>Table length=3</i>\n",
       "<table id=\"table140483006395088\" class=\"table-striped table-bordered table-condensed\">\n",
       "<thead><tr><th>e_ref</th><th>e_min</th><th>e_max</th><th>dnde</th><th>dnde_err</th><th>dnde_errp</th><th>dnde_errn</th><th>dnde_ul</th><th>ts</th><th>sqrt_ts</th><th>npred</th><th>npred_excess</th><th>stat</th><th>is_ul</th><th>counts</th><th>success</th><th>norm_scan</th><th>stat_scan</th></tr></thead>\n",
       "<thead><tr><th>TeV</th><th>TeV</th><th>TeV</th><th>1 / (TeV s cm2)</th><th>1 / (TeV s cm2)</th><th>1 / (TeV s cm2)</th><th>1 / (TeV s cm2)</th><th>1 / (TeV s cm2)</th><th></th><th></th><th></th><th></th><th></th><th></th><th></th><th></th><th></th><th></th></tr></thead>\n",
       "<thead><tr><th>float64</th><th>float64</th><th>float64</th><th>float64</th><th>float64</th><th>float64</th><th>float64</th><th>float64</th><th>float64</th><th>float64</th><th>float64[1]</th><th>float32[1]</th><th>float64</th><th>bool</th><th>float64[1]</th><th>bool</th><th>float64[11]</th><th>float64[11]</th></tr></thead>\n",
       "<tr><td>0.125</td><td>0.100</td><td>0.156</td><td>4.031e-09</td><td>2.085e-10</td><td>2.080e-10</td><td>2.080e-10</td><td>4.447e-09</td><td>375.535</td><td>19.379</td><td>104212.94461642465</td><td>8659.894</td><td>0.000</td><td>False</td><td>104213.0</td><td>True</td><td>0.200 .. 5.000</td><td>231.406 .. 7030.313</td></tr>\n",
       "<tr><td>0.195</td><td>0.156</td><td>0.243</td><td>1.775e-09</td><td>4.121e-11</td><td>4.123e-11</td><td>4.120e-11</td><td>1.857e-09</td><td>1872.512</td><td>43.273</td><td>20507.89551607748</td><td>7843.831</td><td>0.000</td><td>False</td><td>20508.0</td><td>True</td><td>0.200 .. 5.000</td><td>1213.630 .. 20636.652</td></tr>\n",
       "<tr><td>0.303</td><td>0.243</td><td>0.379</td><td>6.893e-10</td><td>1.289e-11</td><td>1.291e-11</td><td>1.288e-11</td><td>7.152e-10</td><td>2974.423</td><td>54.538</td><td>9505.99488103281</td><td>6079.993</td><td>0.000</td><td>False</td><td>9506.0</td><td>True</td><td>0.200 .. 5.000</td><td>1953.246 .. 22058.921</td></tr>\n",
       "</table></div>"
      ],
      "text/plain": [
       "<Table length=3>\n",
       " e_ref   e_min   e_max  ... success   norm_scan          stat_scan      \n",
       "  TeV     TeV     TeV   ...                                             \n",
       "float64 float64 float64 ...   bool   float64[11]        float64[11]     \n",
       "------- ------- ------- ... ------- -------------- ---------------------\n",
       "  0.125   0.100   0.156 ...    True 0.200 .. 5.000   231.406 .. 7030.313\n",
       "  0.195   0.156   0.243 ...    True 0.200 .. 5.000 1213.630 .. 20636.652\n",
       "  0.303   0.243   0.379 ...    True 0.200 .. 5.000 1953.246 .. 22058.921"
      ]
     },
     "metadata": {},
     "output_type": "display_data"
    },
    {
     "data": {
      "text/html": [
       "<div><i>Table length=3</i>\n",
       "<table id=\"table140483004166864\" class=\"table-striped table-bordered table-condensed\">\n",
       "<thead><tr><th>e_ref</th><th>e_min</th><th>e_max</th><th>dnde</th><th>dnde_err</th><th>dnde_errp</th><th>dnde_errn</th><th>dnde_ul</th><th>ts</th><th>sqrt_ts</th><th>npred</th><th>npred_excess</th><th>stat</th><th>is_ul</th><th>counts</th><th>success</th><th>norm_scan</th><th>stat_scan</th></tr></thead>\n",
       "<thead><tr><th>TeV</th><th>TeV</th><th>TeV</th><th>1 / (TeV s cm2)</th><th>1 / (TeV s cm2)</th><th>1 / (TeV s cm2)</th><th>1 / (TeV s cm2)</th><th>1 / (TeV s cm2)</th><th></th><th></th><th></th><th></th><th></th><th></th><th></th><th></th><th></th><th></th></tr></thead>\n",
       "<thead><tr><th>float64</th><th>float64</th><th>float64</th><th>float64</th><th>float64</th><th>float64</th><th>float64</th><th>float64</th><th>float64</th><th>float64</th><th>float64[1]</th><th>float32[1]</th><th>float64</th><th>bool</th><th>float64[1]</th><th>bool</th><th>float64[11]</th><th>float64[11]</th></tr></thead>\n",
       "<tr><td>0.125</td><td>0.100</td><td>0.156</td><td>4.026e-09</td><td>2.206e-10</td><td>2.206e-10</td><td>2.206e-10</td><td>4.467e-09</td><td>333.145</td><td>18.252</td><td>83769.94635619939</td><td>7304.8975</td><td>0.000</td><td>False</td><td>83770.0</td><td>True</td><td>0.200 .. 5.000</td><td>205.157 .. 6239.754</td></tr>\n",
       "<tr><td>0.195</td><td>0.156</td><td>0.243</td><td>1.785e-09</td><td>4.424e-11</td><td>4.426e-11</td><td>4.421e-11</td><td>1.873e-09</td><td>1644.679</td><td>40.555</td><td>16933.84762509719</td><td>6655.7554</td><td>0.000</td><td>False</td><td>16934.0</td><td>True</td><td>0.200 .. 5.000</td><td>1069.023 .. 17665.198</td></tr>\n",
       "<tr><td>0.303</td><td>0.243</td><td>0.379</td><td>6.723e-10</td><td>1.394e-11</td><td>1.396e-11</td><td>1.392e-11</td><td>7.002e-10</td><td>2418.701</td><td>49.180</td><td>7877.983299137981</td><td>5001.977</td><td>0.000</td><td>False</td><td>7878.0</td><td>True</td><td>0.200 .. 5.000</td><td>1568.784 .. 18935.015</td></tr>\n",
       "</table></div>"
      ],
      "text/plain": [
       "<Table length=3>\n",
       " e_ref   e_min   e_max  ... success   norm_scan          stat_scan      \n",
       "  TeV     TeV     TeV   ...                                             \n",
       "float64 float64 float64 ...   bool   float64[11]        float64[11]     \n",
       "------- ------- ------- ... ------- -------------- ---------------------\n",
       "  0.125   0.100   0.156 ...    True 0.200 .. 5.000   205.157 .. 6239.754\n",
       "  0.195   0.156   0.243 ...    True 0.200 .. 5.000 1069.023 .. 17665.198\n",
       "  0.303   0.243   0.379 ...    True 0.200 .. 5.000 1568.784 .. 18935.015"
      ]
     },
     "metadata": {},
     "output_type": "display_data"
    },
    {
     "name": "stdout",
     "output_type": "stream",
     "text": [
      "CPU times: user 24 s, sys: 539 ms, total: 24.5 s\n",
      "Wall time: 24.7 s\n"
     ]
    }
   ],
   "source": [
    "%%time\n",
    "# then extracting the flux points from the data\n",
    "fpe = FluxPointsEstimator(\n",
    "    energy_edges=energy_fit_edges, \n",
    "    source=target_name, \n",
    "    selection_optional=\"all\"\n",
    ")\n",
    "\n",
    "flux_points = []\n",
    "for stacked_dataset in stacked_datasets:\n",
    "    fpe = FluxPointsEstimator(\n",
    "        energy_edges=energy_fit_edges, \n",
    "        source=target_name, \n",
    "        selection_optional=\"all\"\n",
    "    )\n",
    "    \n",
    "    # We apply the flux point estiation from the datasets\n",
    "    _flux_points = fpe.run(datasets=stacked_dataset)\n",
    "    display(_flux_points.to_table(sed_type=\"dnde\", formatted=True)[:3])\n",
    "    flux_points.append(_flux_points)\n"
   ]
  },
  {
   "cell_type": "markdown",
   "id": "51809436-e823-4321-8094-ecdb47e0c9c0",
   "metadata": {},
   "source": [
    "### Then we can plot the SED"
   ]
  },
  {
   "cell_type": "code",
   "execution_count": 11,
   "id": "f1305bcb-6268-45ed-954b-12ceeca5f3be",
   "metadata": {},
   "outputs": [
    {
     "data": {
      "image/png": "[encoded data removed]",
      "text/plain": [
       "<Figure size 700x400 with 1 Axes>"
      ]
     },
     "metadata": {},
     "output_type": "display_data"
    }
   ],
   "source": [
    "plot_kwargs = {\n",
    "    \"energy_bounds\": [0.08, 100] * u.TeV,\n",
    "    \"sed_type\": \"e2dnde\",\n",
    "    \"yunits\": u.Unit(\"TeV cm-2 s-1\"),\n",
    "    \"xunits\": u.TeV,\n",
    "}\n",
    "cmap = plotting.create_cmap_from_colors([\"w\", \"w\", \"cornflowerblue\"])\n",
    "\n",
    "# Crab models\n",
    "crab_magic_100 = create_crab_spectral_model(\"magic_lp\")\n",
    "\n",
    "# ----------------------------------------------------------\n",
    "fig, ax = plt.subplots(figsize=(7, 4))\n",
    "\n",
    "for i in range(len(color_plots)):\n",
    "    best_fit_models[i].spectral_model.plot_error(\n",
    "        ax=ax, facecolor=color_plots[i], alpha=0.2, **plot_kwargs,\n",
    "    )\n",
    "    flux_points[i].plot(sed_type=\"e2dnde\", color=color_plots[i], label=f\"LST-1 {dataset_labels[i]}\")\n",
    "\n",
    "crab_magic_100.plot(\n",
    "    ax=ax, ls=\"--\", lw=1.5, color=\"k\", label=\"MAGIC reference (Aleksić et al. 2015)\", **plot_kwargs\n",
    ")\n",
    "\n",
    "\n",
    "ax.legend(loc=3, frameon=False)\n",
    "ax.set_ylim([1e-13, 1e-10])\n",
    "ax.grid(which=\"both\", alpha=0.5)\n",
    "ax.set_ylabel(\"$E^2\\\\frac{dN}{dE}$ [TeVs${}^{-1}$cm${}^{-2}$]\")\n",
    "\n",
    "plt.savefig(f\"plots/total.png\", bbox_inches=\"tight\", dpi=400)\n",
    "plt.show()"
   ]
  },
  {
   "cell_type": "markdown",
   "id": "6dc25646-b623-44ff-b85a-3bcf11e21a36",
   "metadata": {},
   "source": [
    "### Then once we have found the SED model we fix the alpha and beta parameters and let the amplitude as a free parameter"
   ]
  },
  {
   "cell_type": "code",
   "execution_count": 12,
   "id": "f6a8d703-6c1f-4725-8f09-988867d28070",
   "metadata": {},
   "outputs": [],
   "source": [
    "# Create the LC Estimator for each run\n",
    "lc_maker_1d = LightCurveEstimator(\n",
    "    energy_edges=[e_lc_min, e_lc_max], \n",
    "    reoptimize=False, # Re-optimizing other free model parameters (not belonging to the source)\n",
    "    source=\"crab\", \n",
    "    selection_optional=\"all\" # Estimates asymmetric errors, upper limits and fit statistic profiles\n",
    ")\n",
    "\n",
    "for dataset, model in zip(datasets, models):\n",
    "    model.parameters[\"alpha\"].frozen = True\n",
    "    model.parameters[\"beta\"].frozen  = True\n",
    "    # Assigning the fixed parameters model to each dataset\n",
    "    for data in dataset:\n",
    "        data.models = model"
   ]
  },
  {
   "cell_type": "markdown",
   "id": "780728b6-381a-41d4-985b-0d1cf391d36d",
   "metadata": {},
   "source": [
    "### Then we run the lightcurve maker run-wise"
   ]
  },
  {
   "cell_type": "code",
   "execution_count": 13,
   "id": "96fae68a-24bf-44b2-a4cd-f9a25c567e41",
   "metadata": {},
   "outputs": [
    {
     "name": "stdout",
     "output_type": "stream",
     "text": [
      "LC will be estimated from 0.2 TeV to 50.0 TeV TeV\n"
     ]
    },
    {
     "name": "stderr",
     "output_type": "stream",
     "text": [
      "\n",
      "KeyboardInterrupt\n",
      "\n"
     ]
    }
   ],
   "source": [
    "%%time\n",
    "print(f\"LC will be estimated from {e_lc_min:} to {e_lc_max:} TeV\")\n",
    "lcs_runwise = []\n",
    "lightcurves = []\n",
    "for pkl_path, dataset in zip(pkl_paths_lightcurve, datasets):\n",
    "    if compute_datasets:\n",
    "        _lc_runwise = lc_maker_1d.run(dataset)\n",
    "        # Storing object\n",
    "        with open(pkl_path, 'wb') as f:\n",
    "            pickle.dump(_lc_runwise, f, pickle.HIGHEST_PROTOCOL)\n",
    "    else:\n",
    "        with open(pkl_path, \"rb\") as f:\n",
    "            _lc_runwise = pickle.load(f)\n",
    "    _lightcurve = _lc_runwise.to_table(sed_type=\"flux\", format=\"lightcurve\")\n",
    "    \n",
    "    lcs_runwise.append(_lc_runwise)\n",
    "    lightcurves.append(_lightcurve)"
   ]
  },
  {
   "cell_type": "markdown",
   "id": "e84c0309",
   "metadata": {},
   "source": [
    "### We calculate the mean flux and the statistical error\n",
    "##### Calculating the means, errors, $\\chi^2$ and $p$ values"
   ]
  },
  {
   "cell_type": "code",
   "execution_count": 14,
   "id": "cf3c80d0-5ba2-4971-a7a6-ee0c0c016176",
   "metadata": {},
   "outputs": [],
   "source": [
    "def weighted_average(table, sys_error=0):\n",
    "    val = table[\"flux\"]\n",
    "    uncertainty = np.sqrt((sys_error * table[\"flux\"])**2 + table[\"flux_err\"]**2)\n",
    "    return (val/uncertainty**2).sum() / (1/uncertainty**2).sum(), np.sqrt(1/np.sum(1/uncertainty**2))\n",
    "\n",
    "def calculate_chi2_pvalue(table, sys_error=0):\n",
    "    uncertainty = np.sqrt((sys_error * table[\"flux\"])**2 + table[\"flux_err\"]**2)\n",
    "    flux = table[\"flux\"]\n",
    "    mean_flux = (flux/uncertainty**2).sum() / (1/uncertainty**2).sum()\n",
    "    mean_flux_err = np.sqrt(1/np.sum(1/uncertainty**2))\n",
    "    print(f\"Weighted mean flux: {mean_flux:.3e} +/- {mean_flux_err:.3e} cm-2 s-1\")\n",
    "    \n",
    "    chi2_value = np.sum((table[\"flux\"] - mean_flux)**2/uncertainty**2)\n",
    "    ndf = len(table[\"flux\"]) - 1\n",
    "    pvalue = chi2.sf(x=chi2_value, df=ndf)\n",
    "    print(f\"Chi2: {chi2_value:.1f}, ndf: {ndf}, P-value: {pvalue:.2e}\")\n",
    "    return chi2_value, ndf, pvalue\n",
    "\n",
    "mean_flux = []\n",
    "mean_flux_err = []\n",
    "chi2_val, pvalue, ndf = [], [], []\n",
    "for lightcurve, label in zip(lightcurves, dataset_labels):\n",
    "    _mean_flux, _mean_flux_err = weighted_average(lightcurve)\n",
    "    print(f\"\\nFor {label} analysis\")\n",
    "    _chi2_val, _ndf, _pvalue = calculate_chi2_pvalue(lightcurve, sys_error=0.0)\n",
    "    mean_flux.append(_mean_flux)\n",
    "    mean_flux_err.append(_mean_flux_err)\n",
    "    chi2_val.append(_chi2_val)\n",
    "    pvalue.append(_pvalue)\n",
    "    ndf.append(_ndf)"
   ]
  },
  {
   "cell_type": "markdown",
   "id": "86f74bf8",
   "metadata": {},
   "source": [
    "### Extracting the data from the table as arrays"
   ]
  },
  {
   "cell_type": "code",
   "execution_count": 15,
   "id": "db199fb7-3cd2-4e47-9c7b-847732a6eb3d",
   "metadata": {},
   "outputs": [],
   "source": [
    "time_min, time_max = [], []\n",
    "delta_time, time_center = [], []\n",
    "flux, flux_stat_err = [], []\n",
    "run_num = []\n",
    "for observation, lightcurve in zip(observations, lightcurves):\n",
    "    _time_min = Time(np.hstack(lightcurve[\"time_min\"]), format='mjd').datetime\n",
    "    _time_max = Time(np.hstack(lightcurve[\"time_max\"]), format='mjd').datetime\n",
    "    time_min.append(_time_min)\n",
    "    time_max.append(_time_max)\n",
    "    delta_time.append(_time_max - _time_min)\n",
    "    time_center.append(_time_min + (_time_max - _time_min) / 2)\n",
    "    # Flux and flux error\n",
    "    flux.append(np.hstack(lightcurve[\"flux\"]))\n",
    "    flux_stat_err.append(np.hstack(lightcurve[\"flux_err\"]))\n",
    "    # run numbers\n",
    "    run_num.append([int(n) for n in observation.ids])\n"
   ]
  },
  {
   "cell_type": "markdown",
   "id": "497a6f3f",
   "metadata": {},
   "source": [
    "### The Crab Nebula reference from MAGIC"
   ]
  },
  {
   "cell_type": "code",
   "execution_count": 16,
   "id": "11909347-a4dc-42ed-802e-4b0a22665232",
   "metadata": {},
   "outputs": [],
   "source": [
    "crab = create_crab_spectral_model(\"magic_lp\")\n",
    "\n",
    "crab.amplitude.error = 0.03e-11 * u.Unit(\"cm-2 s-1 TeV-1\")\n",
    "crab.alpha.error = 0.01\n",
    "crab.beta.error = 0.01/np.log(10)\n",
    "\n",
    "flux_crab = crab.integral(e_lc_min, e_lc_max)\n",
    "flux_crab_error = flux_crab * 0"
   ]
  },
  {
   "cell_type": "markdown",
   "id": "e85290b3",
   "metadata": {},
   "source": [
    "### Plotting the LC"
   ]
  },
  {
   "cell_type": "code",
   "execution_count": 16,
   "id": "4cacabbc",
   "metadata": {},
   "outputs": [
    {
     "name": "stderr",
     "output_type": "stream",
     "text": [
      "\n",
      "KeyboardInterrupt\n",
      "\n"
     ]
    }
   ],
   "source": [
    "fig, ax = plt.subplots(figsize=(9, 4))\n",
    "\n",
    "# Plotting the Light Curve\n",
    "for i in range(len(lightcurves))[:]:\n",
    "    ax.errorbar(time_center[i], flux[i], yerr=flux_stat_err[i], color=color_plots[i], ls=\"\", marker=\".\", ms=8, \n",
    "                label=f\"LST-1 {dataset_labels[i]}\")\n",
    "    \n",
    "    # Mean flux + error\n",
    "    ax.axhline(mean_flux[i], ls=\"--\", color=color_plots[i], zorder=-1,)\n",
    "    ax.axhspan(mean_flux[i] - np.std(flux[i]), mean_flux[i] + np.std(flux[i]), color=color_plots[i], alpha=0.25, zorder=-1)\n",
    "\n",
    "ax.plot([], [], ls=\"--\", color=\"gray\", label=\"Mean flux\")\n",
    "# MAGIC reference\n",
    "ax.axhline(flux_crab.value, ls=\":\", color=\"k\", zorder=-1, label=\"MAGIC (Aleksić et al. 2015)\")\n",
    "\n",
    "energy_range = f\"{e_lc_min:.2f} < $E$ < {e_lc_max:.0f}\"\n",
    "ax.set_title(f\"Light curve of {target_name} ({energy_range})\")\n",
    "ax.set_ylabel(\"Flux [cm$^{-2}$ s$^{-1}$]\")\n",
    "ax.set_xlabel(\"Time [date]\")\n",
    "ax.legend(loc=3, frameon=True, ncols=3)\n",
    "ax.xaxis.set_major_locator(MonthLocator(interval=2))\n",
    "ax.xaxis.set_major_formatter(DateFormatter(\"%Y-%b\"))\n",
    "plt.xticks(rotation=0)\n",
    "ax.grid()\n",
    "ax.set_ylim(0, 4e-10)\n",
    "\n",
    "# plt.savefig(f\"plots/total.png\", bbox_inches=\"tight\", dpi=300)\n",
    "plt.show()"
   ]
  },
  {
   "cell_type": "markdown",
   "id": "cbab3e8f",
   "metadata": {},
   "source": [
    "### Plotting the LC run-wise"
   ]
  },
  {
   "cell_type": "code",
   "execution_count": null,
   "id": "677ed1ac",
   "metadata": {},
   "outputs": [],
   "source": [
    "fig, (ax, axv) = plt.subplots(1, 2, figsize=(18, 4), gridspec_kw={'width_ratios': [6, 1]}, sharey=True)\n",
    "\n",
    "# Plotting the Light Curve\n",
    "for i in range(len(lightcurves))[:]:\n",
    "\n",
    "    nanmask = (~np.isnan(flux[i]) & ~np.array([f>4.5e-10 or f<0.1e-10 for f in flux[i]]))\n",
    "    xplot, yplot, yerrplot = np.arange(len(flux[i]))[nanmask], flux[i][nanmask], flux_stat_err[i][nanmask]\n",
    "    ax.errorbar(xplot, yplot, yerr=yerrplot, color=color_plots[i], ls=\"\", marker=\".\", ms=8, \n",
    "                label=f\"LST-1 {dataset_labels[i]}\")\n",
    "    \n",
    "    # Mean flux + error\n",
    "    ax.axhline(mean_flux[i], ls=\"--\", color=color_plots[i], zorder=-1,)\n",
    "    ax.axhspan(mean_flux[i] - np.std(flux[i]), mean_flux[i] + np.std(flux[i]), color=color_plots[i], alpha=0.25, zorder=-1)\n",
    "\n",
    "ax.plot([], [], ls=\"--\", color=\"gray\", label=\"Mean flux\")\n",
    "\n",
    "energy_range = f\"{e_lc_min:.2f} < $E$ < {e_lc_max:.0f}\"\n",
    "ax.set_title(f\"Light curve of {target_name} ({energy_range})\")\n",
    "ax.set_ylabel(\"Flux [cm$^{-2}$ s$^{-1}$]\")\n",
    "ax.set_xlabel(\"# Run\")\n",
    "ax.legend(loc=3, frameon=True, ncols=4)\n",
    "ax.grid()\n",
    "\n",
    "# ax.set_ylim(0)\n",
    "\n",
    "# ax.set_ylim(0, 4e-10)\n",
    "bins = np.linspace(ax.get_ylim()[0], ax.get_ylim()[1], 24)\n",
    "\n",
    "for i in range(len(flux))[:]:\n",
    "\n",
    "    nanmask = (~np.isnan(flux[i]) & ~np.array([f>4.5e-10 or f<0.1e-10 for f in flux[i]]))\n",
    "    xplot, yplot, yerrplot = np.arange(len(flux[i]))[nanmask], flux[i][nanmask], flux_stat_err[i][nanmask]\n",
    "    \n",
    "    axv.hist(yplot, bins, color=color_plots[i], histtype=\"step\", orientation=\"horizontal\", lw=2, density=True,)\n",
    "    mu, std1 = norm.fit(yplot)\n",
    "    xmin, xmax = axv.get_ylim()\n",
    "    x = np.linspace(xmin, xmax, 100)\n",
    "    p = norm.pdf(x, mu, std1)\n",
    "    axv.plot(p, x, color=color_plots[i], linewidth=1, ls=\"--\")\n",
    "\n",
    "axv.set_xlabel(\"# runs (norm)\")\n",
    "\n",
    "\n",
    "plt.subplots_adjust(wspace=0, hspace=0)\n",
    "\n",
    "# plt.savefig(f\"plots/total.png\", bbox_inches=\"tight\", dpi=300)\n",
    "plt.show()"
   ]
  },
  {
   "cell_type": "code",
   "execution_count": null,
   "id": "9507e023-a0a7-4971-8cf7-d9ec145cee0d",
   "metadata": {},
   "outputs": [],
   "source": [
    "# f1 = \"flux_info_original.txt\"\n",
    "# f2 = \"flux_info_scaled.txt\"\n",
    "\n",
    "# obj1 = np.array([obs_ids[0], flux[0], flux_stat_err[0]])\n",
    "# obj2 = np.array([obs_ids[1], flux[1], flux_stat_err[1]])\n",
    "\n",
    "# # with open(f1, \"wb\") as f:\n",
    "# np.savetxt(f1, obj1, )\n",
    "# np.savetxt(f2, obj2, )\n",
    "\n",
    "# obs_id, flux, flux_err = np.loadtxt(\"flux_info_original.txt\")\n",
    "# obs_id_scaled, flux_scaled, flux_err_scaled = np.loadtxt(\"flux_info_scaled.txt\")"
   ]
  },
  {
   "cell_type": "code",
   "execution_count": null,
   "id": "507d2511-ff39-4540-8f66-5dbc74afbbdc",
   "metadata": {},
   "outputs": [],
   "source": [
    "def calculate_chi2_pvalue_array(flux, flux_err, sys_error=0):\n",
    "    uncertainty = np.sqrt((sys_error * flux)**2 + flux_err**2)\n",
    "    mean_flux = (flux/uncertainty**2).sum() / (1/uncertainty**2).sum()\n",
    "    mean_flux_err = np.sqrt(1/np.sum(1/uncertainty**2))\n",
    "    \n",
    "    chi2_value = np.sum((flux - mean_flux)**2/uncertainty**2)\n",
    "    ndf = len(flux) - 1\n",
    "    pvalue = chi2.sf(x=chi2_value, df=ndf)\n",
    "    return chi2_value, ndf, pvalue\n",
    "\n",
    "Niter = 500\n",
    "sys = np.linspace(0, 0.20, Niter)\n",
    "chi2_sys, pvalue_sys, sigma_sys = [], [], []\n",
    "\n",
    "for i in range(len(flux)):\n",
    "    \n",
    "    nanmask = (~np.isnan(flux[i]) & ~np.array([f>4.5e-10 or f<0.1e-10 for f in flux[i]]))\n",
    "    xplot, yplot, yerrplot = np.arange(len(flux[i]))[nanmask], flux[i][nanmask], flux_stat_err[i][nanmask]\n",
    "    \n",
    "    _chi2_sys, _pvalue_sys, _sigma_sys = [], [], []\n",
    "    \n",
    "    for s in sys:\n",
    "\n",
    "        _chi2_value, _ndf, _pvalue = calculate_chi2_pvalue_array(yplot, yerrplot, sys_error=s)\n",
    "    \n",
    "        _chi2_sys.append(_chi2_value)\n",
    "        _pvalue_sys.append(_pvalue)\n",
    "        _sigma_sys.append(norm.ppf(1 - _pvalue))\n",
    "    chi2_sys.append(_chi2_sys)\n",
    "    pvalue_sys.append(_pvalue_sys)\n",
    "    sigma_sys.append(_sigma_sys)\n",
    "    "
   ]
  },
  {
   "cell_type": "code",
   "execution_count": null,
   "id": "aec1a479-d889-4b55-81be-7e00cc64a811",
   "metadata": {},
   "outputs": [],
   "source": [
    "sys_error = []\n",
    "for i in range(len(flux)):\n",
    "    # Calculating the systematic error and the difference\n",
    "    for j in range(len(sys)-1):\n",
    "        if pvalue_sys[i][j] < 0.5 and pvalue_sys[i][j+1] >= 0.5:\n",
    "            flag = j\n",
    "    sys_error.append(sys[flag])\n",
    "    print(f\"Systematic uncertainty ({dataset_labels[i]}) = {sys[flag]*100:.2f}%\")\n",
    "\n",
    "fig, ax = plt.subplots(figsize=(6,4))\n",
    "\n",
    "for i in range(len(sigma_sys)):\n",
    "    ax.plot(sys*100, pvalue_sys[i], color=color_plots[i], label=f\"{dataset_labels[i]}\")\n",
    "    \n",
    "ax.set_ylabel(\"p-value\")\n",
    "ax.set_xlabel(\"Systematic error [%]\")\n",
    "ax.grid()\n",
    "ax.legend()\n",
    "# plt.savefig(f\"plots/total.png\", bbox_inches=\"tight\", dpi=300)\n",
    "plt.show()"
   ]
  },
  {
   "cell_type": "code",
   "execution_count": null,
   "id": "8382e460-1969-4c87-a2c7-bfe43f577298",
   "metadata": {},
   "outputs": [],
   "source": [
    "sys_error = []\n",
    "for i in range(len(flux)):\n",
    "    # Calculating the systematic error and the difference\n",
    "    for j in range(len(sys)-1):\n",
    "        if pvalue_sys[i][j] < 0.5 and pvalue_sys[i][j+1] >= 0.5:\n",
    "            flag = j\n",
    "    sys_error.append(sys[flag])\n",
    "    print(f\"Systematic uncertainty ({dataset_labels[i]}) = {sys[flag]*100:.2f}%\")\n",
    "\n",
    "fig, ax = plt.subplots(figsize=(6,4))\n",
    "\n",
    "color_ = [\"r\", \"r\", \"darkorange\", \"darkorange\", \"b\", \"b\"]\n",
    "lss = [\"--\", \"-\", \"--\", \"-\", \"--\", \"-\"]\n",
    "for i in range(len(sigma_sys)):\n",
    "    ax.plot(sys*100, pvalue_sys[i], color=color_[i], ls = lss[i], label=f\"{dataset_labels[i]}\")\n",
    "    \n",
    "ax.set_ylabel(\"p-value\")\n",
    "ax.set_xlabel(\"Systematic error [%]\")\n",
    "ax.grid()\n",
    "ax.legend()\n",
    "# plt.savefig(f\"plots/total.png\", bbox_inches=\"tight\", dpi=300)\n",
    "plt.show()"
   ]
  },
  {
   "cell_type": "code",
   "execution_count": null,
   "id": "3db59d18-6f5a-4499-a832-ba63581bc6e4",
   "metadata": {},
   "outputs": [],
   "source": [
    "%%time\n",
    "N = 1000\n",
    "\n",
    "# corrections\n",
    "corrections = flux[1] / flux[0]\n",
    "\n",
    "iter_fluxes = []\n",
    "chi2_i, pvalue_i, sigma_i = [], [], []\n",
    "sys_i = []\n",
    "for i in range(N):\n",
    "\n",
    "    mask = np.random.permutation(range(len(flux[0])))\n",
    "\n",
    "    f = flux[0] * corrections[mask]\n",
    "    uf = flux_stat_err[0]\n",
    "    \n",
    "   \n",
    "\n",
    "    _chi2_sys, _pvalue_sys, _sigma_sys = [], [], []\n",
    "    for s in sys:\n",
    "        _chi2_value, _ndf, _pvalue = calculate_chi2_pvalue_array(f, uf, sys_error=s)\n",
    "    \n",
    "        _chi2_sys.append(_chi2_value)\n",
    "        _pvalue_sys.append(_pvalue)\n",
    "        _sigma_sys.append(norm.ppf(1 - _pvalue))\n",
    "    chi2_i.append(_chi2_sys)\n",
    "    pvalue_i.append(_pvalue_sys)\n",
    "    sigma_i.append(_sigma_sys)\n",
    "\n",
    "    iter_fluxes.append(f)\n",
    "\n",
    "    \n",
    "    for j in range(len(_pvalue_sys)-1):\n",
    "        if _pvalue_sys[j] < 0.5 and _pvalue_sys[j+1] >= 0.5:\n",
    "            flag = j\n",
    "    sys_i.append(sys[flag])"
   ]
  },
  {
   "cell_type": "code",
   "execution_count": null,
   "id": "09019919-621e-4d94-91c7-7b6be6ad41f7",
   "metadata": {},
   "outputs": [],
   "source": [
    "fig, (ax1, ax2) = plt.subplots(1, 2, figsize=(12, 4), )\n",
    "\n",
    "ax1.hist(np.array(sys_i)*100, bins=30, color=\"lightgray\", density=True)\n",
    "ax2.hist(np.array(chi2_i)[:,0], bins=30, color=\"lightgray\", density=True)\n",
    "for i in range(len(sys_error))[:2]:\n",
    "    ax1.axvline(sys_error[i] * 100, color=color_plots[i], label=dataset_labels[i], ls=\"--\")\n",
    "    ax2.axvline(chi2_sys[i][0], color=color_plots[i], label=dataset_labels[i], ls=\"--\")\n",
    "\n",
    "\n",
    "mu1, std1 = norm.fit(np.array(sys_i)*100)\n",
    "xmin, xmax = ax1.get_xlim()\n",
    "x = np.linspace(xmin, xmax, 100)\n",
    "p = norm.pdf(x, mu1, std1)\n",
    "ax1.plot(x, p, color=\"k\", ls=\"-\")\n",
    "\n",
    "mu2, std2 = norm.fit(np.array(chi2_i)[:,0])\n",
    "xmin, xmax = ax2.get_xlim()\n",
    "x = np.linspace(xmin, xmax, 100)\n",
    "p = norm.pdf(x, mu2, std2)\n",
    "ax2.plot(x, p, color=\"k\", ls=\"-\")\n",
    "\n",
    "ax1.set_ylabel(\"normalized counts\")\n",
    "fig.suptitle(f\"{N} simulations\")\n",
    "ax1.set_xlabel(\"systematic uncertainty [%]\")\n",
    "ax2.set_xlabel(\"$\\\\chi^2$\")\n",
    "ax1.legend()\n",
    "ax2.legend()\n",
    "\n",
    "fig.tight_layout()\n",
    "\n",
    "plt.savefig(f\"plots/total.png\", bbox_inches=\"tight\", dpi=300)\n",
    "plt.show()"
   ]
  },
  {
   "cell_type": "code",
   "execution_count": null,
   "id": "9901b05f-7c2f-458e-a35e-da8b3bba2785",
   "metadata": {},
   "outputs": [],
   "source": [
    "import scipy.stats as stats\n",
    "z_score = (chi2_sys[1][0] - mu2) / std2\n",
    "\n",
    "probability = stats.norm.cdf(z_score)\n",
    "print(\"probability = \", 100-probability * 100, \"%\")\n",
    "\n",
    "nmax = 0\n",
    "for s in np.array(chi2_i)[:,0]:\n",
    "    if s <= chi2_sys[1][0]:\n",
    "        nmax = nmax + 1\n",
    "print(f\"result      = {nmax}/{N}, {nmax/N*100:.3f}%\")"
   ]
  },
  {
   "cell_type": "code",
   "execution_count": null,
   "id": "276c155e-df9b-467c-a14a-6ee8233afa0a",
   "metadata": {},
   "outputs": [],
   "source": [
    "import scipy.stats as stats\n",
    "z_score = (sys_error[1] * 100 - mu1) / std1\n",
    "\n",
    "probability = stats.norm.cdf(z_score)\n",
    "print(\"probability = \", 100-probability * 100, \"%\")\n",
    "\n",
    "nmax = 0\n",
    "for s in np.array(sys_i)*100:\n",
    "    if s <= sys_error[1]*100:\n",
    "        nmax = nmax + 1\n",
    "print(f\"result      = {nmax}/{N}, {nmax/N*100:.3f}%\")"
   ]
  },
  {
   "cell_type": "markdown",
   "id": "f29e48d9",
   "metadata": {},
   "source": [
    "### Now we put all inside a dict and we store it in a file"
   ]
  },
  {
   "cell_type": "code",
   "execution_count": null,
   "id": "08ea9780",
   "metadata": {},
   "outputs": [],
   "source": [
    "# dict_total = {\n",
    "    \n",
    "#     \"dict_model\" : best_fit_model.to_dict(), # SkyModel.from_dict(<>)\n",
    "    \n",
    "#     \"table_sed\"  : flux_points.to_table(),   # FluxPoints.from_table(<>)\n",
    "\n",
    "#     \"lightcurve\" : {\n",
    "\n",
    "#         \"run_number\" : run_num,\n",
    "#         \"t_start\"    : time_min,\n",
    "#         \"t_stop\"     : time_max,\n",
    "#         \"timedelta\"  : delta_time,\n",
    "#         \"flux\"       : flux_lst1,\n",
    "#         \"e_flux\"     : flux_stat_err_lst1,\n",
    "        \n",
    "#         \"global\" : {\n",
    "#             \"e_min\"               : e_lc_min,\n",
    "#             \"e_max\"               : e_lc_max,\n",
    "#             \"n_off_regions\"       : n_off_regions,\n",
    "#             \"target_name\"         : target_name,\n",
    "#             \"crab_reference_flux\" : flux_crab,\n",
    "#             \"chi2\"                : chi2_val,\n",
    "#             \"pvalue\"              : pvalue\n",
    "#         }\n",
    "#     }\n",
    "# }\n",
    "\n",
    "\n",
    "# # Saving the object\n",
    "# # with open(fname_dict, 'wb') as f:\n",
    "# #     pickle.dump(dict_total, f, pickle.HIGHEST_PROTOCOL)"
   ]
  },
  {
   "cell_type": "code",
   "execution_count": null,
   "id": "b52ef8f7-5f3c-40c9-bf47-ae2fe88a4d6f",
   "metadata": {},
   "outputs": [],
   "source": []
  },
  {
   "cell_type": "code",
   "execution_count": null,
   "id": "c212ff66-646c-4e7c-bead-4817d70f99db",
   "metadata": {},
   "outputs": [],
   "source": []
  },
  {
   "cell_type": "code",
   "execution_count": null,
   "id": "94e98200-b3e8-4e70-a986-f7497fd52771",
   "metadata": {},
   "outputs": [],
   "source": []
  },
  {
   "cell_type": "code",
   "execution_count": null,
   "id": "0d6be7a9-5a07-4aa6-b366-48750e259a7f",
   "metadata": {},
   "outputs": [],
   "source": [
    "# Function to sort files based on limit\n",
    "def get_limit(filename):\n",
    "    return float(filename.split('_')[-1][:-7])\n",
    "\n",
    "# Directory containing the .pkl files\n",
    "folder_path = root + f\"objects/tests_flux_dispersion/\"\n",
    "\n",
    "# List to store limit and sys_error values\n",
    "limits     = []\n",
    "_sys_errors = []\n",
    "ff = []\n",
    "ff_s = []\n",
    "\n",
    "# Iterate over each file in the directory\n",
    "for filename in sorted(os.listdir(folder_path), key=get_limit):\n",
    "    if filename.endswith(\".pkl\"):\n",
    "        file_path = os.path.join(folder_path, filename)\n",
    "        with open(file_path, 'rb') as f:\n",
    "            data = pickle.load(f)\n",
    "            limit = data['integrating_energy']\n",
    "            sys_error__ = data['sys_error']\n",
    "            limits.append(limit)\n",
    "            _sys_errors.append(sys_error__)\n",
    "            ff.append(data[\"flux\"][0])\n",
    "            ff_s.append(data[\"flux\"][1])\n",
    "\n",
    "sys_errors = [[], [], []]\n",
    "for s in _sys_errors:\n",
    "    s1, s2, s3 = s\n",
    "    sys_errors[0].append(s1)\n",
    "    sys_errors[1].append(s2)\n",
    "    sys_errors[2].append(s3)\n",
    "    \n",
    "# Plotting limit vs sys_error\n",
    "plt.figure(figsize=(8, 4))\n",
    "plt.plot(limits, np.array(sys_errors[1])*100, marker=\"\", ls='-', color=\"k\")\n",
    "plt.plot(limits, np.array(sys_errors[0])*100, marker=\"\", ls='--', color=\"r\")\n",
    "plt.plot(limits, np.array(sys_errors[2])*100, marker=\"\", ls='--', color=\"g\")\n",
    "plt.xlabel('Integrating limit [TeV]')\n",
    "plt.ylabel('Systematic Error [%]')\n",
    "plt.xscale(\"log\")\n",
    "plt.grid(True)\n",
    "plt.show()"
   ]
  },
  {
   "cell_type": "code",
   "execution_count": null,
   "id": "3376e73f-0ae4-455c-a44a-c12d3c239c8f",
   "metadata": {},
   "outputs": [],
   "source": [
    "for i, f in enumerate(ff):\n",
    "    if i % 20 == 0:\n",
    "        plt.plot(f, \".-\")\n",
    "\n",
    "plt.yscale(\"log\")\n",
    "plt.show()"
   ]
  }
 ],
 "metadata": {
  "kernelspec": {
   "display_name": "Python 3 (ipykernel)",
   "language": "python",
   "name": "python3"
  },
  "language_info": {
   "codemirror_mode": {
    "name": "ipython",
    "version": 3
   },
   "file_extension": ".py",
   "mimetype": "text/x-python",
   "name": "python",
   "nbconvert_exporter": "python",
   "pygments_lexer": "ipython3",
   "version": "3.11.6"
  }
 },
 "nbformat": 4,
 "nbformat_minor": 5
}
