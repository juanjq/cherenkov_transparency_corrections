{
 "cells": [
  {
   "cell_type": "markdown",
   "id": "7c9926e2-94db-470e-b960-a8675c51cc16",
   "metadata": {},
   "source": [
    "## Import needed packages and scripts"
   ]
  },
  {
   "cell_type": "code",
   "execution_count": null,
   "id": "ca3d8e2d-07d4-4589-828f-9ac6bc58d700",
   "metadata": {},
   "outputs": [],
   "source": [
    "import matplotlib.pyplot as plt\n",
    "import numpy as np\n",
    "import astropy.units as u\n",
    "from datetime import datetime, timedelta\n",
    "import pickle, json, sys, os, glob\n",
    "import pandas as pd\n",
    "pd.set_option(\"display.max_columns\", None)\n",
    "\n",
    "from IPython.display import display, HTML\n",
    "display(HTML(\"<style>.container { width:100% !important; }</style>\"))\n",
    "\n",
    "# Importing custom utility functions\n",
    "sys.path.insert(0, os.getcwd() + \"/../scripts/\")\n",
    "import auxiliar as aux\n",
    "import geometry as geom"
   ]
  },
  {
   "cell_type": "markdown",
   "id": "a3394432-cd3c-4f45-9027-35593140df86",
   "metadata": {},
   "source": [
    "## Some configuration"
   ]
  },
  {
   "cell_type": "code",
   "execution_count": null,
   "id": "c0223549-96a8-4b13-be10-eb708c92b09f",
   "metadata": {},
   "outputs": [],
   "source": []
  },
  {
   "cell_type": "markdown",
   "id": "5c3edaf5-c44f-48a5-bc83-34e30e7a9266",
   "metadata": {},
   "source": [
    "## Paths and directories"
   ]
  },
  {
   "cell_type": "code",
   "execution_count": null,
   "id": "dc0d3e92-c6f0-4d1a-ae02-cc8ad55af713",
   "metadata": {},
   "outputs": [],
   "source": []
  },
  {
   "cell_type": "markdown",
   "id": "1842dd4c-81ad-4064-99a4-22a44278bb0f",
   "metadata": {},
   "source": [
    "# Datachecks information\n",
    "\n",
    "## `cosmics_intensity_spectrum`\n",
    "\n",
    "yyyymmdd, ra_tel, dec_tel, cos_zenith, az_tel, runnumber,\n",
    "       subrun, time, elapsed_time, corrected_elapsed_time,\n",
    "       cosmics_rate, cosmics_cleaned_rate, intensity_at_half_peak_rate,\n",
    "       ZD_corrected_intensity_at_half_peak_rate, cosmics_peak_rate,\n",
    "       ZD_corrected_cosmics_peak_rate, cosmics_rate_at_422_pe,\n",
    "       ZD_corrected_cosmics_rate_at_422_pe, cosmics_spectral_index,\n",
    "       ZD_corrected_cosmics_spectral_index, intensity_spectrum_fit_p_value,\n",
    "       intensity_at_reference_rate, diffuse_nsb_std,\n",
    "       num_star_affected_pixels, anomalous_low_intensity_peak\n",
    "\n",
    "## `runsummary`\n",
    "\n",
    "runnumber, time, elapsed_time, min_altitude, mean_altitude,\n",
    "       max_altitude, min_azimuth, max_azimuth, mean_azimuth, mean_ra,\n",
    "       mean_dec, num_cosmics, num_pedestals, num_flatfield,\n",
    "       num_unknown_ucts_trigger_tags, num_wrong_ucts_tags_in_cosmics,\n",
    "       num_wrong_ucts_tags_in_pedestals, num_wrong_ucts_tags_in_flatfield,\n",
    "       num_ucts_jumps, num_unknown_tib_trigger_tags,\n",
    "       num_wrong_tib_tags_in_cosmics, num_wrong_tib_tags_in_pedestals,\n",
    "       num_wrong_tib_tags_in_flatfield, num_pedestals_after_cleaning,\n",
    "       num_contained_mu_rings, ff_charge_mean, ff_charge_mean_err,\n",
    "       ff_charge_stddev, ff_time_mean, ff_time_mean_err,\n",
    "       ff_time_stddev, ff_rel_time_stddev, ped_charge_mean,\n",
    "       ped_charge_mean_err, ped_charge_stddev,\n",
    "       ped_fraction_pulses_above10, ped_fraction_pulses_above30,\n",
    "       cosmics_fraction_pulses_above10, cosmics_fraction_pulses_above30,\n",
    "       mu_effi_mean, mu_effi_stddev, mu_width_mean, mu_width_stddev,\n",
    "       mu_hg_peak_sample_mean, mu_hg_peak_sample_stddev,\n",
    "       mu_intensity_mean, mean_number_of_pixels_nearby_stars\n",
    "       \n",
    "## Weather Station data\n",
    "\n",
    "sun_alt, sun_az, fBits, mjd, temperature, pressure,\n",
    "       windDirection, humidity, windSpeedCurrent, windGust,\n",
    "       windSpeedAverage, windDirectionAverage, tempSensor, tngDust,\n",
    "       tngSeeing, rain, state, Any, Mes, DP, diff1, is_dup,\n",
    "       temperatureR"
   ]
  },
  {
   "cell_type": "code",
   "execution_count": null,
   "id": "9fb3f6f8-7afb-4676-ac1e-0f0491ff5f78",
   "metadata": {},
   "outputs": [],
   "source": []
  },
  {
   "cell_type": "code",
   "execution_count": null,
   "id": "ec974508-db74-4d62-828b-522f8cfccdb1",
   "metadata": {},
   "outputs": [],
   "source": []
  }
 ],
 "metadata": {
  "kernelspec": {
   "display_name": "Python 3 (ipykernel)",
   "language": "python",
   "name": "python3"
  },
  "language_info": {
   "codemirror_mode": {
    "name": "ipython",
    "version": 3
   },
   "file_extension": ".py",
   "mimetype": "text/x-python",
   "name": "python",
   "nbconvert_exporter": "python",
   "pygments_lexer": "ipython3",
   "version": "3.11.6"
  }
 },
 "nbformat": 4,
 "nbformat_minor": 5
}
